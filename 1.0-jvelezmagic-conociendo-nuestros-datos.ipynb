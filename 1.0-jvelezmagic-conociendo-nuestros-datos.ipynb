{
 "cells": [
  {
   "cell_type": "markdown",
   "metadata": {
    "cell_id": "69d75817c77549fdb750ef26477e0eea",
    "deepnote_app_coordinates": {
     "h": 5,
     "w": 12,
     "x": 0,
     "y": null
    },
    "deepnote_cell_type": "markdown",
    "tags": []
   },
   "source": [
    "# Conociendo nuestros datos de pingüinos. 🗺🧭🐧"
   ]
  },
  {
   "cell_type": "markdown",
   "metadata": {
    "cell_id": "fe5614a670314f03a9675f5655e5568f",
    "deepnote_app_coordinates": {
     "h": 5,
     "w": 12,
     "x": 0,
     "y": 6
    },
    "deepnote_cell_type": "markdown",
    "tags": []
   },
   "source": [
    "## Instalar librerías necesarias"
   ]
  },
  {
   "cell_type": "markdown",
   "metadata": {
    "cell_id": "6281c3956c654d7d93d0320bcdc4802d",
    "deepnote_app_coordinates": {
     "h": 5,
     "w": 12,
     "x": 0,
     "y": 12
    },
    "deepnote_cell_type": "markdown",
    "tags": []
   },
   "source": [
    "```\n",
    "!pip install --upgrade pip\n",
    "```\n",
    "```\n",
    "!pip install palmerpenguins==0.1.4 numpy==1.23.4 pandas==1.5.1 seaborn==0.12.1 matplotlib==3.6.0 empiricaldist==0.6.7 statsmodels==0.13.5 scikit-learn==1.1.2 pyjanitor==0.23.1 session-info\n",
    "```"
   ]
  },
  {
   "cell_type": "markdown",
   "metadata": {
    "cell_id": "9675c8aa969846b1a96f79f198f7d868",
    "deepnote_app_coordinates": {
     "h": 5,
     "w": 12,
     "x": 0,
     "y": 18
    },
    "deepnote_cell_type": "markdown",
    "deepnote_to_be_reexecuted": false,
    "execution_millis": 1,
    "execution_start": 1652835801149,
    "source_hash": "93ea9879",
    "tags": []
   },
   "source": [
    "## Importar librerías"
   ]
  },
  {
   "cell_type": "code",
   "execution_count": 1,
   "metadata": {
    "cell_id": "f22e35ee492747e195ee973d9d55c8d5",
    "deepnote_app_coordinates": {
     "h": 5,
     "w": 12,
     "x": 0,
     "y": 24
    },
    "deepnote_cell_type": "code",
    "deepnote_to_be_reexecuted": false,
    "execution_millis": 2345,
    "execution_start": 1684976538611,
    "output_cleared": false,
    "source_hash": "81919a32",
    "tags": []
   },
   "outputs": [],
   "source": [
    "import empiricaldist\n",
    "import janitor\n",
    "import matplotlib.pyplot as plt\n",
    "import numpy as np\n",
    "import palmerpenguins\n",
    "import pandas as pd\n",
    "import scipy.stats\n",
    "import seaborn as sns\n",
    "import sklearn.metrics\n",
    "import statsmodels.api as sm\n",
    "import statsmodels.formula.api as smf\n",
    "import statsmodels.stats as ss\n",
    "import session_info"
   ]
  },
  {
   "cell_type": "markdown",
   "metadata": {
    "cell_id": "395886a946094d48aa332ea24b110c31",
    "deepnote_app_coordinates": {
     "h": 5,
     "w": 12,
     "x": 0,
     "y": 30
    },
    "deepnote_cell_type": "markdown",
    "tags": []
   },
   "source": [
    "## Establecer apariencia general de los gráficos"
   ]
  },
  {
   "cell_type": "code",
   "execution_count": 2,
   "metadata": {
    "cell_id": "ba305e8a8aab4b6fa90115a7b6becbf0",
    "deepnote_app_coordinates": {
     "h": 5,
     "w": 12,
     "x": 0,
     "y": 36
    },
    "deepnote_cell_type": "code",
    "deepnote_to_be_reexecuted": false,
    "execution_millis": 23,
    "execution_start": 1684976540952,
    "output_cleared": false,
    "source_hash": "f87a87ef",
    "tags": []
   },
   "outputs": [],
   "source": [
    "%matplotlib inline\n",
    "sns.set_style(style='whitegrid')\n",
    "sns.set_context(context='notebook')\n",
    "plt.rcParams['figure.figsize'] = (11, 9.4)\n",
    "\n",
    "penguin_color = {\n",
    "    'Adelie': '#ff6602ff',\n",
    "    'Gentoo': '#0f7175ff',\n",
    "    'Chinstrap': '#c65dc9ff'\n",
    "}"
   ]
  },
  {
   "cell_type": "markdown",
   "metadata": {
    "cell_id": "6292e131b06246d4a8c8f080b9046287",
    "deepnote_app_coordinates": {
     "h": 5,
     "w": 12,
     "x": 0,
     "y": 42
    },
    "deepnote_cell_type": "markdown",
    "tags": []
   },
   "source": [
    "## Cargar los datos"
   ]
  },
  {
   "cell_type": "markdown",
   "metadata": {
    "cell_id": "94c1d04149404ee7b3d4f06365f50c36",
    "deepnote_app_coordinates": {
     "h": 5,
     "w": 12,
     "x": 0,
     "y": 48
    },
    "deepnote_cell_type": "markdown",
    "tags": []
   },
   "source": [
    "### Utilizando el paquete `palmerpenguins`"
   ]
  },
  {
   "cell_type": "markdown",
   "metadata": {
    "cell_id": "5ac2d2b6644745988b7285f6dbea2e72",
    "deepnote_app_coordinates": {
     "h": 5,
     "w": 12,
     "x": 0,
     "y": 54
    },
    "deepnote_cell_type": "markdown",
    "tags": []
   },
   "source": [
    "#### Datos crudos"
   ]
  },
  {
   "cell_type": "code",
   "execution_count": 3,
   "metadata": {
    "cell_id": "11d03202017c4e419f7f0d32c3078144",
    "deepnote_app_coordinates": {
     "h": 5,
     "w": 12,
     "x": 0,
     "y": 60
    },
    "deepnote_cell_type": "code",
    "deepnote_to_be_reexecuted": false,
    "execution_millis": 106,
    "execution_start": 1684976540980,
    "output_cleared": false,
    "source_hash": "c18b257f",
    "tags": []
   },
   "outputs": [
    {
     "data": {
      "application/vnd.deepnote.dataframe.v3+json": {
       "column_count": 17,
       "columns": [
        {
         "dtype": "object",
         "name": "studyName",
         "stats": {
          "categories": [
           {
            "count": 120,
            "name": "PAL0910"
           },
           {
            "count": 114,
            "name": "PAL0809"
           },
           {
            "count": 110,
            "name": "PAL0708"
           }
          ],
          "nan_count": 0,
          "unique_count": 3
         }
        },
        {
         "dtype": "int64",
         "name": "Sample Number",
         "stats": {
          "histogram": [
           {
            "bin_end": 16.1,
            "bin_start": 1,
            "count": 48
           },
           {
            "bin_end": 31.2,
            "bin_start": 16.1,
            "count": 45
           },
           {
            "bin_end": 46.3,
            "bin_start": 31.2,
            "count": 45
           },
           {
            "bin_end": 61.4,
            "bin_start": 46.3,
            "count": 45
           },
           {
            "bin_end": 76.5,
            "bin_start": 61.4,
            "count": 37
           },
           {
            "bin_end": 91.6,
            "bin_start": 76.5,
            "count": 30
           },
           {
            "bin_end": 106.7,
            "bin_start": 91.6,
            "count": 30
           },
           {
            "bin_end": 121.8,
            "bin_start": 106.7,
            "count": 30
           },
           {
            "bin_end": 136.9,
            "bin_start": 121.8,
            "count": 18
           },
           {
            "bin_end": 152,
            "bin_start": 136.9,
            "count": 16
           }
          ],
          "max": "152",
          "min": "1",
          "nan_count": 0,
          "unique_count": 152
         }
        },
        {
         "dtype": "object",
         "name": "Species",
         "stats": {
          "categories": [
           {
            "count": 152,
            "name": "Adelie Penguin (Pygoscelis adeliae)"
           },
           {
            "count": 124,
            "name": "Gentoo penguin (Pygoscelis papua)"
           },
           {
            "count": 68,
            "name": "Chinstrap penguin (Pygoscelis antarctica)"
           }
          ],
          "nan_count": 0,
          "unique_count": 3
         }
        },
        {
         "dtype": "object",
         "name": "Region",
         "stats": {
          "categories": [
           {
            "count": 344,
            "name": "Anvers"
           }
          ],
          "nan_count": 0,
          "unique_count": 1
         }
        },
        {
         "dtype": "object",
         "name": "Island",
         "stats": {
          "categories": [
           {
            "count": 168,
            "name": "Biscoe"
           },
           {
            "count": 124,
            "name": "Dream"
           },
           {
            "count": 52,
            "name": "Torgersen"
           }
          ],
          "nan_count": 0,
          "unique_count": 3
         }
        },
        {
         "dtype": "object",
         "name": "Stage",
         "stats": {
          "categories": [
           {
            "count": 344,
            "name": "Adult, 1 Egg Stage"
           }
          ],
          "nan_count": 0,
          "unique_count": 1
         }
        },
        {
         "dtype": "object",
         "name": "Individual ID",
         "stats": {
          "categories": [
           {
            "count": 3,
            "name": "N6A1"
           },
           {
            "count": 3,
            "name": "N6A2"
           },
           {
            "count": 338,
            "name": "188 others"
           }
          ],
          "nan_count": 0,
          "unique_count": 190
         }
        },
        {
         "dtype": "object",
         "name": "Clutch Completion",
         "stats": {
          "categories": [
           {
            "count": 308,
            "name": "Yes"
           },
           {
            "count": 36,
            "name": "No"
           }
          ],
          "nan_count": 0,
          "unique_count": 2
         }
        },
        {
         "dtype": "object",
         "name": "Date Egg",
         "stats": {
          "categories": [
           {
            "count": 18,
            "name": "2007-11-27"
           },
           {
            "count": 16,
            "name": "2007-11-16"
           },
           {
            "count": 310,
            "name": "48 others"
           }
          ],
          "nan_count": 0,
          "unique_count": 50
         }
        },
        {
         "dtype": "float64",
         "name": "Culmen Length (mm)",
         "stats": {
          "histogram": [
           {
            "bin_end": 34.85,
            "bin_start": 32.1,
            "count": 9
           },
           {
            "bin_end": 37.6,
            "bin_start": 34.85,
            "count": 40
           },
           {
            "bin_end": 40.35,
            "bin_start": 37.6,
            "count": 57
           },
           {
            "bin_end": 43.1,
            "bin_start": 40.35,
            "count": 48
           },
           {
            "bin_end": 45.85,
            "bin_start": 43.1,
            "count": 49
           },
           {
            "bin_end": 48.6,
            "bin_start": 45.85,
            "count": 55
           },
           {
            "bin_end": 51.35,
            "bin_start": 48.6,
            "count": 61
           },
           {
            "bin_end": 54.1,
            "bin_start": 51.35,
            "count": 16
           },
           {
            "bin_end": 56.85,
            "bin_start": 54.1,
            "count": 5
           },
           {
            "bin_end": 59.6,
            "bin_start": 56.85,
            "count": 2
           }
          ],
          "max": "59.6",
          "min": "32.1",
          "nan_count": 2,
          "unique_count": 164
         }
        },
        {
         "dtype": "float64",
         "name": "Culmen Depth (mm)",
         "stats": {
          "histogram": [
           {
            "bin_end": 13.94,
            "bin_start": 13.1,
            "count": 21
           },
           {
            "bin_end": 14.78,
            "bin_start": 13.94,
            "count": 35
           },
           {
            "bin_end": 15.620000000000001,
            "bin_start": 14.78,
            "count": 32
           },
           {
            "bin_end": 16.46,
            "bin_start": 15.620000000000001,
            "count": 34
           },
           {
            "bin_end": 17.3,
            "bin_start": 16.46,
            "count": 44
           },
           {
            "bin_end": 18.14,
            "bin_start": 17.3,
            "count": 55
           },
           {
            "bin_end": 18.98,
            "bin_start": 18.14,
            "count": 56
           },
           {
            "bin_end": 19.82,
            "bin_start": 18.98,
            "count": 39
           },
           {
            "bin_end": 20.66,
            "bin_start": 19.82,
            "count": 16
           },
           {
            "bin_end": 21.5,
            "bin_start": 20.66,
            "count": 10
           }
          ],
          "max": "21.5",
          "min": "13.1",
          "nan_count": 2,
          "unique_count": 80
         }
        },
        {
         "dtype": "float64",
         "name": "Flipper Length (mm)",
         "stats": {
          "histogram": [
           {
            "bin_end": 177.9,
            "bin_start": 172,
            "count": 3
           },
           {
            "bin_end": 183.8,
            "bin_start": 177.9,
            "count": 22
           },
           {
            "bin_end": 189.7,
            "bin_start": 183.8,
            "count": 52
           },
           {
            "bin_end": 195.6,
            "bin_start": 189.7,
            "count": 79
           },
           {
            "bin_end": 201.5,
            "bin_start": 195.6,
            "count": 44
           },
           {
            "bin_end": 207.4,
            "bin_start": 201.5,
            "count": 15
           },
           {
            "bin_end": 213.3,
            "bin_start": 207.4,
            "count": 42
           },
           {
            "bin_end": 219.2,
            "bin_start": 213.3,
            "count": 42
           },
           {
            "bin_end": 225.1,
            "bin_start": 219.2,
            "count": 28
           },
           {
            "bin_end": 231,
            "bin_start": 225.1,
            "count": 15
           }
          ],
          "max": "231.0",
          "min": "172.0",
          "nan_count": 2,
          "unique_count": 55
         }
        },
        {
         "dtype": "float64",
         "name": "Body Mass (g)",
         "stats": {
          "histogram": [
           {
            "bin_end": 3060,
            "bin_start": 2700,
            "count": 15
           },
           {
            "bin_end": 3420,
            "bin_start": 3060,
            "count": 43
           },
           {
            "bin_end": 3780,
            "bin_start": 3420,
            "count": 71
           },
           {
            "bin_end": 4140,
            "bin_start": 3780,
            "count": 53
           },
           {
            "bin_end": 4500,
            "bin_start": 4140,
            "count": 42
           },
           {
            "bin_end": 4860,
            "bin_start": 4500,
            "count": 41
           },
           {
            "bin_end": 5220,
            "bin_start": 4860,
            "count": 28
           },
           {
            "bin_end": 5580,
            "bin_start": 5220,
            "count": 27
           },
           {
            "bin_end": 5940,
            "bin_start": 5580,
            "count": 16
           },
           {
            "bin_end": 6300,
            "bin_start": 5940,
            "count": 6
           }
          ],
          "max": "6300.0",
          "min": "2700.0",
          "nan_count": 2,
          "unique_count": 94
         }
        },
        {
         "dtype": "object",
         "name": "Sex",
         "stats": {
          "categories": [
           {
            "count": 168,
            "name": "MALE"
           },
           {
            "count": 165,
            "name": "FEMALE"
           },
           {
            "count": 11,
            "name": "Missing"
           }
          ],
          "nan_count": 11,
          "unique_count": 2
         }
        },
        {
         "dtype": "float64",
         "name": "Delta 15 N (o/oo)",
         "stats": {
          "histogram": [
           {
            "bin_end": 7.871524,
            "bin_start": 7.6322,
            "count": 13
           },
           {
            "bin_end": 8.110848,
            "bin_start": 7.871524,
            "count": 27
           },
           {
            "bin_end": 8.350172,
            "bin_start": 8.110848,
            "count": 52
           },
           {
            "bin_end": 8.589496,
            "bin_start": 8.350172,
            "count": 56
           },
           {
            "bin_end": 8.82882,
            "bin_start": 8.589496,
            "count": 43
           },
           {
            "bin_end": 9.068144,
            "bin_start": 8.82882,
            "count": 41
           },
           {
            "bin_end": 9.307468,
            "bin_start": 9.068144,
            "count": 38
           },
           {
            "bin_end": 9.546792,
            "bin_start": 9.307468,
            "count": 33
           },
           {
            "bin_end": 9.786116,
            "bin_start": 9.546792,
            "count": 18
           },
           {
            "bin_end": 10.02544,
            "bin_start": 9.786116,
            "count": 9
           }
          ],
          "max": "10.02544",
          "min": "7.6322",
          "nan_count": 14,
          "unique_count": 330
         }
        },
        {
         "dtype": "float64",
         "name": "Delta 13 C (o/oo)",
         "stats": {
          "histogram": [
           {
            "bin_end": -26.695453,
            "bin_start": -27.01854,
            "count": 31
           },
           {
            "bin_end": -26.372366,
            "bin_start": -26.695453,
            "count": 45
           },
           {
            "bin_end": -26.049279000000002,
            "bin_start": -26.372366,
            "count": 66
           },
           {
            "bin_end": -25.726192,
            "bin_start": -26.049279000000002,
            "count": 36
           },
           {
            "bin_end": -25.403105,
            "bin_start": -25.726192,
            "count": 31
           },
           {
            "bin_end": -25.080018,
            "bin_start": -25.403105,
            "count": 36
           },
           {
            "bin_end": -24.756930999999998,
            "bin_start": -25.080018,
            "count": 22
           },
           {
            "bin_end": -24.433844,
            "bin_start": -24.756930999999998,
            "count": 39
           },
           {
            "bin_end": -24.110757,
            "bin_start": -24.433844,
            "count": 21
           },
           {
            "bin_end": -23.78767,
            "bin_start": -24.110757,
            "count": 4
           }
          ],
          "max": "-23.78767",
          "min": "-27.01854",
          "nan_count": 13,
          "unique_count": 331
         }
        },
        {
         "dtype": "object",
         "name": "Comments",
         "stats": {
          "categories": [
           {
            "count": 34,
            "name": "Nest never observed with full clutch."
           },
           {
            "count": 20,
            "name": "9 others"
           },
           {
            "count": 290,
            "name": "Missing"
           }
          ],
          "nan_count": 290,
          "unique_count": 10
         }
        },
        {
         "dtype": "int64",
         "name": "_deepnote_index_column"
        }
       ],
       "row_count": 344,
       "rows": [
        {
         "Body Mass (g)": "3750.0",
         "Clutch Completion": "Yes",
         "Comments": "Not enough blood for isotopes.",
         "Culmen Depth (mm)": "18.7",
         "Culmen Length (mm)": "39.1",
         "Date Egg": "2007-11-11",
         "Delta 13 C (o/oo)": "nan",
         "Delta 15 N (o/oo)": "nan",
         "Flipper Length (mm)": "181.0",
         "Individual ID": "N1A1",
         "Island": "Torgersen",
         "Region": "Anvers",
         "Sample Number": "1",
         "Sex": "MALE",
         "Species": "Adelie Penguin (Pygoscelis adeliae)",
         "Stage": "Adult, 1 Egg Stage",
         "_deepnote_index_column": "0",
         "studyName": "PAL0708"
        },
        {
         "Body Mass (g)": "3800.0",
         "Clutch Completion": "Yes",
         "Comments": "nan",
         "Culmen Depth (mm)": "17.4",
         "Culmen Length (mm)": "39.5",
         "Date Egg": "2007-11-11",
         "Delta 13 C (o/oo)": "-24.69454",
         "Delta 15 N (o/oo)": "8.94956",
         "Flipper Length (mm)": "186.0",
         "Individual ID": "N1A2",
         "Island": "Torgersen",
         "Region": "Anvers",
         "Sample Number": "2",
         "Sex": "FEMALE",
         "Species": "Adelie Penguin (Pygoscelis adeliae)",
         "Stage": "Adult, 1 Egg Stage",
         "_deepnote_index_column": "1",
         "studyName": "PAL0708"
        },
        {
         "Body Mass (g)": "3250.0",
         "Clutch Completion": "Yes",
         "Comments": "nan",
         "Culmen Depth (mm)": "18.0",
         "Culmen Length (mm)": "40.3",
         "Date Egg": "2007-11-16",
         "Delta 13 C (o/oo)": "-25.33302",
         "Delta 15 N (o/oo)": "8.36821",
         "Flipper Length (mm)": "195.0",
         "Individual ID": "N2A1",
         "Island": "Torgersen",
         "Region": "Anvers",
         "Sample Number": "3",
         "Sex": "FEMALE",
         "Species": "Adelie Penguin (Pygoscelis adeliae)",
         "Stage": "Adult, 1 Egg Stage",
         "_deepnote_index_column": "2",
         "studyName": "PAL0708"
        },
        {
         "Body Mass (g)": "nan",
         "Clutch Completion": "Yes",
         "Comments": "Adult not sampled.",
         "Culmen Depth (mm)": "nan",
         "Culmen Length (mm)": "nan",
         "Date Egg": "2007-11-16",
         "Delta 13 C (o/oo)": "nan",
         "Delta 15 N (o/oo)": "nan",
         "Flipper Length (mm)": "nan",
         "Individual ID": "N2A2",
         "Island": "Torgersen",
         "Region": "Anvers",
         "Sample Number": "4",
         "Sex": "nan",
         "Species": "Adelie Penguin (Pygoscelis adeliae)",
         "Stage": "Adult, 1 Egg Stage",
         "_deepnote_index_column": "3",
         "studyName": "PAL0708"
        },
        {
         "Body Mass (g)": "3450.0",
         "Clutch Completion": "Yes",
         "Comments": "nan",
         "Culmen Depth (mm)": "19.3",
         "Culmen Length (mm)": "36.7",
         "Date Egg": "2007-11-16",
         "Delta 13 C (o/oo)": "-25.32426",
         "Delta 15 N (o/oo)": "8.76651",
         "Flipper Length (mm)": "193.0",
         "Individual ID": "N3A1",
         "Island": "Torgersen",
         "Region": "Anvers",
         "Sample Number": "5",
         "Sex": "FEMALE",
         "Species": "Adelie Penguin (Pygoscelis adeliae)",
         "Stage": "Adult, 1 Egg Stage",
         "_deepnote_index_column": "4",
         "studyName": "PAL0708"
        },
        {
         "Body Mass (g)": "3650.0",
         "Clutch Completion": "Yes",
         "Comments": "nan",
         "Culmen Depth (mm)": "20.6",
         "Culmen Length (mm)": "39.3",
         "Date Egg": "2007-11-16",
         "Delta 13 C (o/oo)": "-25.29805",
         "Delta 15 N (o/oo)": "8.66496",
         "Flipper Length (mm)": "190.0",
         "Individual ID": "N3A2",
         "Island": "Torgersen",
         "Region": "Anvers",
         "Sample Number": "6",
         "Sex": "MALE",
         "Species": "Adelie Penguin (Pygoscelis adeliae)",
         "Stage": "Adult, 1 Egg Stage",
         "_deepnote_index_column": "5",
         "studyName": "PAL0708"
        },
        {
         "Body Mass (g)": "3625.0",
         "Clutch Completion": "No",
         "Comments": "Nest never observed with full clutch.",
         "Culmen Depth (mm)": "17.8",
         "Culmen Length (mm)": "38.9",
         "Date Egg": "2007-11-15",
         "Delta 13 C (o/oo)": "-25.21799",
         "Delta 15 N (o/oo)": "9.18718",
         "Flipper Length (mm)": "181.0",
         "Individual ID": "N4A1",
         "Island": "Torgersen",
         "Region": "Anvers",
         "Sample Number": "7",
         "Sex": "FEMALE",
         "Species": "Adelie Penguin (Pygoscelis adeliae)",
         "Stage": "Adult, 1 Egg Stage",
         "_deepnote_index_column": "6",
         "studyName": "PAL0708"
        },
        {
         "Body Mass (g)": "4675.0",
         "Clutch Completion": "No",
         "Comments": "Nest never observed with full clutch.",
         "Culmen Depth (mm)": "19.6",
         "Culmen Length (mm)": "39.2",
         "Date Egg": "2007-11-15",
         "Delta 13 C (o/oo)": "-24.89958",
         "Delta 15 N (o/oo)": "9.4606",
         "Flipper Length (mm)": "195.0",
         "Individual ID": "N4A2",
         "Island": "Torgersen",
         "Region": "Anvers",
         "Sample Number": "8",
         "Sex": "MALE",
         "Species": "Adelie Penguin (Pygoscelis adeliae)",
         "Stage": "Adult, 1 Egg Stage",
         "_deepnote_index_column": "7",
         "studyName": "PAL0708"
        },
        {
         "Body Mass (g)": "3475.0",
         "Clutch Completion": "Yes",
         "Comments": "No blood sample obtained.",
         "Culmen Depth (mm)": "18.1",
         "Culmen Length (mm)": "34.1",
         "Date Egg": "2007-11-09",
         "Delta 13 C (o/oo)": "nan",
         "Delta 15 N (o/oo)": "nan",
         "Flipper Length (mm)": "193.0",
         "Individual ID": "N5A1",
         "Island": "Torgersen",
         "Region": "Anvers",
         "Sample Number": "9",
         "Sex": "nan",
         "Species": "Adelie Penguin (Pygoscelis adeliae)",
         "Stage": "Adult, 1 Egg Stage",
         "_deepnote_index_column": "8",
         "studyName": "PAL0708"
        },
        {
         "Body Mass (g)": "4250.0",
         "Clutch Completion": "Yes",
         "Comments": "No blood sample obtained for sexing.",
         "Culmen Depth (mm)": "20.2",
         "Culmen Length (mm)": "42.0",
         "Date Egg": "2007-11-09",
         "Delta 13 C (o/oo)": "-25.09368",
         "Delta 15 N (o/oo)": "9.13362",
         "Flipper Length (mm)": "190.0",
         "Individual ID": "N5A2",
         "Island": "Torgersen",
         "Region": "Anvers",
         "Sample Number": "10",
         "Sex": "nan",
         "Species": "Adelie Penguin (Pygoscelis adeliae)",
         "Stage": "Adult, 1 Egg Stage",
         "_deepnote_index_column": "9",
         "studyName": "PAL0708"
        }
       ]
      },
      "text/html": [
       "<div>\n",
       "<style scoped>\n",
       "    .dataframe tbody tr th:only-of-type {\n",
       "        vertical-align: middle;\n",
       "    }\n",
       "\n",
       "    .dataframe tbody tr th {\n",
       "        vertical-align: top;\n",
       "    }\n",
       "\n",
       "    .dataframe thead th {\n",
       "        text-align: right;\n",
       "    }\n",
       "</style>\n",
       "<table border=\"1\" class=\"dataframe\">\n",
       "  <thead>\n",
       "    <tr style=\"text-align: right;\">\n",
       "      <th></th>\n",
       "      <th>studyName</th>\n",
       "      <th>Sample Number</th>\n",
       "      <th>Species</th>\n",
       "      <th>Region</th>\n",
       "      <th>Island</th>\n",
       "      <th>Stage</th>\n",
       "      <th>Individual ID</th>\n",
       "      <th>Clutch Completion</th>\n",
       "      <th>Date Egg</th>\n",
       "      <th>Culmen Length (mm)</th>\n",
       "      <th>Culmen Depth (mm)</th>\n",
       "      <th>Flipper Length (mm)</th>\n",
       "      <th>Body Mass (g)</th>\n",
       "      <th>Sex</th>\n",
       "      <th>Delta 15 N (o/oo)</th>\n",
       "      <th>Delta 13 C (o/oo)</th>\n",
       "      <th>Comments</th>\n",
       "    </tr>\n",
       "  </thead>\n",
       "  <tbody>\n",
       "    <tr>\n",
       "      <th>0</th>\n",
       "      <td>PAL0708</td>\n",
       "      <td>1</td>\n",
       "      <td>Adelie Penguin (Pygoscelis adeliae)</td>\n",
       "      <td>Anvers</td>\n",
       "      <td>Torgersen</td>\n",
       "      <td>Adult, 1 Egg Stage</td>\n",
       "      <td>N1A1</td>\n",
       "      <td>Yes</td>\n",
       "      <td>2007-11-11</td>\n",
       "      <td>39.1</td>\n",
       "      <td>18.7</td>\n",
       "      <td>181.0</td>\n",
       "      <td>3750.0</td>\n",
       "      <td>MALE</td>\n",
       "      <td>NaN</td>\n",
       "      <td>NaN</td>\n",
       "      <td>Not enough blood for isotopes.</td>\n",
       "    </tr>\n",
       "    <tr>\n",
       "      <th>1</th>\n",
       "      <td>PAL0708</td>\n",
       "      <td>2</td>\n",
       "      <td>Adelie Penguin (Pygoscelis adeliae)</td>\n",
       "      <td>Anvers</td>\n",
       "      <td>Torgersen</td>\n",
       "      <td>Adult, 1 Egg Stage</td>\n",
       "      <td>N1A2</td>\n",
       "      <td>Yes</td>\n",
       "      <td>2007-11-11</td>\n",
       "      <td>39.5</td>\n",
       "      <td>17.4</td>\n",
       "      <td>186.0</td>\n",
       "      <td>3800.0</td>\n",
       "      <td>FEMALE</td>\n",
       "      <td>8.94956</td>\n",
       "      <td>-24.69454</td>\n",
       "      <td>NaN</td>\n",
       "    </tr>\n",
       "    <tr>\n",
       "      <th>2</th>\n",
       "      <td>PAL0708</td>\n",
       "      <td>3</td>\n",
       "      <td>Adelie Penguin (Pygoscelis adeliae)</td>\n",
       "      <td>Anvers</td>\n",
       "      <td>Torgersen</td>\n",
       "      <td>Adult, 1 Egg Stage</td>\n",
       "      <td>N2A1</td>\n",
       "      <td>Yes</td>\n",
       "      <td>2007-11-16</td>\n",
       "      <td>40.3</td>\n",
       "      <td>18.0</td>\n",
       "      <td>195.0</td>\n",
       "      <td>3250.0</td>\n",
       "      <td>FEMALE</td>\n",
       "      <td>8.36821</td>\n",
       "      <td>-25.33302</td>\n",
       "      <td>NaN</td>\n",
       "    </tr>\n",
       "    <tr>\n",
       "      <th>3</th>\n",
       "      <td>PAL0708</td>\n",
       "      <td>4</td>\n",
       "      <td>Adelie Penguin (Pygoscelis adeliae)</td>\n",
       "      <td>Anvers</td>\n",
       "      <td>Torgersen</td>\n",
       "      <td>Adult, 1 Egg Stage</td>\n",
       "      <td>N2A2</td>\n",
       "      <td>Yes</td>\n",
       "      <td>2007-11-16</td>\n",
       "      <td>NaN</td>\n",
       "      <td>NaN</td>\n",
       "      <td>NaN</td>\n",
       "      <td>NaN</td>\n",
       "      <td>NaN</td>\n",
       "      <td>NaN</td>\n",
       "      <td>NaN</td>\n",
       "      <td>Adult not sampled.</td>\n",
       "    </tr>\n",
       "    <tr>\n",
       "      <th>4</th>\n",
       "      <td>PAL0708</td>\n",
       "      <td>5</td>\n",
       "      <td>Adelie Penguin (Pygoscelis adeliae)</td>\n",
       "      <td>Anvers</td>\n",
       "      <td>Torgersen</td>\n",
       "      <td>Adult, 1 Egg Stage</td>\n",
       "      <td>N3A1</td>\n",
       "      <td>Yes</td>\n",
       "      <td>2007-11-16</td>\n",
       "      <td>36.7</td>\n",
       "      <td>19.3</td>\n",
       "      <td>193.0</td>\n",
       "      <td>3450.0</td>\n",
       "      <td>FEMALE</td>\n",
       "      <td>8.76651</td>\n",
       "      <td>-25.32426</td>\n",
       "      <td>NaN</td>\n",
       "    </tr>\n",
       "    <tr>\n",
       "      <th>...</th>\n",
       "      <td>...</td>\n",
       "      <td>...</td>\n",
       "      <td>...</td>\n",
       "      <td>...</td>\n",
       "      <td>...</td>\n",
       "      <td>...</td>\n",
       "      <td>...</td>\n",
       "      <td>...</td>\n",
       "      <td>...</td>\n",
       "      <td>...</td>\n",
       "      <td>...</td>\n",
       "      <td>...</td>\n",
       "      <td>...</td>\n",
       "      <td>...</td>\n",
       "      <td>...</td>\n",
       "      <td>...</td>\n",
       "      <td>...</td>\n",
       "    </tr>\n",
       "    <tr>\n",
       "      <th>339</th>\n",
       "      <td>PAL0910</td>\n",
       "      <td>64</td>\n",
       "      <td>Chinstrap penguin (Pygoscelis antarctica)</td>\n",
       "      <td>Anvers</td>\n",
       "      <td>Dream</td>\n",
       "      <td>Adult, 1 Egg Stage</td>\n",
       "      <td>N98A2</td>\n",
       "      <td>Yes</td>\n",
       "      <td>2009-11-19</td>\n",
       "      <td>55.8</td>\n",
       "      <td>19.8</td>\n",
       "      <td>207.0</td>\n",
       "      <td>4000.0</td>\n",
       "      <td>MALE</td>\n",
       "      <td>9.70465</td>\n",
       "      <td>-24.53494</td>\n",
       "      <td>NaN</td>\n",
       "    </tr>\n",
       "    <tr>\n",
       "      <th>340</th>\n",
       "      <td>PAL0910</td>\n",
       "      <td>65</td>\n",
       "      <td>Chinstrap penguin (Pygoscelis antarctica)</td>\n",
       "      <td>Anvers</td>\n",
       "      <td>Dream</td>\n",
       "      <td>Adult, 1 Egg Stage</td>\n",
       "      <td>N99A1</td>\n",
       "      <td>No</td>\n",
       "      <td>2009-11-21</td>\n",
       "      <td>43.5</td>\n",
       "      <td>18.1</td>\n",
       "      <td>202.0</td>\n",
       "      <td>3400.0</td>\n",
       "      <td>FEMALE</td>\n",
       "      <td>9.37608</td>\n",
       "      <td>-24.40753</td>\n",
       "      <td>Nest never observed with full clutch.</td>\n",
       "    </tr>\n",
       "    <tr>\n",
       "      <th>341</th>\n",
       "      <td>PAL0910</td>\n",
       "      <td>66</td>\n",
       "      <td>Chinstrap penguin (Pygoscelis antarctica)</td>\n",
       "      <td>Anvers</td>\n",
       "      <td>Dream</td>\n",
       "      <td>Adult, 1 Egg Stage</td>\n",
       "      <td>N99A2</td>\n",
       "      <td>No</td>\n",
       "      <td>2009-11-21</td>\n",
       "      <td>49.6</td>\n",
       "      <td>18.2</td>\n",
       "      <td>193.0</td>\n",
       "      <td>3775.0</td>\n",
       "      <td>MALE</td>\n",
       "      <td>9.46180</td>\n",
       "      <td>-24.70615</td>\n",
       "      <td>Nest never observed with full clutch.</td>\n",
       "    </tr>\n",
       "    <tr>\n",
       "      <th>342</th>\n",
       "      <td>PAL0910</td>\n",
       "      <td>67</td>\n",
       "      <td>Chinstrap penguin (Pygoscelis antarctica)</td>\n",
       "      <td>Anvers</td>\n",
       "      <td>Dream</td>\n",
       "      <td>Adult, 1 Egg Stage</td>\n",
       "      <td>N100A1</td>\n",
       "      <td>Yes</td>\n",
       "      <td>2009-11-21</td>\n",
       "      <td>50.8</td>\n",
       "      <td>19.0</td>\n",
       "      <td>210.0</td>\n",
       "      <td>4100.0</td>\n",
       "      <td>MALE</td>\n",
       "      <td>9.98044</td>\n",
       "      <td>-24.68741</td>\n",
       "      <td>NaN</td>\n",
       "    </tr>\n",
       "    <tr>\n",
       "      <th>343</th>\n",
       "      <td>PAL0910</td>\n",
       "      <td>68</td>\n",
       "      <td>Chinstrap penguin (Pygoscelis antarctica)</td>\n",
       "      <td>Anvers</td>\n",
       "      <td>Dream</td>\n",
       "      <td>Adult, 1 Egg Stage</td>\n",
       "      <td>N100A2</td>\n",
       "      <td>Yes</td>\n",
       "      <td>2009-11-21</td>\n",
       "      <td>50.2</td>\n",
       "      <td>18.7</td>\n",
       "      <td>198.0</td>\n",
       "      <td>3775.0</td>\n",
       "      <td>FEMALE</td>\n",
       "      <td>9.39305</td>\n",
       "      <td>-24.25255</td>\n",
       "      <td>NaN</td>\n",
       "    </tr>\n",
       "  </tbody>\n",
       "</table>\n",
       "<p>344 rows × 17 columns</p>\n",
       "</div>"
      ],
      "text/plain": [
       "    studyName  Sample Number                                    Species  \\\n",
       "0     PAL0708              1        Adelie Penguin (Pygoscelis adeliae)   \n",
       "1     PAL0708              2        Adelie Penguin (Pygoscelis adeliae)   \n",
       "2     PAL0708              3        Adelie Penguin (Pygoscelis adeliae)   \n",
       "3     PAL0708              4        Adelie Penguin (Pygoscelis adeliae)   \n",
       "4     PAL0708              5        Adelie Penguin (Pygoscelis adeliae)   \n",
       "..        ...            ...                                        ...   \n",
       "339   PAL0910             64  Chinstrap penguin (Pygoscelis antarctica)   \n",
       "340   PAL0910             65  Chinstrap penguin (Pygoscelis antarctica)   \n",
       "341   PAL0910             66  Chinstrap penguin (Pygoscelis antarctica)   \n",
       "342   PAL0910             67  Chinstrap penguin (Pygoscelis antarctica)   \n",
       "343   PAL0910             68  Chinstrap penguin (Pygoscelis antarctica)   \n",
       "\n",
       "     Region     Island               Stage Individual ID Clutch Completion  \\\n",
       "0    Anvers  Torgersen  Adult, 1 Egg Stage          N1A1               Yes   \n",
       "1    Anvers  Torgersen  Adult, 1 Egg Stage          N1A2               Yes   \n",
       "2    Anvers  Torgersen  Adult, 1 Egg Stage          N2A1               Yes   \n",
       "3    Anvers  Torgersen  Adult, 1 Egg Stage          N2A2               Yes   \n",
       "4    Anvers  Torgersen  Adult, 1 Egg Stage          N3A1               Yes   \n",
       "..      ...        ...                 ...           ...               ...   \n",
       "339  Anvers      Dream  Adult, 1 Egg Stage         N98A2               Yes   \n",
       "340  Anvers      Dream  Adult, 1 Egg Stage         N99A1                No   \n",
       "341  Anvers      Dream  Adult, 1 Egg Stage         N99A2                No   \n",
       "342  Anvers      Dream  Adult, 1 Egg Stage        N100A1               Yes   \n",
       "343  Anvers      Dream  Adult, 1 Egg Stage        N100A2               Yes   \n",
       "\n",
       "       Date Egg  Culmen Length (mm)  Culmen Depth (mm)  Flipper Length (mm)  \\\n",
       "0    2007-11-11                39.1               18.7                181.0   \n",
       "1    2007-11-11                39.5               17.4                186.0   \n",
       "2    2007-11-16                40.3               18.0                195.0   \n",
       "3    2007-11-16                 NaN                NaN                  NaN   \n",
       "4    2007-11-16                36.7               19.3                193.0   \n",
       "..          ...                 ...                ...                  ...   \n",
       "339  2009-11-19                55.8               19.8                207.0   \n",
       "340  2009-11-21                43.5               18.1                202.0   \n",
       "341  2009-11-21                49.6               18.2                193.0   \n",
       "342  2009-11-21                50.8               19.0                210.0   \n",
       "343  2009-11-21                50.2               18.7                198.0   \n",
       "\n",
       "     Body Mass (g)     Sex  Delta 15 N (o/oo)  Delta 13 C (o/oo)  \\\n",
       "0           3750.0    MALE                NaN                NaN   \n",
       "1           3800.0  FEMALE            8.94956          -24.69454   \n",
       "2           3250.0  FEMALE            8.36821          -25.33302   \n",
       "3              NaN     NaN                NaN                NaN   \n",
       "4           3450.0  FEMALE            8.76651          -25.32426   \n",
       "..             ...     ...                ...                ...   \n",
       "339         4000.0    MALE            9.70465          -24.53494   \n",
       "340         3400.0  FEMALE            9.37608          -24.40753   \n",
       "341         3775.0    MALE            9.46180          -24.70615   \n",
       "342         4100.0    MALE            9.98044          -24.68741   \n",
       "343         3775.0  FEMALE            9.39305          -24.25255   \n",
       "\n",
       "                                  Comments  \n",
       "0           Not enough blood for isotopes.  \n",
       "1                                      NaN  \n",
       "2                                      NaN  \n",
       "3                       Adult not sampled.  \n",
       "4                                      NaN  \n",
       "..                                     ...  \n",
       "339                                    NaN  \n",
       "340  Nest never observed with full clutch.  \n",
       "341  Nest never observed with full clutch.  \n",
       "342                                    NaN  \n",
       "343                                    NaN  \n",
       "\n",
       "[344 rows x 17 columns]"
      ]
     },
     "execution_count": 3,
     "metadata": {},
     "output_type": "execute_result"
    }
   ],
   "source": [
    "raw_penguins_df = palmerpenguins.load_penguins_raw()\n",
    "raw_penguins_df"
   ]
  },
  {
   "cell_type": "markdown",
   "metadata": {
    "cell_id": "043c51f621284bfdaed6629d8ae02d49",
    "deepnote_app_coordinates": {
     "h": 5,
     "w": 12,
     "x": 0,
     "y": 66
    },
    "deepnote_cell_type": "markdown",
    "tags": []
   },
   "source": [
    "#### Datos previamente procesados"
   ]
  },
  {
   "cell_type": "code",
   "execution_count": 4,
   "metadata": {
    "cell_id": "7bfa3abaf3bc476482be27102e040bf5",
    "deepnote_app_coordinates": {
     "h": 5,
     "w": 12,
     "x": 0,
     "y": 72
    },
    "deepnote_cell_type": "code",
    "deepnote_to_be_reexecuted": false,
    "execution_millis": 8,
    "execution_start": 1684976541139,
    "output_cleared": false,
    "source_hash": "36a0f8de",
    "tags": []
   },
   "outputs": [
    {
     "data": {
      "application/vnd.deepnote.dataframe.v3+json": {
       "column_count": 8,
       "columns": [
        {
         "dtype": "object",
         "name": "species",
         "stats": {
          "categories": [
           {
            "count": 152,
            "name": "Adelie"
           },
           {
            "count": 124,
            "name": "Gentoo"
           },
           {
            "count": 68,
            "name": "Chinstrap"
           }
          ],
          "nan_count": 0,
          "unique_count": 3
         }
        },
        {
         "dtype": "object",
         "name": "island",
         "stats": {
          "categories": [
           {
            "count": 168,
            "name": "Biscoe"
           },
           {
            "count": 124,
            "name": "Dream"
           },
           {
            "count": 52,
            "name": "Torgersen"
           }
          ],
          "nan_count": 0,
          "unique_count": 3
         }
        },
        {
         "dtype": "float64",
         "name": "bill_length_mm",
         "stats": {
          "histogram": [
           {
            "bin_end": 34.85,
            "bin_start": 32.1,
            "count": 9
           },
           {
            "bin_end": 37.6,
            "bin_start": 34.85,
            "count": 40
           },
           {
            "bin_end": 40.35,
            "bin_start": 37.6,
            "count": 57
           },
           {
            "bin_end": 43.1,
            "bin_start": 40.35,
            "count": 48
           },
           {
            "bin_end": 45.85,
            "bin_start": 43.1,
            "count": 49
           },
           {
            "bin_end": 48.6,
            "bin_start": 45.85,
            "count": 55
           },
           {
            "bin_end": 51.35,
            "bin_start": 48.6,
            "count": 61
           },
           {
            "bin_end": 54.1,
            "bin_start": 51.35,
            "count": 16
           },
           {
            "bin_end": 56.85,
            "bin_start": 54.1,
            "count": 5
           },
           {
            "bin_end": 59.6,
            "bin_start": 56.85,
            "count": 2
           }
          ],
          "max": "59.6",
          "min": "32.1",
          "nan_count": 2,
          "unique_count": 164
         }
        },
        {
         "dtype": "float64",
         "name": "bill_depth_mm",
         "stats": {
          "histogram": [
           {
            "bin_end": 13.94,
            "bin_start": 13.1,
            "count": 21
           },
           {
            "bin_end": 14.78,
            "bin_start": 13.94,
            "count": 35
           },
           {
            "bin_end": 15.620000000000001,
            "bin_start": 14.78,
            "count": 32
           },
           {
            "bin_end": 16.46,
            "bin_start": 15.620000000000001,
            "count": 34
           },
           {
            "bin_end": 17.3,
            "bin_start": 16.46,
            "count": 44
           },
           {
            "bin_end": 18.14,
            "bin_start": 17.3,
            "count": 55
           },
           {
            "bin_end": 18.98,
            "bin_start": 18.14,
            "count": 56
           },
           {
            "bin_end": 19.82,
            "bin_start": 18.98,
            "count": 39
           },
           {
            "bin_end": 20.66,
            "bin_start": 19.82,
            "count": 16
           },
           {
            "bin_end": 21.5,
            "bin_start": 20.66,
            "count": 10
           }
          ],
          "max": "21.5",
          "min": "13.1",
          "nan_count": 2,
          "unique_count": 80
         }
        },
        {
         "dtype": "float64",
         "name": "flipper_length_mm",
         "stats": {
          "histogram": [
           {
            "bin_end": 177.9,
            "bin_start": 172,
            "count": 3
           },
           {
            "bin_end": 183.8,
            "bin_start": 177.9,
            "count": 22
           },
           {
            "bin_end": 189.7,
            "bin_start": 183.8,
            "count": 52
           },
           {
            "bin_end": 195.6,
            "bin_start": 189.7,
            "count": 79
           },
           {
            "bin_end": 201.5,
            "bin_start": 195.6,
            "count": 44
           },
           {
            "bin_end": 207.4,
            "bin_start": 201.5,
            "count": 15
           },
           {
            "bin_end": 213.3,
            "bin_start": 207.4,
            "count": 42
           },
           {
            "bin_end": 219.2,
            "bin_start": 213.3,
            "count": 42
           },
           {
            "bin_end": 225.1,
            "bin_start": 219.2,
            "count": 28
           },
           {
            "bin_end": 231,
            "bin_start": 225.1,
            "count": 15
           }
          ],
          "max": "231.0",
          "min": "172.0",
          "nan_count": 2,
          "unique_count": 55
         }
        },
        {
         "dtype": "float64",
         "name": "body_mass_g",
         "stats": {
          "histogram": [
           {
            "bin_end": 3060,
            "bin_start": 2700,
            "count": 15
           },
           {
            "bin_end": 3420,
            "bin_start": 3060,
            "count": 43
           },
           {
            "bin_end": 3780,
            "bin_start": 3420,
            "count": 71
           },
           {
            "bin_end": 4140,
            "bin_start": 3780,
            "count": 53
           },
           {
            "bin_end": 4500,
            "bin_start": 4140,
            "count": 42
           },
           {
            "bin_end": 4860,
            "bin_start": 4500,
            "count": 41
           },
           {
            "bin_end": 5220,
            "bin_start": 4860,
            "count": 28
           },
           {
            "bin_end": 5580,
            "bin_start": 5220,
            "count": 27
           },
           {
            "bin_end": 5940,
            "bin_start": 5580,
            "count": 16
           },
           {
            "bin_end": 6300,
            "bin_start": 5940,
            "count": 6
           }
          ],
          "max": "6300.0",
          "min": "2700.0",
          "nan_count": 2,
          "unique_count": 94
         }
        },
        {
         "dtype": "object",
         "name": "sex",
         "stats": {
          "categories": [
           {
            "count": 168,
            "name": "male"
           },
           {
            "count": 165,
            "name": "female"
           },
           {
            "count": 11,
            "name": "Missing"
           }
          ],
          "nan_count": 11,
          "unique_count": 2
         }
        },
        {
         "dtype": "int64",
         "name": "year",
         "stats": {
          "histogram": [
           {
            "bin_end": 2007.2,
            "bin_start": 2007,
            "count": 110
           },
           {
            "bin_end": 2007.4,
            "bin_start": 2007.2,
            "count": 0
           },
           {
            "bin_end": 2007.6,
            "bin_start": 2007.4,
            "count": 0
           },
           {
            "bin_end": 2007.8,
            "bin_start": 2007.6,
            "count": 0
           },
           {
            "bin_end": 2008,
            "bin_start": 2007.8,
            "count": 0
           },
           {
            "bin_end": 2008.2,
            "bin_start": 2008,
            "count": 114
           },
           {
            "bin_end": 2008.4,
            "bin_start": 2008.2,
            "count": 0
           },
           {
            "bin_end": 2008.6,
            "bin_start": 2008.4,
            "count": 0
           },
           {
            "bin_end": 2008.8,
            "bin_start": 2008.6,
            "count": 0
           },
           {
            "bin_end": 2009,
            "bin_start": 2008.8,
            "count": 120
           }
          ],
          "max": "2009",
          "min": "2007",
          "nan_count": 0,
          "unique_count": 3
         }
        },
        {
         "dtype": "int64",
         "name": "_deepnote_index_column"
        }
       ],
       "row_count": 344,
       "rows": [
        {
         "_deepnote_index_column": "0",
         "bill_depth_mm": "18.7",
         "bill_length_mm": "39.1",
         "body_mass_g": "3750.0",
         "flipper_length_mm": "181.0",
         "island": "Torgersen",
         "sex": "male",
         "species": "Adelie",
         "year": "2007"
        },
        {
         "_deepnote_index_column": "1",
         "bill_depth_mm": "17.4",
         "bill_length_mm": "39.5",
         "body_mass_g": "3800.0",
         "flipper_length_mm": "186.0",
         "island": "Torgersen",
         "sex": "female",
         "species": "Adelie",
         "year": "2007"
        },
        {
         "_deepnote_index_column": "2",
         "bill_depth_mm": "18.0",
         "bill_length_mm": "40.3",
         "body_mass_g": "3250.0",
         "flipper_length_mm": "195.0",
         "island": "Torgersen",
         "sex": "female",
         "species": "Adelie",
         "year": "2007"
        },
        {
         "_deepnote_index_column": "3",
         "bill_depth_mm": "nan",
         "bill_length_mm": "nan",
         "body_mass_g": "nan",
         "flipper_length_mm": "nan",
         "island": "Torgersen",
         "sex": "nan",
         "species": "Adelie",
         "year": "2007"
        },
        {
         "_deepnote_index_column": "4",
         "bill_depth_mm": "19.3",
         "bill_length_mm": "36.7",
         "body_mass_g": "3450.0",
         "flipper_length_mm": "193.0",
         "island": "Torgersen",
         "sex": "female",
         "species": "Adelie",
         "year": "2007"
        },
        {
         "_deepnote_index_column": "5",
         "bill_depth_mm": "20.6",
         "bill_length_mm": "39.3",
         "body_mass_g": "3650.0",
         "flipper_length_mm": "190.0",
         "island": "Torgersen",
         "sex": "male",
         "species": "Adelie",
         "year": "2007"
        },
        {
         "_deepnote_index_column": "6",
         "bill_depth_mm": "17.8",
         "bill_length_mm": "38.9",
         "body_mass_g": "3625.0",
         "flipper_length_mm": "181.0",
         "island": "Torgersen",
         "sex": "female",
         "species": "Adelie",
         "year": "2007"
        },
        {
         "_deepnote_index_column": "7",
         "bill_depth_mm": "19.6",
         "bill_length_mm": "39.2",
         "body_mass_g": "4675.0",
         "flipper_length_mm": "195.0",
         "island": "Torgersen",
         "sex": "male",
         "species": "Adelie",
         "year": "2007"
        },
        {
         "_deepnote_index_column": "8",
         "bill_depth_mm": "18.1",
         "bill_length_mm": "34.1",
         "body_mass_g": "3475.0",
         "flipper_length_mm": "193.0",
         "island": "Torgersen",
         "sex": "nan",
         "species": "Adelie",
         "year": "2007"
        },
        {
         "_deepnote_index_column": "9",
         "bill_depth_mm": "20.2",
         "bill_length_mm": "42.0",
         "body_mass_g": "4250.0",
         "flipper_length_mm": "190.0",
         "island": "Torgersen",
         "sex": "nan",
         "species": "Adelie",
         "year": "2007"
        }
       ]
      },
      "text/html": [
       "<div>\n",
       "<style scoped>\n",
       "    .dataframe tbody tr th:only-of-type {\n",
       "        vertical-align: middle;\n",
       "    }\n",
       "\n",
       "    .dataframe tbody tr th {\n",
       "        vertical-align: top;\n",
       "    }\n",
       "\n",
       "    .dataframe thead th {\n",
       "        text-align: right;\n",
       "    }\n",
       "</style>\n",
       "<table border=\"1\" class=\"dataframe\">\n",
       "  <thead>\n",
       "    <tr style=\"text-align: right;\">\n",
       "      <th></th>\n",
       "      <th>species</th>\n",
       "      <th>island</th>\n",
       "      <th>bill_length_mm</th>\n",
       "      <th>bill_depth_mm</th>\n",
       "      <th>flipper_length_mm</th>\n",
       "      <th>body_mass_g</th>\n",
       "      <th>sex</th>\n",
       "      <th>year</th>\n",
       "    </tr>\n",
       "  </thead>\n",
       "  <tbody>\n",
       "    <tr>\n",
       "      <th>0</th>\n",
       "      <td>Adelie</td>\n",
       "      <td>Torgersen</td>\n",
       "      <td>39.1</td>\n",
       "      <td>18.7</td>\n",
       "      <td>181.0</td>\n",
       "      <td>3750.0</td>\n",
       "      <td>male</td>\n",
       "      <td>2007</td>\n",
       "    </tr>\n",
       "    <tr>\n",
       "      <th>1</th>\n",
       "      <td>Adelie</td>\n",
       "      <td>Torgersen</td>\n",
       "      <td>39.5</td>\n",
       "      <td>17.4</td>\n",
       "      <td>186.0</td>\n",
       "      <td>3800.0</td>\n",
       "      <td>female</td>\n",
       "      <td>2007</td>\n",
       "    </tr>\n",
       "    <tr>\n",
       "      <th>2</th>\n",
       "      <td>Adelie</td>\n",
       "      <td>Torgersen</td>\n",
       "      <td>40.3</td>\n",
       "      <td>18.0</td>\n",
       "      <td>195.0</td>\n",
       "      <td>3250.0</td>\n",
       "      <td>female</td>\n",
       "      <td>2007</td>\n",
       "    </tr>\n",
       "    <tr>\n",
       "      <th>3</th>\n",
       "      <td>Adelie</td>\n",
       "      <td>Torgersen</td>\n",
       "      <td>NaN</td>\n",
       "      <td>NaN</td>\n",
       "      <td>NaN</td>\n",
       "      <td>NaN</td>\n",
       "      <td>NaN</td>\n",
       "      <td>2007</td>\n",
       "    </tr>\n",
       "    <tr>\n",
       "      <th>4</th>\n",
       "      <td>Adelie</td>\n",
       "      <td>Torgersen</td>\n",
       "      <td>36.7</td>\n",
       "      <td>19.3</td>\n",
       "      <td>193.0</td>\n",
       "      <td>3450.0</td>\n",
       "      <td>female</td>\n",
       "      <td>2007</td>\n",
       "    </tr>\n",
       "    <tr>\n",
       "      <th>...</th>\n",
       "      <td>...</td>\n",
       "      <td>...</td>\n",
       "      <td>...</td>\n",
       "      <td>...</td>\n",
       "      <td>...</td>\n",
       "      <td>...</td>\n",
       "      <td>...</td>\n",
       "      <td>...</td>\n",
       "    </tr>\n",
       "    <tr>\n",
       "      <th>339</th>\n",
       "      <td>Chinstrap</td>\n",
       "      <td>Dream</td>\n",
       "      <td>55.8</td>\n",
       "      <td>19.8</td>\n",
       "      <td>207.0</td>\n",
       "      <td>4000.0</td>\n",
       "      <td>male</td>\n",
       "      <td>2009</td>\n",
       "    </tr>\n",
       "    <tr>\n",
       "      <th>340</th>\n",
       "      <td>Chinstrap</td>\n",
       "      <td>Dream</td>\n",
       "      <td>43.5</td>\n",
       "      <td>18.1</td>\n",
       "      <td>202.0</td>\n",
       "      <td>3400.0</td>\n",
       "      <td>female</td>\n",
       "      <td>2009</td>\n",
       "    </tr>\n",
       "    <tr>\n",
       "      <th>341</th>\n",
       "      <td>Chinstrap</td>\n",
       "      <td>Dream</td>\n",
       "      <td>49.6</td>\n",
       "      <td>18.2</td>\n",
       "      <td>193.0</td>\n",
       "      <td>3775.0</td>\n",
       "      <td>male</td>\n",
       "      <td>2009</td>\n",
       "    </tr>\n",
       "    <tr>\n",
       "      <th>342</th>\n",
       "      <td>Chinstrap</td>\n",
       "      <td>Dream</td>\n",
       "      <td>50.8</td>\n",
       "      <td>19.0</td>\n",
       "      <td>210.0</td>\n",
       "      <td>4100.0</td>\n",
       "      <td>male</td>\n",
       "      <td>2009</td>\n",
       "    </tr>\n",
       "    <tr>\n",
       "      <th>343</th>\n",
       "      <td>Chinstrap</td>\n",
       "      <td>Dream</td>\n",
       "      <td>50.2</td>\n",
       "      <td>18.7</td>\n",
       "      <td>198.0</td>\n",
       "      <td>3775.0</td>\n",
       "      <td>female</td>\n",
       "      <td>2009</td>\n",
       "    </tr>\n",
       "  </tbody>\n",
       "</table>\n",
       "<p>344 rows × 8 columns</p>\n",
       "</div>"
      ],
      "text/plain": [
       "       species     island  bill_length_mm  bill_depth_mm  flipper_length_mm  \\\n",
       "0       Adelie  Torgersen            39.1           18.7              181.0   \n",
       "1       Adelie  Torgersen            39.5           17.4              186.0   \n",
       "2       Adelie  Torgersen            40.3           18.0              195.0   \n",
       "3       Adelie  Torgersen             NaN            NaN                NaN   \n",
       "4       Adelie  Torgersen            36.7           19.3              193.0   \n",
       "..         ...        ...             ...            ...                ...   \n",
       "339  Chinstrap      Dream            55.8           19.8              207.0   \n",
       "340  Chinstrap      Dream            43.5           18.1              202.0   \n",
       "341  Chinstrap      Dream            49.6           18.2              193.0   \n",
       "342  Chinstrap      Dream            50.8           19.0              210.0   \n",
       "343  Chinstrap      Dream            50.2           18.7              198.0   \n",
       "\n",
       "     body_mass_g     sex  year  \n",
       "0         3750.0    male  2007  \n",
       "1         3800.0  female  2007  \n",
       "2         3250.0  female  2007  \n",
       "3            NaN     NaN  2007  \n",
       "4         3450.0  female  2007  \n",
       "..           ...     ...   ...  \n",
       "339       4000.0    male  2009  \n",
       "340       3400.0  female  2009  \n",
       "341       3775.0    male  2009  \n",
       "342       4100.0    male  2009  \n",
       "343       3775.0  female  2009  \n",
       "\n",
       "[344 rows x 8 columns]"
      ]
     },
     "execution_count": 4,
     "metadata": {},
     "output_type": "execute_result"
    }
   ],
   "source": [
    "preprocess_penguins_df = palmerpenguins.load_penguins()\n",
    "preprocess_penguins_df"
   ]
  },
  {
   "cell_type": "markdown",
   "metadata": {
    "cell_id": "a32a5324d5ed4f64af8d24ebd809c4b7",
    "deepnote_app_coordinates": {
     "h": 5,
     "w": 12,
     "x": 0,
     "y": 78
    },
    "deepnote_cell_type": "markdown",
    "tags": []
   },
   "source": [
    "### Utilizando los conjuntos de datos de `seaborn`"
   ]
  },
  {
   "cell_type": "code",
   "execution_count": 5,
   "metadata": {
    "cell_id": "fdcb03ae75394b90b348d683fbe640d3",
    "deepnote_app_coordinates": {
     "h": 5,
     "w": 12,
     "x": 0,
     "y": 84
    },
    "deepnote_cell_type": "code",
    "deepnote_to_be_reexecuted": false,
    "execution_millis": 407,
    "execution_start": 1684976541149,
    "output_cleared": false,
    "source_hash": "1d281d97",
    "tags": []
   },
   "outputs": [
    {
     "data": {
      "application/vnd.deepnote.dataframe.v3+json": {
       "column_count": 7,
       "columns": [
        {
         "dtype": "object",
         "name": "species",
         "stats": {
          "categories": [
           {
            "count": 152,
            "name": "Adelie"
           },
           {
            "count": 124,
            "name": "Gentoo"
           },
           {
            "count": 68,
            "name": "Chinstrap"
           }
          ],
          "nan_count": 0,
          "unique_count": 3
         }
        },
        {
         "dtype": "object",
         "name": "island",
         "stats": {
          "categories": [
           {
            "count": 168,
            "name": "Biscoe"
           },
           {
            "count": 124,
            "name": "Dream"
           },
           {
            "count": 52,
            "name": "Torgersen"
           }
          ],
          "nan_count": 0,
          "unique_count": 3
         }
        },
        {
         "dtype": "float64",
         "name": "bill_length_mm",
         "stats": {
          "histogram": [
           {
            "bin_end": 34.85,
            "bin_start": 32.1,
            "count": 9
           },
           {
            "bin_end": 37.6,
            "bin_start": 34.85,
            "count": 40
           },
           {
            "bin_end": 40.35,
            "bin_start": 37.6,
            "count": 57
           },
           {
            "bin_end": 43.1,
            "bin_start": 40.35,
            "count": 48
           },
           {
            "bin_end": 45.85,
            "bin_start": 43.1,
            "count": 49
           },
           {
            "bin_end": 48.6,
            "bin_start": 45.85,
            "count": 55
           },
           {
            "bin_end": 51.35,
            "bin_start": 48.6,
            "count": 61
           },
           {
            "bin_end": 54.1,
            "bin_start": 51.35,
            "count": 16
           },
           {
            "bin_end": 56.85,
            "bin_start": 54.1,
            "count": 5
           },
           {
            "bin_end": 59.6,
            "bin_start": 56.85,
            "count": 2
           }
          ],
          "max": "59.6",
          "min": "32.1",
          "nan_count": 2,
          "unique_count": 164
         }
        },
        {
         "dtype": "float64",
         "name": "bill_depth_mm",
         "stats": {
          "histogram": [
           {
            "bin_end": 13.94,
            "bin_start": 13.1,
            "count": 21
           },
           {
            "bin_end": 14.78,
            "bin_start": 13.94,
            "count": 35
           },
           {
            "bin_end": 15.620000000000001,
            "bin_start": 14.78,
            "count": 32
           },
           {
            "bin_end": 16.46,
            "bin_start": 15.620000000000001,
            "count": 34
           },
           {
            "bin_end": 17.3,
            "bin_start": 16.46,
            "count": 44
           },
           {
            "bin_end": 18.14,
            "bin_start": 17.3,
            "count": 55
           },
           {
            "bin_end": 18.98,
            "bin_start": 18.14,
            "count": 56
           },
           {
            "bin_end": 19.82,
            "bin_start": 18.98,
            "count": 39
           },
           {
            "bin_end": 20.66,
            "bin_start": 19.82,
            "count": 16
           },
           {
            "bin_end": 21.5,
            "bin_start": 20.66,
            "count": 10
           }
          ],
          "max": "21.5",
          "min": "13.1",
          "nan_count": 2,
          "unique_count": 80
         }
        },
        {
         "dtype": "float64",
         "name": "flipper_length_mm",
         "stats": {
          "histogram": [
           {
            "bin_end": 177.9,
            "bin_start": 172,
            "count": 3
           },
           {
            "bin_end": 183.8,
            "bin_start": 177.9,
            "count": 22
           },
           {
            "bin_end": 189.7,
            "bin_start": 183.8,
            "count": 52
           },
           {
            "bin_end": 195.6,
            "bin_start": 189.7,
            "count": 79
           },
           {
            "bin_end": 201.5,
            "bin_start": 195.6,
            "count": 44
           },
           {
            "bin_end": 207.4,
            "bin_start": 201.5,
            "count": 15
           },
           {
            "bin_end": 213.3,
            "bin_start": 207.4,
            "count": 42
           },
           {
            "bin_end": 219.2,
            "bin_start": 213.3,
            "count": 42
           },
           {
            "bin_end": 225.1,
            "bin_start": 219.2,
            "count": 28
           },
           {
            "bin_end": 231,
            "bin_start": 225.1,
            "count": 15
           }
          ],
          "max": "231.0",
          "min": "172.0",
          "nan_count": 2,
          "unique_count": 55
         }
        },
        {
         "dtype": "float64",
         "name": "body_mass_g",
         "stats": {
          "histogram": [
           {
            "bin_end": 3060,
            "bin_start": 2700,
            "count": 15
           },
           {
            "bin_end": 3420,
            "bin_start": 3060,
            "count": 43
           },
           {
            "bin_end": 3780,
            "bin_start": 3420,
            "count": 71
           },
           {
            "bin_end": 4140,
            "bin_start": 3780,
            "count": 53
           },
           {
            "bin_end": 4500,
            "bin_start": 4140,
            "count": 42
           },
           {
            "bin_end": 4860,
            "bin_start": 4500,
            "count": 41
           },
           {
            "bin_end": 5220,
            "bin_start": 4860,
            "count": 28
           },
           {
            "bin_end": 5580,
            "bin_start": 5220,
            "count": 27
           },
           {
            "bin_end": 5940,
            "bin_start": 5580,
            "count": 16
           },
           {
            "bin_end": 6300,
            "bin_start": 5940,
            "count": 6
           }
          ],
          "max": "6300.0",
          "min": "2700.0",
          "nan_count": 2,
          "unique_count": 94
         }
        },
        {
         "dtype": "object",
         "name": "sex",
         "stats": {
          "categories": [
           {
            "count": 168,
            "name": "Male"
           },
           {
            "count": 165,
            "name": "Female"
           },
           {
            "count": 11,
            "name": "Missing"
           }
          ],
          "nan_count": 11,
          "unique_count": 2
         }
        },
        {
         "dtype": "int64",
         "name": "_deepnote_index_column"
        }
       ],
       "row_count": 344,
       "rows": [
        {
         "_deepnote_index_column": "0",
         "bill_depth_mm": "18.7",
         "bill_length_mm": "39.1",
         "body_mass_g": "3750.0",
         "flipper_length_mm": "181.0",
         "island": "Torgersen",
         "sex": "Male",
         "species": "Adelie"
        },
        {
         "_deepnote_index_column": "1",
         "bill_depth_mm": "17.4",
         "bill_length_mm": "39.5",
         "body_mass_g": "3800.0",
         "flipper_length_mm": "186.0",
         "island": "Torgersen",
         "sex": "Female",
         "species": "Adelie"
        },
        {
         "_deepnote_index_column": "2",
         "bill_depth_mm": "18.0",
         "bill_length_mm": "40.3",
         "body_mass_g": "3250.0",
         "flipper_length_mm": "195.0",
         "island": "Torgersen",
         "sex": "Female",
         "species": "Adelie"
        },
        {
         "_deepnote_index_column": "3",
         "bill_depth_mm": "nan",
         "bill_length_mm": "nan",
         "body_mass_g": "nan",
         "flipper_length_mm": "nan",
         "island": "Torgersen",
         "sex": "nan",
         "species": "Adelie"
        },
        {
         "_deepnote_index_column": "4",
         "bill_depth_mm": "19.3",
         "bill_length_mm": "36.7",
         "body_mass_g": "3450.0",
         "flipper_length_mm": "193.0",
         "island": "Torgersen",
         "sex": "Female",
         "species": "Adelie"
        },
        {
         "_deepnote_index_column": "5",
         "bill_depth_mm": "20.6",
         "bill_length_mm": "39.3",
         "body_mass_g": "3650.0",
         "flipper_length_mm": "190.0",
         "island": "Torgersen",
         "sex": "Male",
         "species": "Adelie"
        },
        {
         "_deepnote_index_column": "6",
         "bill_depth_mm": "17.8",
         "bill_length_mm": "38.9",
         "body_mass_g": "3625.0",
         "flipper_length_mm": "181.0",
         "island": "Torgersen",
         "sex": "Female",
         "species": "Adelie"
        },
        {
         "_deepnote_index_column": "7",
         "bill_depth_mm": "19.6",
         "bill_length_mm": "39.2",
         "body_mass_g": "4675.0",
         "flipper_length_mm": "195.0",
         "island": "Torgersen",
         "sex": "Male",
         "species": "Adelie"
        },
        {
         "_deepnote_index_column": "8",
         "bill_depth_mm": "18.1",
         "bill_length_mm": "34.1",
         "body_mass_g": "3475.0",
         "flipper_length_mm": "193.0",
         "island": "Torgersen",
         "sex": "nan",
         "species": "Adelie"
        },
        {
         "_deepnote_index_column": "9",
         "bill_depth_mm": "20.2",
         "bill_length_mm": "42.0",
         "body_mass_g": "4250.0",
         "flipper_length_mm": "190.0",
         "island": "Torgersen",
         "sex": "nan",
         "species": "Adelie"
        }
       ]
      },
      "text/html": [
       "<div>\n",
       "<style scoped>\n",
       "    .dataframe tbody tr th:only-of-type {\n",
       "        vertical-align: middle;\n",
       "    }\n",
       "\n",
       "    .dataframe tbody tr th {\n",
       "        vertical-align: top;\n",
       "    }\n",
       "\n",
       "    .dataframe thead th {\n",
       "        text-align: right;\n",
       "    }\n",
       "</style>\n",
       "<table border=\"1\" class=\"dataframe\">\n",
       "  <thead>\n",
       "    <tr style=\"text-align: right;\">\n",
       "      <th></th>\n",
       "      <th>species</th>\n",
       "      <th>island</th>\n",
       "      <th>bill_length_mm</th>\n",
       "      <th>bill_depth_mm</th>\n",
       "      <th>flipper_length_mm</th>\n",
       "      <th>body_mass_g</th>\n",
       "      <th>sex</th>\n",
       "    </tr>\n",
       "  </thead>\n",
       "  <tbody>\n",
       "    <tr>\n",
       "      <th>0</th>\n",
       "      <td>Adelie</td>\n",
       "      <td>Torgersen</td>\n",
       "      <td>39.1</td>\n",
       "      <td>18.7</td>\n",
       "      <td>181.0</td>\n",
       "      <td>3750.0</td>\n",
       "      <td>Male</td>\n",
       "    </tr>\n",
       "    <tr>\n",
       "      <th>1</th>\n",
       "      <td>Adelie</td>\n",
       "      <td>Torgersen</td>\n",
       "      <td>39.5</td>\n",
       "      <td>17.4</td>\n",
       "      <td>186.0</td>\n",
       "      <td>3800.0</td>\n",
       "      <td>Female</td>\n",
       "    </tr>\n",
       "    <tr>\n",
       "      <th>2</th>\n",
       "      <td>Adelie</td>\n",
       "      <td>Torgersen</td>\n",
       "      <td>40.3</td>\n",
       "      <td>18.0</td>\n",
       "      <td>195.0</td>\n",
       "      <td>3250.0</td>\n",
       "      <td>Female</td>\n",
       "    </tr>\n",
       "    <tr>\n",
       "      <th>3</th>\n",
       "      <td>Adelie</td>\n",
       "      <td>Torgersen</td>\n",
       "      <td>NaN</td>\n",
       "      <td>NaN</td>\n",
       "      <td>NaN</td>\n",
       "      <td>NaN</td>\n",
       "      <td>NaN</td>\n",
       "    </tr>\n",
       "    <tr>\n",
       "      <th>4</th>\n",
       "      <td>Adelie</td>\n",
       "      <td>Torgersen</td>\n",
       "      <td>36.7</td>\n",
       "      <td>19.3</td>\n",
       "      <td>193.0</td>\n",
       "      <td>3450.0</td>\n",
       "      <td>Female</td>\n",
       "    </tr>\n",
       "    <tr>\n",
       "      <th>...</th>\n",
       "      <td>...</td>\n",
       "      <td>...</td>\n",
       "      <td>...</td>\n",
       "      <td>...</td>\n",
       "      <td>...</td>\n",
       "      <td>...</td>\n",
       "      <td>...</td>\n",
       "    </tr>\n",
       "    <tr>\n",
       "      <th>339</th>\n",
       "      <td>Gentoo</td>\n",
       "      <td>Biscoe</td>\n",
       "      <td>NaN</td>\n",
       "      <td>NaN</td>\n",
       "      <td>NaN</td>\n",
       "      <td>NaN</td>\n",
       "      <td>NaN</td>\n",
       "    </tr>\n",
       "    <tr>\n",
       "      <th>340</th>\n",
       "      <td>Gentoo</td>\n",
       "      <td>Biscoe</td>\n",
       "      <td>46.8</td>\n",
       "      <td>14.3</td>\n",
       "      <td>215.0</td>\n",
       "      <td>4850.0</td>\n",
       "      <td>Female</td>\n",
       "    </tr>\n",
       "    <tr>\n",
       "      <th>341</th>\n",
       "      <td>Gentoo</td>\n",
       "      <td>Biscoe</td>\n",
       "      <td>50.4</td>\n",
       "      <td>15.7</td>\n",
       "      <td>222.0</td>\n",
       "      <td>5750.0</td>\n",
       "      <td>Male</td>\n",
       "    </tr>\n",
       "    <tr>\n",
       "      <th>342</th>\n",
       "      <td>Gentoo</td>\n",
       "      <td>Biscoe</td>\n",
       "      <td>45.2</td>\n",
       "      <td>14.8</td>\n",
       "      <td>212.0</td>\n",
       "      <td>5200.0</td>\n",
       "      <td>Female</td>\n",
       "    </tr>\n",
       "    <tr>\n",
       "      <th>343</th>\n",
       "      <td>Gentoo</td>\n",
       "      <td>Biscoe</td>\n",
       "      <td>49.9</td>\n",
       "      <td>16.1</td>\n",
       "      <td>213.0</td>\n",
       "      <td>5400.0</td>\n",
       "      <td>Male</td>\n",
       "    </tr>\n",
       "  </tbody>\n",
       "</table>\n",
       "<p>344 rows × 7 columns</p>\n",
       "</div>"
      ],
      "text/plain": [
       "    species     island  bill_length_mm  bill_depth_mm  flipper_length_mm  \\\n",
       "0    Adelie  Torgersen            39.1           18.7              181.0   \n",
       "1    Adelie  Torgersen            39.5           17.4              186.0   \n",
       "2    Adelie  Torgersen            40.3           18.0              195.0   \n",
       "3    Adelie  Torgersen             NaN            NaN                NaN   \n",
       "4    Adelie  Torgersen            36.7           19.3              193.0   \n",
       "..      ...        ...             ...            ...                ...   \n",
       "339  Gentoo     Biscoe             NaN            NaN                NaN   \n",
       "340  Gentoo     Biscoe            46.8           14.3              215.0   \n",
       "341  Gentoo     Biscoe            50.4           15.7              222.0   \n",
       "342  Gentoo     Biscoe            45.2           14.8              212.0   \n",
       "343  Gentoo     Biscoe            49.9           16.1              213.0   \n",
       "\n",
       "     body_mass_g     sex  \n",
       "0         3750.0    Male  \n",
       "1         3800.0  Female  \n",
       "2         3250.0  Female  \n",
       "3            NaN     NaN  \n",
       "4         3450.0  Female  \n",
       "..           ...     ...  \n",
       "339          NaN     NaN  \n",
       "340       4850.0  Female  \n",
       "341       5750.0    Male  \n",
       "342       5200.0  Female  \n",
       "343       5400.0    Male  \n",
       "\n",
       "[344 rows x 7 columns]"
      ]
     },
     "execution_count": 5,
     "metadata": {},
     "output_type": "execute_result"
    }
   ],
   "source": [
    "sns.load_dataset('penguins')"
   ]
  },
  {
   "cell_type": "markdown",
   "metadata": {
    "cell_id": "518acd52670344ccb1627c739733ab88",
    "deepnote_app_coordinates": {
     "h": 5,
     "w": 12,
     "x": 0,
     "y": 90
    },
    "deepnote_cell_type": "markdown",
    "tags": []
   },
   "source": [
    "### Utilizando la interfaz de `Deepnote`\n",
    "\n",
    "Links de importación de datos:\n",
    "\n",
    "- [Conjunto de datos crudos](https://raw.githubusercontent.com/allisonhorst/palmerpenguins/master/inst/extdata/penguins_raw.csv).\n",
    "- [Conjunto de datos previamente procesados](https://raw.githubusercontent.com/allisonhorst/palmerpenguins/master/inst/extdata/penguins.csv)."
   ]
  },
  {
   "cell_type": "code",
   "execution_count": 6,
   "metadata": {
    "cell_id": "6e0cb76a0df1433193f56833fd1cafbd",
    "deepnote_app_coordinates": {
     "h": 5,
     "w": 12,
     "x": 0,
     "y": 96
    },
    "deepnote_cell_type": "code",
    "deepnote_to_be_reexecuted": false,
    "execution_millis": 16,
    "execution_start": 1684976541602,
    "output_cleared": false,
    "source_hash": "82fa0e15",
    "tags": []
   },
   "outputs": [
    {
     "data": {
      "application/vnd.deepnote.dataframe.v3+json": {
       "column_count": 17,
       "columns": [
        {
         "dtype": "object",
         "name": "studyName",
         "stats": {
          "categories": [
           {
            "count": 120,
            "name": "PAL0910"
           },
           {
            "count": 114,
            "name": "PAL0809"
           },
           {
            "count": 110,
            "name": "PAL0708"
           }
          ],
          "nan_count": 0,
          "unique_count": 3
         }
        },
        {
         "dtype": "int64",
         "name": "Sample Number",
         "stats": {
          "histogram": [
           {
            "bin_end": 16.1,
            "bin_start": 1,
            "count": 48
           },
           {
            "bin_end": 31.2,
            "bin_start": 16.1,
            "count": 45
           },
           {
            "bin_end": 46.3,
            "bin_start": 31.2,
            "count": 45
           },
           {
            "bin_end": 61.4,
            "bin_start": 46.3,
            "count": 45
           },
           {
            "bin_end": 76.5,
            "bin_start": 61.4,
            "count": 37
           },
           {
            "bin_end": 91.6,
            "bin_start": 76.5,
            "count": 30
           },
           {
            "bin_end": 106.7,
            "bin_start": 91.6,
            "count": 30
           },
           {
            "bin_end": 121.8,
            "bin_start": 106.7,
            "count": 30
           },
           {
            "bin_end": 136.9,
            "bin_start": 121.8,
            "count": 18
           },
           {
            "bin_end": 152,
            "bin_start": 136.9,
            "count": 16
           }
          ],
          "max": "152",
          "min": "1",
          "nan_count": 0,
          "unique_count": 152
         }
        },
        {
         "dtype": "object",
         "name": "Species",
         "stats": {
          "categories": [
           {
            "count": 152,
            "name": "Adelie Penguin (Pygoscelis adeliae)"
           },
           {
            "count": 124,
            "name": "Gentoo penguin (Pygoscelis papua)"
           },
           {
            "count": 68,
            "name": "Chinstrap penguin (Pygoscelis antarctica)"
           }
          ],
          "nan_count": 0,
          "unique_count": 3
         }
        },
        {
         "dtype": "object",
         "name": "Region",
         "stats": {
          "categories": [
           {
            "count": 344,
            "name": "Anvers"
           }
          ],
          "nan_count": 0,
          "unique_count": 1
         }
        },
        {
         "dtype": "object",
         "name": "Island",
         "stats": {
          "categories": [
           {
            "count": 168,
            "name": "Biscoe"
           },
           {
            "count": 124,
            "name": "Dream"
           },
           {
            "count": 52,
            "name": "Torgersen"
           }
          ],
          "nan_count": 0,
          "unique_count": 3
         }
        },
        {
         "dtype": "object",
         "name": "Stage",
         "stats": {
          "categories": [
           {
            "count": 344,
            "name": "Adult, 1 Egg Stage"
           }
          ],
          "nan_count": 0,
          "unique_count": 1
         }
        },
        {
         "dtype": "object",
         "name": "Individual ID",
         "stats": {
          "categories": [
           {
            "count": 3,
            "name": "N6A1"
           },
           {
            "count": 3,
            "name": "N6A2"
           },
           {
            "count": 338,
            "name": "188 others"
           }
          ],
          "nan_count": 0,
          "unique_count": 190
         }
        },
        {
         "dtype": "object",
         "name": "Clutch Completion",
         "stats": {
          "categories": [
           {
            "count": 308,
            "name": "Yes"
           },
           {
            "count": 36,
            "name": "No"
           }
          ],
          "nan_count": 0,
          "unique_count": 2
         }
        },
        {
         "dtype": "object",
         "name": "Date Egg",
         "stats": {
          "categories": [
           {
            "count": 18,
            "name": "2007-11-27"
           },
           {
            "count": 16,
            "name": "2007-11-16"
           },
           {
            "count": 310,
            "name": "48 others"
           }
          ],
          "nan_count": 0,
          "unique_count": 50
         }
        },
        {
         "dtype": "float64",
         "name": "Culmen Length (mm)",
         "stats": {
          "histogram": [
           {
            "bin_end": 34.85,
            "bin_start": 32.1,
            "count": 9
           },
           {
            "bin_end": 37.6,
            "bin_start": 34.85,
            "count": 40
           },
           {
            "bin_end": 40.35,
            "bin_start": 37.6,
            "count": 57
           },
           {
            "bin_end": 43.1,
            "bin_start": 40.35,
            "count": 48
           },
           {
            "bin_end": 45.85,
            "bin_start": 43.1,
            "count": 49
           },
           {
            "bin_end": 48.6,
            "bin_start": 45.85,
            "count": 55
           },
           {
            "bin_end": 51.35,
            "bin_start": 48.6,
            "count": 61
           },
           {
            "bin_end": 54.1,
            "bin_start": 51.35,
            "count": 16
           },
           {
            "bin_end": 56.85,
            "bin_start": 54.1,
            "count": 5
           },
           {
            "bin_end": 59.6,
            "bin_start": 56.85,
            "count": 2
           }
          ],
          "max": "59.6",
          "min": "32.1",
          "nan_count": 2,
          "unique_count": 164
         }
        },
        {
         "dtype": "float64",
         "name": "Culmen Depth (mm)",
         "stats": {
          "histogram": [
           {
            "bin_end": 13.94,
            "bin_start": 13.1,
            "count": 21
           },
           {
            "bin_end": 14.78,
            "bin_start": 13.94,
            "count": 35
           },
           {
            "bin_end": 15.620000000000001,
            "bin_start": 14.78,
            "count": 32
           },
           {
            "bin_end": 16.46,
            "bin_start": 15.620000000000001,
            "count": 34
           },
           {
            "bin_end": 17.3,
            "bin_start": 16.46,
            "count": 44
           },
           {
            "bin_end": 18.14,
            "bin_start": 17.3,
            "count": 55
           },
           {
            "bin_end": 18.98,
            "bin_start": 18.14,
            "count": 56
           },
           {
            "bin_end": 19.82,
            "bin_start": 18.98,
            "count": 39
           },
           {
            "bin_end": 20.66,
            "bin_start": 19.82,
            "count": 16
           },
           {
            "bin_end": 21.5,
            "bin_start": 20.66,
            "count": 10
           }
          ],
          "max": "21.5",
          "min": "13.1",
          "nan_count": 2,
          "unique_count": 80
         }
        },
        {
         "dtype": "float64",
         "name": "Flipper Length (mm)",
         "stats": {
          "histogram": [
           {
            "bin_end": 177.9,
            "bin_start": 172,
            "count": 3
           },
           {
            "bin_end": 183.8,
            "bin_start": 177.9,
            "count": 22
           },
           {
            "bin_end": 189.7,
            "bin_start": 183.8,
            "count": 52
           },
           {
            "bin_end": 195.6,
            "bin_start": 189.7,
            "count": 79
           },
           {
            "bin_end": 201.5,
            "bin_start": 195.6,
            "count": 44
           },
           {
            "bin_end": 207.4,
            "bin_start": 201.5,
            "count": 15
           },
           {
            "bin_end": 213.3,
            "bin_start": 207.4,
            "count": 42
           },
           {
            "bin_end": 219.2,
            "bin_start": 213.3,
            "count": 42
           },
           {
            "bin_end": 225.1,
            "bin_start": 219.2,
            "count": 28
           },
           {
            "bin_end": 231,
            "bin_start": 225.1,
            "count": 15
           }
          ],
          "max": "231.0",
          "min": "172.0",
          "nan_count": 2,
          "unique_count": 55
         }
        },
        {
         "dtype": "float64",
         "name": "Body Mass (g)",
         "stats": {
          "histogram": [
           {
            "bin_end": 3060,
            "bin_start": 2700,
            "count": 15
           },
           {
            "bin_end": 3420,
            "bin_start": 3060,
            "count": 43
           },
           {
            "bin_end": 3780,
            "bin_start": 3420,
            "count": 71
           },
           {
            "bin_end": 4140,
            "bin_start": 3780,
            "count": 53
           },
           {
            "bin_end": 4500,
            "bin_start": 4140,
            "count": 42
           },
           {
            "bin_end": 4860,
            "bin_start": 4500,
            "count": 41
           },
           {
            "bin_end": 5220,
            "bin_start": 4860,
            "count": 28
           },
           {
            "bin_end": 5580,
            "bin_start": 5220,
            "count": 27
           },
           {
            "bin_end": 5940,
            "bin_start": 5580,
            "count": 16
           },
           {
            "bin_end": 6300,
            "bin_start": 5940,
            "count": 6
           }
          ],
          "max": "6300.0",
          "min": "2700.0",
          "nan_count": 2,
          "unique_count": 94
         }
        },
        {
         "dtype": "object",
         "name": "Sex",
         "stats": {
          "categories": [
           {
            "count": 168,
            "name": "MALE"
           },
           {
            "count": 165,
            "name": "FEMALE"
           },
           {
            "count": 11,
            "name": "Missing"
           }
          ],
          "nan_count": 11,
          "unique_count": 2
         }
        },
        {
         "dtype": "float64",
         "name": "Delta 15 N (o/oo)",
         "stats": {
          "histogram": [
           {
            "bin_end": 7.871524,
            "bin_start": 7.6322,
            "count": 13
           },
           {
            "bin_end": 8.110848,
            "bin_start": 7.871524,
            "count": 27
           },
           {
            "bin_end": 8.350172,
            "bin_start": 8.110848,
            "count": 52
           },
           {
            "bin_end": 8.589496,
            "bin_start": 8.350172,
            "count": 56
           },
           {
            "bin_end": 8.82882,
            "bin_start": 8.589496,
            "count": 43
           },
           {
            "bin_end": 9.068144,
            "bin_start": 8.82882,
            "count": 41
           },
           {
            "bin_end": 9.307468,
            "bin_start": 9.068144,
            "count": 38
           },
           {
            "bin_end": 9.546792,
            "bin_start": 9.307468,
            "count": 33
           },
           {
            "bin_end": 9.786116,
            "bin_start": 9.546792,
            "count": 18
           },
           {
            "bin_end": 10.02544,
            "bin_start": 9.786116,
            "count": 9
           }
          ],
          "max": "10.02544",
          "min": "7.6322",
          "nan_count": 14,
          "unique_count": 330
         }
        },
        {
         "dtype": "float64",
         "name": "Delta 13 C (o/oo)",
         "stats": {
          "histogram": [
           {
            "bin_end": -26.695453,
            "bin_start": -27.01854,
            "count": 31
           },
           {
            "bin_end": -26.372366,
            "bin_start": -26.695453,
            "count": 45
           },
           {
            "bin_end": -26.049279000000002,
            "bin_start": -26.372366,
            "count": 66
           },
           {
            "bin_end": -25.726192,
            "bin_start": -26.049279000000002,
            "count": 36
           },
           {
            "bin_end": -25.403105,
            "bin_start": -25.726192,
            "count": 31
           },
           {
            "bin_end": -25.080018,
            "bin_start": -25.403105,
            "count": 36
           },
           {
            "bin_end": -24.756930999999998,
            "bin_start": -25.080018,
            "count": 22
           },
           {
            "bin_end": -24.433844,
            "bin_start": -24.756930999999998,
            "count": 39
           },
           {
            "bin_end": -24.110757,
            "bin_start": -24.433844,
            "count": 21
           },
           {
            "bin_end": -23.78767,
            "bin_start": -24.110757,
            "count": 4
           }
          ],
          "max": "-23.78767",
          "min": "-27.01854",
          "nan_count": 13,
          "unique_count": 331
         }
        },
        {
         "dtype": "object",
         "name": "Comments",
         "stats": {
          "categories": [
           {
            "count": 34,
            "name": "Nest never observed with full clutch."
           },
           {
            "count": 20,
            "name": "9 others"
           },
           {
            "count": 290,
            "name": "Missing"
           }
          ],
          "nan_count": 290,
          "unique_count": 10
         }
        },
        {
         "dtype": "int64",
         "name": "_deepnote_index_column"
        }
       ],
       "row_count": 344,
       "rows": [
        {
         "Body Mass (g)": "3750.0",
         "Clutch Completion": "Yes",
         "Comments": "Not enough blood for isotopes.",
         "Culmen Depth (mm)": "18.7",
         "Culmen Length (mm)": "39.1",
         "Date Egg": "2007-11-11",
         "Delta 13 C (o/oo)": "nan",
         "Delta 15 N (o/oo)": "nan",
         "Flipper Length (mm)": "181.0",
         "Individual ID": "N1A1",
         "Island": "Torgersen",
         "Region": "Anvers",
         "Sample Number": "1",
         "Sex": "MALE",
         "Species": "Adelie Penguin (Pygoscelis adeliae)",
         "Stage": "Adult, 1 Egg Stage",
         "_deepnote_index_column": "0",
         "studyName": "PAL0708"
        },
        {
         "Body Mass (g)": "3800.0",
         "Clutch Completion": "Yes",
         "Comments": "nan",
         "Culmen Depth (mm)": "17.4",
         "Culmen Length (mm)": "39.5",
         "Date Egg": "2007-11-11",
         "Delta 13 C (o/oo)": "-24.69454",
         "Delta 15 N (o/oo)": "8.94956",
         "Flipper Length (mm)": "186.0",
         "Individual ID": "N1A2",
         "Island": "Torgersen",
         "Region": "Anvers",
         "Sample Number": "2",
         "Sex": "FEMALE",
         "Species": "Adelie Penguin (Pygoscelis adeliae)",
         "Stage": "Adult, 1 Egg Stage",
         "_deepnote_index_column": "1",
         "studyName": "PAL0708"
        },
        {
         "Body Mass (g)": "3250.0",
         "Clutch Completion": "Yes",
         "Comments": "nan",
         "Culmen Depth (mm)": "18.0",
         "Culmen Length (mm)": "40.3",
         "Date Egg": "2007-11-16",
         "Delta 13 C (o/oo)": "-25.33302",
         "Delta 15 N (o/oo)": "8.36821",
         "Flipper Length (mm)": "195.0",
         "Individual ID": "N2A1",
         "Island": "Torgersen",
         "Region": "Anvers",
         "Sample Number": "3",
         "Sex": "FEMALE",
         "Species": "Adelie Penguin (Pygoscelis adeliae)",
         "Stage": "Adult, 1 Egg Stage",
         "_deepnote_index_column": "2",
         "studyName": "PAL0708"
        },
        {
         "Body Mass (g)": "nan",
         "Clutch Completion": "Yes",
         "Comments": "Adult not sampled.",
         "Culmen Depth (mm)": "nan",
         "Culmen Length (mm)": "nan",
         "Date Egg": "2007-11-16",
         "Delta 13 C (o/oo)": "nan",
         "Delta 15 N (o/oo)": "nan",
         "Flipper Length (mm)": "nan",
         "Individual ID": "N2A2",
         "Island": "Torgersen",
         "Region": "Anvers",
         "Sample Number": "4",
         "Sex": "nan",
         "Species": "Adelie Penguin (Pygoscelis adeliae)",
         "Stage": "Adult, 1 Egg Stage",
         "_deepnote_index_column": "3",
         "studyName": "PAL0708"
        },
        {
         "Body Mass (g)": "3450.0",
         "Clutch Completion": "Yes",
         "Comments": "nan",
         "Culmen Depth (mm)": "19.3",
         "Culmen Length (mm)": "36.7",
         "Date Egg": "2007-11-16",
         "Delta 13 C (o/oo)": "-25.32426",
         "Delta 15 N (o/oo)": "8.76651",
         "Flipper Length (mm)": "193.0",
         "Individual ID": "N3A1",
         "Island": "Torgersen",
         "Region": "Anvers",
         "Sample Number": "5",
         "Sex": "FEMALE",
         "Species": "Adelie Penguin (Pygoscelis adeliae)",
         "Stage": "Adult, 1 Egg Stage",
         "_deepnote_index_column": "4",
         "studyName": "PAL0708"
        },
        {
         "Body Mass (g)": "3650.0",
         "Clutch Completion": "Yes",
         "Comments": "nan",
         "Culmen Depth (mm)": "20.6",
         "Culmen Length (mm)": "39.3",
         "Date Egg": "2007-11-16",
         "Delta 13 C (o/oo)": "-25.29805",
         "Delta 15 N (o/oo)": "8.66496",
         "Flipper Length (mm)": "190.0",
         "Individual ID": "N3A2",
         "Island": "Torgersen",
         "Region": "Anvers",
         "Sample Number": "6",
         "Sex": "MALE",
         "Species": "Adelie Penguin (Pygoscelis adeliae)",
         "Stage": "Adult, 1 Egg Stage",
         "_deepnote_index_column": "5",
         "studyName": "PAL0708"
        },
        {
         "Body Mass (g)": "3625.0",
         "Clutch Completion": "No",
         "Comments": "Nest never observed with full clutch.",
         "Culmen Depth (mm)": "17.8",
         "Culmen Length (mm)": "38.9",
         "Date Egg": "2007-11-15",
         "Delta 13 C (o/oo)": "-25.21799",
         "Delta 15 N (o/oo)": "9.18718",
         "Flipper Length (mm)": "181.0",
         "Individual ID": "N4A1",
         "Island": "Torgersen",
         "Region": "Anvers",
         "Sample Number": "7",
         "Sex": "FEMALE",
         "Species": "Adelie Penguin (Pygoscelis adeliae)",
         "Stage": "Adult, 1 Egg Stage",
         "_deepnote_index_column": "6",
         "studyName": "PAL0708"
        },
        {
         "Body Mass (g)": "4675.0",
         "Clutch Completion": "No",
         "Comments": "Nest never observed with full clutch.",
         "Culmen Depth (mm)": "19.6",
         "Culmen Length (mm)": "39.2",
         "Date Egg": "2007-11-15",
         "Delta 13 C (o/oo)": "-24.89958",
         "Delta 15 N (o/oo)": "9.4606",
         "Flipper Length (mm)": "195.0",
         "Individual ID": "N4A2",
         "Island": "Torgersen",
         "Region": "Anvers",
         "Sample Number": "8",
         "Sex": "MALE",
         "Species": "Adelie Penguin (Pygoscelis adeliae)",
         "Stage": "Adult, 1 Egg Stage",
         "_deepnote_index_column": "7",
         "studyName": "PAL0708"
        },
        {
         "Body Mass (g)": "3475.0",
         "Clutch Completion": "Yes",
         "Comments": "No blood sample obtained.",
         "Culmen Depth (mm)": "18.1",
         "Culmen Length (mm)": "34.1",
         "Date Egg": "2007-11-09",
         "Delta 13 C (o/oo)": "nan",
         "Delta 15 N (o/oo)": "nan",
         "Flipper Length (mm)": "193.0",
         "Individual ID": "N5A1",
         "Island": "Torgersen",
         "Region": "Anvers",
         "Sample Number": "9",
         "Sex": "nan",
         "Species": "Adelie Penguin (Pygoscelis adeliae)",
         "Stage": "Adult, 1 Egg Stage",
         "_deepnote_index_column": "8",
         "studyName": "PAL0708"
        },
        {
         "Body Mass (g)": "4250.0",
         "Clutch Completion": "Yes",
         "Comments": "No blood sample obtained for sexing.",
         "Culmen Depth (mm)": "20.2",
         "Culmen Length (mm)": "42.0",
         "Date Egg": "2007-11-09",
         "Delta 13 C (o/oo)": "-25.09368",
         "Delta 15 N (o/oo)": "9.13362",
         "Flipper Length (mm)": "190.0",
         "Individual ID": "N5A2",
         "Island": "Torgersen",
         "Region": "Anvers",
         "Sample Number": "10",
         "Sex": "nan",
         "Species": "Adelie Penguin (Pygoscelis adeliae)",
         "Stage": "Adult, 1 Egg Stage",
         "_deepnote_index_column": "9",
         "studyName": "PAL0708"
        }
       ]
      },
      "text/html": [
       "<div>\n",
       "<style scoped>\n",
       "    .dataframe tbody tr th:only-of-type {\n",
       "        vertical-align: middle;\n",
       "    }\n",
       "\n",
       "    .dataframe tbody tr th {\n",
       "        vertical-align: top;\n",
       "    }\n",
       "\n",
       "    .dataframe thead th {\n",
       "        text-align: right;\n",
       "    }\n",
       "</style>\n",
       "<table border=\"1\" class=\"dataframe\">\n",
       "  <thead>\n",
       "    <tr style=\"text-align: right;\">\n",
       "      <th></th>\n",
       "      <th>studyName</th>\n",
       "      <th>Sample Number</th>\n",
       "      <th>Species</th>\n",
       "      <th>Region</th>\n",
       "      <th>Island</th>\n",
       "      <th>Stage</th>\n",
       "      <th>Individual ID</th>\n",
       "      <th>Clutch Completion</th>\n",
       "      <th>Date Egg</th>\n",
       "      <th>Culmen Length (mm)</th>\n",
       "      <th>Culmen Depth (mm)</th>\n",
       "      <th>Flipper Length (mm)</th>\n",
       "      <th>Body Mass (g)</th>\n",
       "      <th>Sex</th>\n",
       "      <th>Delta 15 N (o/oo)</th>\n",
       "      <th>Delta 13 C (o/oo)</th>\n",
       "      <th>Comments</th>\n",
       "    </tr>\n",
       "  </thead>\n",
       "  <tbody>\n",
       "    <tr>\n",
       "      <th>0</th>\n",
       "      <td>PAL0708</td>\n",
       "      <td>1</td>\n",
       "      <td>Adelie Penguin (Pygoscelis adeliae)</td>\n",
       "      <td>Anvers</td>\n",
       "      <td>Torgersen</td>\n",
       "      <td>Adult, 1 Egg Stage</td>\n",
       "      <td>N1A1</td>\n",
       "      <td>Yes</td>\n",
       "      <td>2007-11-11</td>\n",
       "      <td>39.1</td>\n",
       "      <td>18.7</td>\n",
       "      <td>181.0</td>\n",
       "      <td>3750.0</td>\n",
       "      <td>MALE</td>\n",
       "      <td>NaN</td>\n",
       "      <td>NaN</td>\n",
       "      <td>Not enough blood for isotopes.</td>\n",
       "    </tr>\n",
       "    <tr>\n",
       "      <th>1</th>\n",
       "      <td>PAL0708</td>\n",
       "      <td>2</td>\n",
       "      <td>Adelie Penguin (Pygoscelis adeliae)</td>\n",
       "      <td>Anvers</td>\n",
       "      <td>Torgersen</td>\n",
       "      <td>Adult, 1 Egg Stage</td>\n",
       "      <td>N1A2</td>\n",
       "      <td>Yes</td>\n",
       "      <td>2007-11-11</td>\n",
       "      <td>39.5</td>\n",
       "      <td>17.4</td>\n",
       "      <td>186.0</td>\n",
       "      <td>3800.0</td>\n",
       "      <td>FEMALE</td>\n",
       "      <td>8.94956</td>\n",
       "      <td>-24.69454</td>\n",
       "      <td>NaN</td>\n",
       "    </tr>\n",
       "    <tr>\n",
       "      <th>2</th>\n",
       "      <td>PAL0708</td>\n",
       "      <td>3</td>\n",
       "      <td>Adelie Penguin (Pygoscelis adeliae)</td>\n",
       "      <td>Anvers</td>\n",
       "      <td>Torgersen</td>\n",
       "      <td>Adult, 1 Egg Stage</td>\n",
       "      <td>N2A1</td>\n",
       "      <td>Yes</td>\n",
       "      <td>2007-11-16</td>\n",
       "      <td>40.3</td>\n",
       "      <td>18.0</td>\n",
       "      <td>195.0</td>\n",
       "      <td>3250.0</td>\n",
       "      <td>FEMALE</td>\n",
       "      <td>8.36821</td>\n",
       "      <td>-25.33302</td>\n",
       "      <td>NaN</td>\n",
       "    </tr>\n",
       "    <tr>\n",
       "      <th>3</th>\n",
       "      <td>PAL0708</td>\n",
       "      <td>4</td>\n",
       "      <td>Adelie Penguin (Pygoscelis adeliae)</td>\n",
       "      <td>Anvers</td>\n",
       "      <td>Torgersen</td>\n",
       "      <td>Adult, 1 Egg Stage</td>\n",
       "      <td>N2A2</td>\n",
       "      <td>Yes</td>\n",
       "      <td>2007-11-16</td>\n",
       "      <td>NaN</td>\n",
       "      <td>NaN</td>\n",
       "      <td>NaN</td>\n",
       "      <td>NaN</td>\n",
       "      <td>NaN</td>\n",
       "      <td>NaN</td>\n",
       "      <td>NaN</td>\n",
       "      <td>Adult not sampled.</td>\n",
       "    </tr>\n",
       "    <tr>\n",
       "      <th>4</th>\n",
       "      <td>PAL0708</td>\n",
       "      <td>5</td>\n",
       "      <td>Adelie Penguin (Pygoscelis adeliae)</td>\n",
       "      <td>Anvers</td>\n",
       "      <td>Torgersen</td>\n",
       "      <td>Adult, 1 Egg Stage</td>\n",
       "      <td>N3A1</td>\n",
       "      <td>Yes</td>\n",
       "      <td>2007-11-16</td>\n",
       "      <td>36.7</td>\n",
       "      <td>19.3</td>\n",
       "      <td>193.0</td>\n",
       "      <td>3450.0</td>\n",
       "      <td>FEMALE</td>\n",
       "      <td>8.76651</td>\n",
       "      <td>-25.32426</td>\n",
       "      <td>NaN</td>\n",
       "    </tr>\n",
       "    <tr>\n",
       "      <th>...</th>\n",
       "      <td>...</td>\n",
       "      <td>...</td>\n",
       "      <td>...</td>\n",
       "      <td>...</td>\n",
       "      <td>...</td>\n",
       "      <td>...</td>\n",
       "      <td>...</td>\n",
       "      <td>...</td>\n",
       "      <td>...</td>\n",
       "      <td>...</td>\n",
       "      <td>...</td>\n",
       "      <td>...</td>\n",
       "      <td>...</td>\n",
       "      <td>...</td>\n",
       "      <td>...</td>\n",
       "      <td>...</td>\n",
       "      <td>...</td>\n",
       "    </tr>\n",
       "    <tr>\n",
       "      <th>339</th>\n",
       "      <td>PAL0910</td>\n",
       "      <td>64</td>\n",
       "      <td>Chinstrap penguin (Pygoscelis antarctica)</td>\n",
       "      <td>Anvers</td>\n",
       "      <td>Dream</td>\n",
       "      <td>Adult, 1 Egg Stage</td>\n",
       "      <td>N98A2</td>\n",
       "      <td>Yes</td>\n",
       "      <td>2009-11-19</td>\n",
       "      <td>55.8</td>\n",
       "      <td>19.8</td>\n",
       "      <td>207.0</td>\n",
       "      <td>4000.0</td>\n",
       "      <td>MALE</td>\n",
       "      <td>9.70465</td>\n",
       "      <td>-24.53494</td>\n",
       "      <td>NaN</td>\n",
       "    </tr>\n",
       "    <tr>\n",
       "      <th>340</th>\n",
       "      <td>PAL0910</td>\n",
       "      <td>65</td>\n",
       "      <td>Chinstrap penguin (Pygoscelis antarctica)</td>\n",
       "      <td>Anvers</td>\n",
       "      <td>Dream</td>\n",
       "      <td>Adult, 1 Egg Stage</td>\n",
       "      <td>N99A1</td>\n",
       "      <td>No</td>\n",
       "      <td>2009-11-21</td>\n",
       "      <td>43.5</td>\n",
       "      <td>18.1</td>\n",
       "      <td>202.0</td>\n",
       "      <td>3400.0</td>\n",
       "      <td>FEMALE</td>\n",
       "      <td>9.37608</td>\n",
       "      <td>-24.40753</td>\n",
       "      <td>Nest never observed with full clutch.</td>\n",
       "    </tr>\n",
       "    <tr>\n",
       "      <th>341</th>\n",
       "      <td>PAL0910</td>\n",
       "      <td>66</td>\n",
       "      <td>Chinstrap penguin (Pygoscelis antarctica)</td>\n",
       "      <td>Anvers</td>\n",
       "      <td>Dream</td>\n",
       "      <td>Adult, 1 Egg Stage</td>\n",
       "      <td>N99A2</td>\n",
       "      <td>No</td>\n",
       "      <td>2009-11-21</td>\n",
       "      <td>49.6</td>\n",
       "      <td>18.2</td>\n",
       "      <td>193.0</td>\n",
       "      <td>3775.0</td>\n",
       "      <td>MALE</td>\n",
       "      <td>9.46180</td>\n",
       "      <td>-24.70615</td>\n",
       "      <td>Nest never observed with full clutch.</td>\n",
       "    </tr>\n",
       "    <tr>\n",
       "      <th>342</th>\n",
       "      <td>PAL0910</td>\n",
       "      <td>67</td>\n",
       "      <td>Chinstrap penguin (Pygoscelis antarctica)</td>\n",
       "      <td>Anvers</td>\n",
       "      <td>Dream</td>\n",
       "      <td>Adult, 1 Egg Stage</td>\n",
       "      <td>N100A1</td>\n",
       "      <td>Yes</td>\n",
       "      <td>2009-11-21</td>\n",
       "      <td>50.8</td>\n",
       "      <td>19.0</td>\n",
       "      <td>210.0</td>\n",
       "      <td>4100.0</td>\n",
       "      <td>MALE</td>\n",
       "      <td>9.98044</td>\n",
       "      <td>-24.68741</td>\n",
       "      <td>NaN</td>\n",
       "    </tr>\n",
       "    <tr>\n",
       "      <th>343</th>\n",
       "      <td>PAL0910</td>\n",
       "      <td>68</td>\n",
       "      <td>Chinstrap penguin (Pygoscelis antarctica)</td>\n",
       "      <td>Anvers</td>\n",
       "      <td>Dream</td>\n",
       "      <td>Adult, 1 Egg Stage</td>\n",
       "      <td>N100A2</td>\n",
       "      <td>Yes</td>\n",
       "      <td>2009-11-21</td>\n",
       "      <td>50.2</td>\n",
       "      <td>18.7</td>\n",
       "      <td>198.0</td>\n",
       "      <td>3775.0</td>\n",
       "      <td>FEMALE</td>\n",
       "      <td>9.39305</td>\n",
       "      <td>-24.25255</td>\n",
       "      <td>NaN</td>\n",
       "    </tr>\n",
       "  </tbody>\n",
       "</table>\n",
       "<p>344 rows × 17 columns</p>\n",
       "</div>"
      ],
      "text/plain": [
       "    studyName  Sample Number                                    Species  \\\n",
       "0     PAL0708              1        Adelie Penguin (Pygoscelis adeliae)   \n",
       "1     PAL0708              2        Adelie Penguin (Pygoscelis adeliae)   \n",
       "2     PAL0708              3        Adelie Penguin (Pygoscelis adeliae)   \n",
       "3     PAL0708              4        Adelie Penguin (Pygoscelis adeliae)   \n",
       "4     PAL0708              5        Adelie Penguin (Pygoscelis adeliae)   \n",
       "..        ...            ...                                        ...   \n",
       "339   PAL0910             64  Chinstrap penguin (Pygoscelis antarctica)   \n",
       "340   PAL0910             65  Chinstrap penguin (Pygoscelis antarctica)   \n",
       "341   PAL0910             66  Chinstrap penguin (Pygoscelis antarctica)   \n",
       "342   PAL0910             67  Chinstrap penguin (Pygoscelis antarctica)   \n",
       "343   PAL0910             68  Chinstrap penguin (Pygoscelis antarctica)   \n",
       "\n",
       "     Region     Island               Stage Individual ID Clutch Completion  \\\n",
       "0    Anvers  Torgersen  Adult, 1 Egg Stage          N1A1               Yes   \n",
       "1    Anvers  Torgersen  Adult, 1 Egg Stage          N1A2               Yes   \n",
       "2    Anvers  Torgersen  Adult, 1 Egg Stage          N2A1               Yes   \n",
       "3    Anvers  Torgersen  Adult, 1 Egg Stage          N2A2               Yes   \n",
       "4    Anvers  Torgersen  Adult, 1 Egg Stage          N3A1               Yes   \n",
       "..      ...        ...                 ...           ...               ...   \n",
       "339  Anvers      Dream  Adult, 1 Egg Stage         N98A2               Yes   \n",
       "340  Anvers      Dream  Adult, 1 Egg Stage         N99A1                No   \n",
       "341  Anvers      Dream  Adult, 1 Egg Stage         N99A2                No   \n",
       "342  Anvers      Dream  Adult, 1 Egg Stage        N100A1               Yes   \n",
       "343  Anvers      Dream  Adult, 1 Egg Stage        N100A2               Yes   \n",
       "\n",
       "       Date Egg  Culmen Length (mm)  Culmen Depth (mm)  Flipper Length (mm)  \\\n",
       "0    2007-11-11                39.1               18.7                181.0   \n",
       "1    2007-11-11                39.5               17.4                186.0   \n",
       "2    2007-11-16                40.3               18.0                195.0   \n",
       "3    2007-11-16                 NaN                NaN                  NaN   \n",
       "4    2007-11-16                36.7               19.3                193.0   \n",
       "..          ...                 ...                ...                  ...   \n",
       "339  2009-11-19                55.8               19.8                207.0   \n",
       "340  2009-11-21                43.5               18.1                202.0   \n",
       "341  2009-11-21                49.6               18.2                193.0   \n",
       "342  2009-11-21                50.8               19.0                210.0   \n",
       "343  2009-11-21                50.2               18.7                198.0   \n",
       "\n",
       "     Body Mass (g)     Sex  Delta 15 N (o/oo)  Delta 13 C (o/oo)  \\\n",
       "0           3750.0    MALE                NaN                NaN   \n",
       "1           3800.0  FEMALE            8.94956          -24.69454   \n",
       "2           3250.0  FEMALE            8.36821          -25.33302   \n",
       "3              NaN     NaN                NaN                NaN   \n",
       "4           3450.0  FEMALE            8.76651          -25.32426   \n",
       "..             ...     ...                ...                ...   \n",
       "339         4000.0    MALE            9.70465          -24.53494   \n",
       "340         3400.0  FEMALE            9.37608          -24.40753   \n",
       "341         3775.0    MALE            9.46180          -24.70615   \n",
       "342         4100.0    MALE            9.98044          -24.68741   \n",
       "343         3775.0  FEMALE            9.39305          -24.25255   \n",
       "\n",
       "                                  Comments  \n",
       "0           Not enough blood for isotopes.  \n",
       "1                                      NaN  \n",
       "2                                      NaN  \n",
       "3                       Adult not sampled.  \n",
       "4                                      NaN  \n",
       "..                                     ...  \n",
       "339                                    NaN  \n",
       "340  Nest never observed with full clutch.  \n",
       "341  Nest never observed with full clutch.  \n",
       "342                                    NaN  \n",
       "343                                    NaN  \n",
       "\n",
       "[344 rows x 17 columns]"
      ]
     },
     "execution_count": 6,
     "metadata": {},
     "output_type": "execute_result"
    }
   ],
   "source": [
    "raw = pd.read_csv('penguins_raw.csv')\n",
    "raw"
   ]
  },
  {
   "cell_type": "code",
   "execution_count": 7,
   "metadata": {
    "cell_id": "e8c9bb826e754d9dbfe6926ef8f4a158",
    "deepnote_app_coordinates": {
     "h": 5,
     "w": 12,
     "x": 0,
     "y": 102
    },
    "deepnote_cell_type": "code",
    "deepnote_table_loading": false,
    "deepnote_table_state": {
     "filters": [],
     "pageIndex": 0,
     "pageSize": 10,
     "sortBy": []
    },
    "deepnote_to_be_reexecuted": false,
    "execution_millis": 4,
    "execution_start": 1684976541652,
    "output_cleared": false,
    "source_hash": "b623e53d",
    "tags": []
   },
   "outputs": [],
   "source": []
  },
  {
   "cell_type": "markdown",
   "metadata": {
    "cell_id": "55be830e49cc4950bca9c709e3ed1393",
    "deepnote_app_coordinates": {
     "h": 5,
     "w": 12,
     "x": 0,
     "y": 108
    },
    "deepnote_cell_type": "markdown",
    "deepnote_to_be_reexecuted": false,
    "execution_millis": 521820,
    "execution_start": 1652836959673,
    "source_hash": "b623e53d",
    "tags": []
   },
   "source": [
    "# Colecta y validación de datos"
   ]
  },
  {
   "cell_type": "markdown",
   "metadata": {
    "cell_id": "779e5053313b445eb715b41eb1ec91ed",
    "deepnote_app_coordinates": {
     "h": 5,
     "w": 12,
     "x": 0,
     "y": 114
    },
    "deepnote_cell_type": "markdown",
    "tags": []
   },
   "source": [
    "## ¿Qué tipo de dato son las variables del conjunto de datos?"
   ]
  },
  {
   "cell_type": "code",
   "execution_count": 8,
   "metadata": {
    "cell_id": "03ccc59f3c684abe85a0c5f476186a3b",
    "deepnote_app_coordinates": {
     "h": 5,
     "w": 12,
     "x": 0,
     "y": 120
    },
    "deepnote_cell_type": "code",
    "deepnote_to_be_reexecuted": false,
    "execution_millis": 3,
    "execution_start": 1684976541653,
    "output_cleared": false,
    "source_hash": "4b990ee1",
    "tags": []
   },
   "outputs": [
    {
     "data": {
      "text/plain": [
       "species               object\n",
       "island                object\n",
       "bill_length_mm       float64\n",
       "bill_depth_mm        float64\n",
       "flipper_length_mm    float64\n",
       "body_mass_g          float64\n",
       "sex                   object\n",
       "year                   int64\n",
       "dtype: object"
      ]
     },
     "execution_count": 8,
     "metadata": {},
     "output_type": "execute_result"
    }
   ],
   "source": [
    "preprocess_penguins_df.dtypes\n"
   ]
  },
  {
   "cell_type": "markdown",
   "metadata": {
    "cell_id": "2ac5e0397c8e49fb85e74ce6a19dda51",
    "deepnote_app_coordinates": {
     "h": 5,
     "w": 12,
     "x": 0,
     "y": 126
    },
    "deepnote_cell_type": "markdown",
    "tags": []
   },
   "source": [
    "## ¿Cuántas variables de cada tipo de dato tenemos en el conjunto de datos?"
   ]
  },
  {
   "cell_type": "code",
   "execution_count": 9,
   "metadata": {
    "cell_id": "f518bfc9d8e54c6dbfa5c046fa9fea27",
    "deepnote_app_coordinates": {
     "h": 5,
     "w": 12,
     "x": 0,
     "y": 132
    },
    "deepnote_cell_type": "code",
    "deepnote_to_be_reexecuted": false,
    "execution_millis": 2,
    "execution_start": 1684976541654,
    "output_cleared": false,
    "source_hash": "5c16188c",
    "tags": []
   },
   "outputs": [
    {
     "data": {
      "text/plain": [
       "float64    4\n",
       "object     3\n",
       "int64      1\n",
       "dtype: int64"
      ]
     },
     "execution_count": 9,
     "metadata": {},
     "output_type": "execute_result"
    }
   ],
   "source": [
    "(\n",
    "    preprocess_penguins_df\n",
    "    .dtypes\n",
    "    .value_counts()\n",
    "    \n",
    ")"
   ]
  },
  {
   "cell_type": "markdown",
   "metadata": {
    "cell_id": "7f27bcbad61c491083905eeb5462b165",
    "deepnote_app_coordinates": {
     "h": 5,
     "w": 12,
     "x": 0,
     "y": 138
    },
    "deepnote_cell_type": "markdown",
    "tags": []
   },
   "source": [
    "## ¿Cuántas variables y observaciones tenemos en el conjunto de datos?"
   ]
  },
  {
   "cell_type": "code",
   "execution_count": 10,
   "metadata": {
    "cell_id": "42e9bbb9d9df48d182c3c3a2a6d0fc00",
    "deepnote_app_coordinates": {
     "h": 5,
     "w": 12,
     "x": 0,
     "y": 144
    },
    "deepnote_cell_type": "code",
    "deepnote_to_be_reexecuted": false,
    "execution_millis": 1,
    "execution_start": 1684976541660,
    "output_cleared": false,
    "source_hash": "77ba6dbe",
    "tags": []
   },
   "outputs": [
    {
     "data": {
      "text/plain": [
       "(344, 8)"
      ]
     },
     "execution_count": 10,
     "metadata": {},
     "output_type": "execute_result"
    }
   ],
   "source": [
    "preprocess_penguins_df.shape"
   ]
  },
  {
   "cell_type": "markdown",
   "metadata": {
    "cell_id": "efa2111badde4bfabbdd3ff0375e06d8",
    "deepnote_app_coordinates": {
     "h": 5,
     "w": 12,
     "x": 0,
     "y": 150
    },
    "deepnote_cell_type": "markdown",
    "tags": []
   },
   "source": [
    "## ¿Existen valores nulos explícitos en el conjunto de datos?"
   ]
  },
  {
   "cell_type": "code",
   "execution_count": 11,
   "metadata": {
    "cell_id": "b8850af76e0e4c259a268b80d571bdad",
    "deepnote_app_coordinates": {
     "h": 5,
     "w": 12,
     "x": 0,
     "y": 156
    },
    "deepnote_cell_type": "code",
    "deepnote_to_be_reexecuted": false,
    "execution_millis": 8,
    "execution_start": 1684976541669,
    "output_cleared": false,
    "source_hash": "104d4b8a",
    "tags": []
   },
   "outputs": [
    {
     "data": {
      "text/plain": [
       "species              False\n",
       "island               False\n",
       "bill_length_mm        True\n",
       "bill_depth_mm         True\n",
       "flipper_length_mm     True\n",
       "body_mass_g           True\n",
       "sex                   True\n",
       "year                 False\n",
       "dtype: bool"
      ]
     },
     "execution_count": 11,
     "metadata": {},
     "output_type": "execute_result"
    }
   ],
   "source": [
    "(\n",
    "    preprocess_penguins_df\n",
    "    .isnull()\n",
    "    .any()\n",
    ")"
   ]
  },
  {
   "cell_type": "markdown",
   "metadata": {
    "cell_id": "29747884b2fd46cd868fb569ad8639f6",
    "deepnote_app_coordinates": {
     "h": 5,
     "w": 12,
     "x": 0,
     "y": 162
    },
    "deepnote_cell_type": "markdown",
    "tags": []
   },
   "source": [
    "## De tener observaciones con valores nulos, ¿cuántas tenemos por cada variable?"
   ]
  },
  {
   "cell_type": "code",
   "execution_count": 12,
   "metadata": {
    "cell_id": "d51d46ad166b4a09b89f2ab80711ec76",
    "deepnote_app_coordinates": {
     "h": 5,
     "w": 12,
     "x": 0,
     "y": 168
    },
    "deepnote_cell_type": "code",
    "deepnote_to_be_reexecuted": false,
    "execution_millis": 6,
    "execution_start": 1684976541682,
    "output_cleared": false,
    "source_hash": "51b9cc36",
    "tags": []
   },
   "outputs": [
    {
     "data": {
      "text/plain": [
       "species               0\n",
       "island                0\n",
       "bill_length_mm        2\n",
       "bill_depth_mm         2\n",
       "flipper_length_mm     2\n",
       "body_mass_g           2\n",
       "sex                  11\n",
       "year                  0\n",
       "dtype: int64"
      ]
     },
     "execution_count": 12,
     "metadata": {},
     "output_type": "execute_result"
    }
   ],
   "source": [
    "(\n",
    "    preprocess_penguins_df\n",
    "    .isnull()\n",
    "    .sum()\n",
    ")"
   ]
  },
  {
   "cell_type": "markdown",
   "metadata": {
    "cell_id": "b7248026ee77484fb2bc970265a4a523",
    "deepnote_app_coordinates": {
     "h": 5,
     "w": 12,
     "x": 0,
     "y": 174
    },
    "deepnote_cell_type": "markdown",
    "tags": []
   },
   "source": [
    "## ¿Cuántos valores nulos tenemos en total en el conjunto de datos?"
   ]
  },
  {
   "cell_type": "code",
   "execution_count": 13,
   "metadata": {
    "cell_id": "1614069985fb47e5ab73e236bd1ec1eb",
    "deepnote_app_coordinates": {
     "h": 5,
     "w": 12,
     "x": 0,
     "y": 180
    },
    "deepnote_cell_type": "code",
    "deepnote_to_be_reexecuted": false,
    "execution_millis": 1,
    "execution_start": 1684976541772,
    "output_cleared": false,
    "source_hash": "1353b9bc",
    "tags": []
   },
   "outputs": [
    {
     "data": {
      "text/plain": [
       "19"
      ]
     },
     "execution_count": 13,
     "metadata": {},
     "output_type": "execute_result"
    }
   ],
   "source": [
    "(\n",
    "    preprocess_penguins_df\n",
    "    .isnull()\n",
    "    .sum()\n",
    "    .sum()\n",
    ")"
   ]
  },
  {
   "cell_type": "markdown",
   "metadata": {
    "cell_id": "e5c39b3d959a402fa3dc08cb2e6b0a1c",
    "deepnote_app_coordinates": {
     "h": 5,
     "w": 12,
     "x": 0,
     "y": 186
    },
    "deepnote_cell_type": "markdown",
    "tags": []
   },
   "source": [
    "## ¿Cuál es la proporción de valores nulos por cada variable?"
   ]
  },
  {
   "cell_type": "code",
   "execution_count": 14,
   "metadata": {
    "cell_id": "615492a2ccc04e15b55a22ce45839325",
    "deepnote_app_coordinates": {
     "h": 5,
     "w": 12,
     "x": 0,
     "y": 192
    },
    "deepnote_cell_type": "code",
    "deepnote_to_be_reexecuted": false,
    "execution_millis": 772,
    "execution_start": 1684976541773,
    "output_cleared": false,
    "source_hash": "39aec908",
    "tags": []
   },
   "outputs": [
    {
     "data": {
      "text/plain": [
       "<seaborn.axisgrid.FacetGrid at 0x7fa1968db5e0>"
      ]
     },
     "execution_count": 14,
     "metadata": {},
     "output_type": "execute_result"
    },
    {
     "data": {
      "image/png": "[encoded data removed]",
      "text/plain": [
       "<Figure size 1093.5x500 with 1 Axes>"
      ]
     },
     "metadata": {
      "image/png": {
       "height": 484,
       "width": 1087
      }
     },
     "output_type": "display_data"
    }
   ],
   "source": [
    "(\n",
    "    preprocess_penguins_df\n",
    "    .isnull()\n",
    "    .melt()\n",
    "    .pipe(\n",
    "        lambda df: (\n",
    "            sns.displot(\n",
    "                data=df,\n",
    "                y='variable',\n",
    "                hue='value',\n",
    "                multiple='fill',\n",
    "                aspect=2\n",
    "            )\n",
    "        )\n",
    "    )\n",
    ")"
   ]
  },
  {
   "cell_type": "markdown",
   "metadata": {
    "cell_id": "306bda64885e4557b8e277bd8ab94d8c",
    "deepnote_app_coordinates": {
     "h": 5,
     "w": 12,
     "x": 0,
     "y": 198
    },
    "deepnote_cell_type": "markdown",
    "tags": []
   },
   "source": [
    "## ¿Cómo podemos visualizar los valores nulos en todo el conjunto de datos?"
   ]
  },
  {
   "cell_type": "code",
   "execution_count": 15,
   "metadata": {
    "cell_id": "fafdaf6c24474017a364ca890c80ecaf",
    "deepnote_app_coordinates": {
     "h": 5,
     "w": 12,
     "x": 0,
     "y": 204
    },
    "deepnote_cell_type": "code",
    "deepnote_to_be_reexecuted": false,
    "execution_millis": 446,
    "execution_start": 1684976542931,
    "output_cleared": false,
    "source_hash": "cf0c7b3b",
    "tags": []
   },
   "outputs": [
    {
     "data": {
      "text/plain": [
       "<AxesSubplot: >"
      ]
     },
     "execution_count": 15,
     "metadata": {},
     "output_type": "execute_result"
    },
    {
     "data": {
      "image/png": "[encoded data removed]",
      "text/plain": [
       "<Figure size 1100x940 with 2 Axes>"
      ]
     },
     "metadata": {
      "image/png": {
       "height": 792,
       "width": 974
      }
     },
     "output_type": "display_data"
    }
   ],
   "source": [
    "(\n",
    "    preprocess_penguins_df\n",
    "    .isnull()\n",
    "    .transpose()\n",
    "    .pipe(\n",
    "        lambda df: (\n",
    "            sns.heatmap(\n",
    "                data=df\n",
    "            )\n",
    "        )\n",
    "    )\n",
    ")"
   ]
  },
  {
   "cell_type": "markdown",
   "metadata": {
    "cell_id": "4621b69767514e48aaa0941479a12c15",
    "deepnote_app_coordinates": {
     "h": 5,
     "w": 12,
     "x": 0,
     "y": 210
    },
    "deepnote_cell_type": "markdown",
    "tags": []
   },
   "source": [
    "## ¿Cuántas observaciones perdemos si eliminamos los datos faltantes?"
   ]
  },
  {
   "cell_type": "code",
   "execution_count": 16,
   "metadata": {
    "cell_id": "3f1642ed1a83469aa59adab88cfd3db8",
    "deepnote_app_coordinates": {
     "h": 5,
     "w": 12,
     "x": 0,
     "y": 216
    },
    "deepnote_cell_type": "code",
    "deepnote_to_be_reexecuted": false,
    "execution_millis": 41,
    "execution_start": 1684976544127,
    "output_cleared": false,
    "source_hash": "47fd050c",
    "tags": []
   },
   "outputs": [
    {
     "data": {
      "application/vnd.deepnote.dataframe.v3+json": {
       "column_count": 8,
       "columns": [
        {
         "dtype": "object",
         "name": "species",
         "stats": {
          "categories": [
           {
            "count": 146,
            "name": "Adelie"
           },
           {
            "count": 119,
            "name": "Gentoo"
           },
           {
            "count": 68,
            "name": "Chinstrap"
           }
          ],
          "nan_count": 0,
          "unique_count": 3
         }
        },
        {
         "dtype": "object",
         "name": "island",
         "stats": {
          "categories": [
           {
            "count": 163,
            "name": "Biscoe"
           },
           {
            "count": 123,
            "name": "Dream"
           },
           {
            "count": 47,
            "name": "Torgersen"
           }
          ],
          "nan_count": 0,
          "unique_count": 3
         }
        },
        {
         "dtype": "float64",
         "name": "bill_length_mm",
         "stats": {
          "histogram": [
           {
            "bin_end": 34.85,
            "bin_start": 32.1,
            "count": 8
           },
           {
            "bin_end": 37.6,
            "bin_start": 34.85,
            "count": 39
           },
           {
            "bin_end": 40.35,
            "bin_start": 37.6,
            "count": 55
           },
           {
            "bin_end": 43.1,
            "bin_start": 40.35,
            "count": 47
           },
           {
            "bin_end": 45.85,
            "bin_start": 43.1,
            "count": 47
           },
           {
            "bin_end": 48.6,
            "bin_start": 45.85,
            "count": 53
           },
           {
            "bin_end": 51.35,
            "bin_start": 48.6,
            "count": 61
           },
           {
            "bin_end": 54.1,
            "bin_start": 51.35,
            "count": 16
           },
           {
            "bin_end": 56.85,
            "bin_start": 54.1,
            "count": 5
           },
           {
            "bin_end": 59.6,
            "bin_start": 56.85,
            "count": 2
           }
          ],
          "max": "59.6",
          "min": "32.1",
          "nan_count": 0,
          "unique_count": 163
         }
        },
        {
         "dtype": "float64",
         "name": "bill_depth_mm",
         "stats": {
          "histogram": [
           {
            "bin_end": 13.94,
            "bin_start": 13.1,
            "count": 20
           },
           {
            "bin_end": 14.78,
            "bin_start": 13.94,
            "count": 33
           },
           {
            "bin_end": 15.620000000000001,
            "bin_start": 14.78,
            "count": 32
           },
           {
            "bin_end": 16.46,
            "bin_start": 15.620000000000001,
            "count": 33
           },
           {
            "bin_end": 17.3,
            "bin_start": 16.46,
            "count": 43
           },
           {
            "bin_end": 18.14,
            "bin_start": 17.3,
            "count": 53
           },
           {
            "bin_end": 18.98,
            "bin_start": 18.14,
            "count": 55
           },
           {
            "bin_end": 19.82,
            "bin_start": 18.98,
            "count": 39
           },
           {
            "bin_end": 20.66,
            "bin_start": 19.82,
            "count": 15
           },
           {
            "bin_end": 21.5,
            "bin_start": 20.66,
            "count": 10
           }
          ],
          "max": "21.5",
          "min": "13.1",
          "nan_count": 0,
          "unique_count": 79
         }
        },
        {
         "dtype": "float64",
         "name": "flipper_length_mm",
         "stats": {
          "histogram": [
           {
            "bin_end": 177.9,
            "bin_start": 172,
            "count": 3
           },
           {
            "bin_end": 183.8,
            "bin_start": 177.9,
            "count": 20
           },
           {
            "bin_end": 189.7,
            "bin_start": 183.8,
            "count": 51
           },
           {
            "bin_end": 195.6,
            "bin_start": 189.7,
            "count": 77
           },
           {
            "bin_end": 201.5,
            "bin_start": 195.6,
            "count": 44
           },
           {
            "bin_end": 207.4,
            "bin_start": 201.5,
            "count": 15
           },
           {
            "bin_end": 213.3,
            "bin_start": 207.4,
            "count": 42
           },
           {
            "bin_end": 219.2,
            "bin_start": 213.3,
            "count": 38
           },
           {
            "bin_end": 225.1,
            "bin_start": 219.2,
            "count": 28
           },
           {
            "bin_end": 231,
            "bin_start": 225.1,
            "count": 15
           }
          ],
          "max": "231.0",
          "min": "172.0",
          "nan_count": 0,
          "unique_count": 54
         }
        },
        {
         "dtype": "float64",
         "name": "body_mass_g",
         "stats": {
          "histogram": [
           {
            "bin_end": 3060,
            "bin_start": 2700,
            "count": 14
           },
           {
            "bin_end": 3420,
            "bin_start": 3060,
            "count": 42
           },
           {
            "bin_end": 3780,
            "bin_start": 3420,
            "count": 69
           },
           {
            "bin_end": 4140,
            "bin_start": 3780,
            "count": 52
           },
           {
            "bin_end": 4500,
            "bin_start": 4140,
            "count": 41
           },
           {
            "bin_end": 4860,
            "bin_start": 4500,
            "count": 39
           },
           {
            "bin_end": 5220,
            "bin_start": 4860,
            "count": 27
           },
           {
            "bin_end": 5580,
            "bin_start": 5220,
            "count": 27
           },
           {
            "bin_end": 5940,
            "bin_start": 5580,
            "count": 16
           },
           {
            "bin_end": 6300,
            "bin_start": 5940,
            "count": 6
           }
          ],
          "max": "6300.0",
          "min": "2700.0",
          "nan_count": 0,
          "unique_count": 93
         }
        },
        {
         "dtype": "object",
         "name": "sex",
         "stats": {
          "categories": [
           {
            "count": 168,
            "name": "male"
           },
           {
            "count": 165,
            "name": "female"
           }
          ],
          "nan_count": 0,
          "unique_count": 2
         }
        },
        {
         "dtype": "int64",
         "name": "year",
         "stats": {
          "histogram": [
           {
            "bin_end": 2007.2,
            "bin_start": 2007,
            "count": 103
           },
           {
            "bin_end": 2007.4,
            "bin_start": 2007.2,
            "count": 0
           },
           {
            "bin_end": 2007.6,
            "bin_start": 2007.4,
            "count": 0
           },
           {
            "bin_end": 2007.8,
            "bin_start": 2007.6,
            "count": 0
           },
           {
            "bin_end": 2008,
            "bin_start": 2007.8,
            "count": 0
           },
           {
            "bin_end": 2008.2,
            "bin_start": 2008,
            "count": 113
           },
           {
            "bin_end": 2008.4,
            "bin_start": 2008.2,
            "count": 0
           },
           {
            "bin_end": 2008.6,
            "bin_start": 2008.4,
            "count": 0
           },
           {
            "bin_end": 2008.8,
            "bin_start": 2008.6,
            "count": 0
           },
           {
            "bin_end": 2009,
            "bin_start": 2008.8,
            "count": 117
           }
          ],
          "max": "2009",
          "min": "2007",
          "nan_count": 0,
          "unique_count": 3
         }
        },
        {
         "dtype": "int64",
         "name": "_deepnote_index_column"
        }
       ],
       "row_count": 333,
       "rows": [
        {
         "_deepnote_index_column": "0",
         "bill_depth_mm": "18.7",
         "bill_length_mm": "39.1",
         "body_mass_g": "3750.0",
         "flipper_length_mm": "181.0",
         "island": "Torgersen",
         "sex": "male",
         "species": "Adelie",
         "year": "2007"
        },
        {
         "_deepnote_index_column": "1",
         "bill_depth_mm": "17.4",
         "bill_length_mm": "39.5",
         "body_mass_g": "3800.0",
         "flipper_length_mm": "186.0",
         "island": "Torgersen",
         "sex": "female",
         "species": "Adelie",
         "year": "2007"
        },
        {
         "_deepnote_index_column": "2",
         "bill_depth_mm": "18.0",
         "bill_length_mm": "40.3",
         "body_mass_g": "3250.0",
         "flipper_length_mm": "195.0",
         "island": "Torgersen",
         "sex": "female",
         "species": "Adelie",
         "year": "2007"
        },
        {
         "_deepnote_index_column": "4",
         "bill_depth_mm": "19.3",
         "bill_length_mm": "36.7",
         "body_mass_g": "3450.0",
         "flipper_length_mm": "193.0",
         "island": "Torgersen",
         "sex": "female",
         "species": "Adelie",
         "year": "2007"
        },
        {
         "_deepnote_index_column": "5",
         "bill_depth_mm": "20.6",
         "bill_length_mm": "39.3",
         "body_mass_g": "3650.0",
         "flipper_length_mm": "190.0",
         "island": "Torgersen",
         "sex": "male",
         "species": "Adelie",
         "year": "2007"
        },
        {
         "_deepnote_index_column": "6",
         "bill_depth_mm": "17.8",
         "bill_length_mm": "38.9",
         "body_mass_g": "3625.0",
         "flipper_length_mm": "181.0",
         "island": "Torgersen",
         "sex": "female",
         "species": "Adelie",
         "year": "2007"
        },
        {
         "_deepnote_index_column": "7",
         "bill_depth_mm": "19.6",
         "bill_length_mm": "39.2",
         "body_mass_g": "4675.0",
         "flipper_length_mm": "195.0",
         "island": "Torgersen",
         "sex": "male",
         "species": "Adelie",
         "year": "2007"
        },
        {
         "_deepnote_index_column": "12",
         "bill_depth_mm": "17.6",
         "bill_length_mm": "41.1",
         "body_mass_g": "3200.0",
         "flipper_length_mm": "182.0",
         "island": "Torgersen",
         "sex": "female",
         "species": "Adelie",
         "year": "2007"
        },
        {
         "_deepnote_index_column": "13",
         "bill_depth_mm": "21.2",
         "bill_length_mm": "38.6",
         "body_mass_g": "3800.0",
         "flipper_length_mm": "191.0",
         "island": "Torgersen",
         "sex": "male",
         "species": "Adelie",
         "year": "2007"
        },
        {
         "_deepnote_index_column": "14",
         "bill_depth_mm": "21.1",
         "bill_length_mm": "34.6",
         "body_mass_g": "4400.0",
         "flipper_length_mm": "198.0",
         "island": "Torgersen",
         "sex": "male",
         "species": "Adelie",
         "year": "2007"
        }
       ]
      },
      "text/html": [
       "<div>\n",
       "<style scoped>\n",
       "    .dataframe tbody tr th:only-of-type {\n",
       "        vertical-align: middle;\n",
       "    }\n",
       "\n",
       "    .dataframe tbody tr th {\n",
       "        vertical-align: top;\n",
       "    }\n",
       "\n",
       "    .dataframe thead th {\n",
       "        text-align: right;\n",
       "    }\n",
       "</style>\n",
       "<table border=\"1\" class=\"dataframe\">\n",
       "  <thead>\n",
       "    <tr style=\"text-align: right;\">\n",
       "      <th></th>\n",
       "      <th>species</th>\n",
       "      <th>island</th>\n",
       "      <th>bill_length_mm</th>\n",
       "      <th>bill_depth_mm</th>\n",
       "      <th>flipper_length_mm</th>\n",
       "      <th>body_mass_g</th>\n",
       "      <th>sex</th>\n",
       "      <th>year</th>\n",
       "    </tr>\n",
       "  </thead>\n",
       "  <tbody>\n",
       "    <tr>\n",
       "      <th>0</th>\n",
       "      <td>Adelie</td>\n",
       "      <td>Torgersen</td>\n",
       "      <td>39.1</td>\n",
       "      <td>18.7</td>\n",
       "      <td>181.0</td>\n",
       "      <td>3750.0</td>\n",
       "      <td>male</td>\n",
       "      <td>2007</td>\n",
       "    </tr>\n",
       "    <tr>\n",
       "      <th>1</th>\n",
       "      <td>Adelie</td>\n",
       "      <td>Torgersen</td>\n",
       "      <td>39.5</td>\n",
       "      <td>17.4</td>\n",
       "      <td>186.0</td>\n",
       "      <td>3800.0</td>\n",
       "      <td>female</td>\n",
       "      <td>2007</td>\n",
       "    </tr>\n",
       "    <tr>\n",
       "      <th>2</th>\n",
       "      <td>Adelie</td>\n",
       "      <td>Torgersen</td>\n",
       "      <td>40.3</td>\n",
       "      <td>18.0</td>\n",
       "      <td>195.0</td>\n",
       "      <td>3250.0</td>\n",
       "      <td>female</td>\n",
       "      <td>2007</td>\n",
       "    </tr>\n",
       "    <tr>\n",
       "      <th>4</th>\n",
       "      <td>Adelie</td>\n",
       "      <td>Torgersen</td>\n",
       "      <td>36.7</td>\n",
       "      <td>19.3</td>\n",
       "      <td>193.0</td>\n",
       "      <td>3450.0</td>\n",
       "      <td>female</td>\n",
       "      <td>2007</td>\n",
       "    </tr>\n",
       "    <tr>\n",
       "      <th>5</th>\n",
       "      <td>Adelie</td>\n",
       "      <td>Torgersen</td>\n",
       "      <td>39.3</td>\n",
       "      <td>20.6</td>\n",
       "      <td>190.0</td>\n",
       "      <td>3650.0</td>\n",
       "      <td>male</td>\n",
       "      <td>2007</td>\n",
       "    </tr>\n",
       "    <tr>\n",
       "      <th>...</th>\n",
       "      <td>...</td>\n",
       "      <td>...</td>\n",
       "      <td>...</td>\n",
       "      <td>...</td>\n",
       "      <td>...</td>\n",
       "      <td>...</td>\n",
       "      <td>...</td>\n",
       "      <td>...</td>\n",
       "    </tr>\n",
       "    <tr>\n",
       "      <th>339</th>\n",
       "      <td>Chinstrap</td>\n",
       "      <td>Dream</td>\n",
       "      <td>55.8</td>\n",
       "      <td>19.8</td>\n",
       "      <td>207.0</td>\n",
       "      <td>4000.0</td>\n",
       "      <td>male</td>\n",
       "      <td>2009</td>\n",
       "    </tr>\n",
       "    <tr>\n",
       "      <th>340</th>\n",
       "      <td>Chinstrap</td>\n",
       "      <td>Dream</td>\n",
       "      <td>43.5</td>\n",
       "      <td>18.1</td>\n",
       "      <td>202.0</td>\n",
       "      <td>3400.0</td>\n",
       "      <td>female</td>\n",
       "      <td>2009</td>\n",
       "    </tr>\n",
       "    <tr>\n",
       "      <th>341</th>\n",
       "      <td>Chinstrap</td>\n",
       "      <td>Dream</td>\n",
       "      <td>49.6</td>\n",
       "      <td>18.2</td>\n",
       "      <td>193.0</td>\n",
       "      <td>3775.0</td>\n",
       "      <td>male</td>\n",
       "      <td>2009</td>\n",
       "    </tr>\n",
       "    <tr>\n",
       "      <th>342</th>\n",
       "      <td>Chinstrap</td>\n",
       "      <td>Dream</td>\n",
       "      <td>50.8</td>\n",
       "      <td>19.0</td>\n",
       "      <td>210.0</td>\n",
       "      <td>4100.0</td>\n",
       "      <td>male</td>\n",
       "      <td>2009</td>\n",
       "    </tr>\n",
       "    <tr>\n",
       "      <th>343</th>\n",
       "      <td>Chinstrap</td>\n",
       "      <td>Dream</td>\n",
       "      <td>50.2</td>\n",
       "      <td>18.7</td>\n",
       "      <td>198.0</td>\n",
       "      <td>3775.0</td>\n",
       "      <td>female</td>\n",
       "      <td>2009</td>\n",
       "    </tr>\n",
       "  </tbody>\n",
       "</table>\n",
       "<p>333 rows × 8 columns</p>\n",
       "</div>"
      ],
      "text/plain": [
       "       species     island  bill_length_mm  bill_depth_mm  flipper_length_mm  \\\n",
       "0       Adelie  Torgersen            39.1           18.7              181.0   \n",
       "1       Adelie  Torgersen            39.5           17.4              186.0   \n",
       "2       Adelie  Torgersen            40.3           18.0              195.0   \n",
       "4       Adelie  Torgersen            36.7           19.3              193.0   \n",
       "5       Adelie  Torgersen            39.3           20.6              190.0   \n",
       "..         ...        ...             ...            ...                ...   \n",
       "339  Chinstrap      Dream            55.8           19.8              207.0   \n",
       "340  Chinstrap      Dream            43.5           18.1              202.0   \n",
       "341  Chinstrap      Dream            49.6           18.2              193.0   \n",
       "342  Chinstrap      Dream            50.8           19.0              210.0   \n",
       "343  Chinstrap      Dream            50.2           18.7              198.0   \n",
       "\n",
       "     body_mass_g     sex  year  \n",
       "0         3750.0    male  2007  \n",
       "1         3800.0  female  2007  \n",
       "2         3250.0  female  2007  \n",
       "4         3450.0  female  2007  \n",
       "5         3650.0    male  2007  \n",
       "..           ...     ...   ...  \n",
       "339       4000.0    male  2009  \n",
       "340       3400.0  female  2009  \n",
       "341       3775.0    male  2009  \n",
       "342       4100.0    male  2009  \n",
       "343       3775.0  female  2009  \n",
       "\n",
       "[333 rows x 8 columns]"
      ]
     },
     "execution_count": 16,
     "metadata": {},
     "output_type": "execute_result"
    }
   ],
   "source": [
    "processed_penguins_df = (\n",
    "    preprocess_penguins_df\n",
    "    .dropna()\n",
    ")\n",
    "\n",
    "processed_penguins_df"
   ]
  },
  {
   "cell_type": "markdown",
   "metadata": {
    "cell_id": "9a34592fbff94fffbdd24025b8bade29",
    "deepnote_app_coordinates": {
     "h": 5,
     "w": 12,
     "x": 0,
     "y": 222
    },
    "deepnote_cell_type": "markdown",
    "tags": []
   },
   "source": [
    "# Conteos y proporciones"
   ]
  },
  {
   "cell_type": "markdown",
   "metadata": {
    "cell_id": "3abffad7449b42878d3b034e2ba5a69f",
    "deepnote_app_coordinates": {
     "h": 5,
     "w": 12,
     "x": 0,
     "y": 228
    },
    "deepnote_cell_type": "markdown",
    "tags": []
   },
   "source": [
    "## Preludio: ¿Qué estadísticos describen el conjunto de datos?"
   ]
  },
  {
   "cell_type": "markdown",
   "metadata": {
    "cell_id": "ee6252175f404f10a8a7458208249380",
    "deepnote_app_coordinates": {
     "h": 5,
     "w": 12,
     "x": 0,
     "y": 234
    },
    "deepnote_cell_type": "markdown",
    "tags": []
   },
   "source": [
    "### Todas las variables"
   ]
  },
  {
   "cell_type": "code",
   "execution_count": 17,
   "metadata": {
    "cell_id": "4dc02e04b00c465280c21cca691dc0f7",
    "deepnote_app_coordinates": {
     "h": 5,
     "w": 12,
     "x": 0,
     "y": 240
    },
    "deepnote_cell_type": "code",
    "deepnote_to_be_reexecuted": false,
    "execution_millis": 59,
    "execution_start": 1684976544172,
    "output_cleared": false,
    "source_hash": "cc327de1",
    "tags": []
   },
   "outputs": [
    {
     "data": {
      "application/vnd.deepnote.dataframe.v3+json": {
       "column_count": 8,
       "columns": [
        {
         "dtype": "object",
         "name": "species",
         "stats": {
          "categories": [
           {
            "count": 1,
            "name": "344"
           },
           {
            "count": 3,
            "name": "3 others"
           },
           {
            "count": 7,
            "name": "Missing"
           }
          ],
          "nan_count": 7,
          "unique_count": 4
         }
        },
        {
         "dtype": "object",
         "name": "island",
         "stats": {
          "categories": [
           {
            "count": 1,
            "name": "344"
           },
           {
            "count": 3,
            "name": "3 others"
           },
           {
            "count": 7,
            "name": "Missing"
           }
          ],
          "nan_count": 7,
          "unique_count": 4
         }
        },
        {
         "dtype": "float64",
         "name": "bill_length_mm",
         "stats": {
          "histogram": [
           {
            "bin_end": 39.11362534253388,
            "bin_start": 5.4595837139265315,
            "count": 2
           },
           {
            "bin_end": 72.76766697114122,
            "bin_start": 39.11362534253388,
            "count": 5
           },
           {
            "bin_end": 106.42170859974857,
            "bin_start": 72.76766697114122,
            "count": 0
           },
           {
            "bin_end": 140.0757502283559,
            "bin_start": 106.42170859974857,
            "count": 0
           },
           {
            "bin_end": 173.72979185696323,
            "bin_start": 140.0757502283559,
            "count": 0
           },
           {
            "bin_end": 207.3838334855706,
            "bin_start": 173.72979185696323,
            "count": 0
           },
           {
            "bin_end": 241.03787511417795,
            "bin_start": 207.3838334855706,
            "count": 0
           },
           {
            "bin_end": 274.6919167427853,
            "bin_start": 241.03787511417795,
            "count": 0
           },
           {
            "bin_end": 308.3459583713926,
            "bin_start": 274.6919167427853,
            "count": 0
           },
           {
            "bin_end": 342,
            "bin_start": 308.3459583713926,
            "count": 1
           }
          ],
          "max": "342.0",
          "min": "5.4595837139265315",
          "nan_count": 3,
          "unique_count": 8
         }
        },
        {
         "dtype": "float64",
         "name": "bill_depth_mm",
         "stats": {
          "histogram": [
           {
            "bin_end": 35.97731384113511,
            "bin_start": 1.9747931568167814,
            "count": 7
           },
           {
            "bin_end": 69.97983452545344,
            "bin_start": 35.97731384113511,
            "count": 0
           },
           {
            "bin_end": 103.98235520977177,
            "bin_start": 69.97983452545344,
            "count": 0
           },
           {
            "bin_end": 137.9848758940901,
            "bin_start": 103.98235520977177,
            "count": 0
           },
           {
            "bin_end": 171.9873965784084,
            "bin_start": 137.9848758940901,
            "count": 0
           },
           {
            "bin_end": 205.98991726272675,
            "bin_start": 171.9873965784084,
            "count": 0
           },
           {
            "bin_end": 239.9924379470451,
            "bin_start": 205.98991726272675,
            "count": 0
           },
           {
            "bin_end": 273.9949586313634,
            "bin_start": 239.9924379470451,
            "count": 0
           },
           {
            "bin_end": 307.9974793156817,
            "bin_start": 273.9949586313634,
            "count": 0
           },
           {
            "bin_end": 342,
            "bin_start": 307.9974793156817,
            "count": 1
           }
          ],
          "max": "342.0",
          "min": "1.9747931568167814",
          "nan_count": 3,
          "unique_count": 8
         }
        },
        {
         "dtype": "float64",
         "name": "flipper_length_mm",
         "stats": {
          "histogram": [
           {
            "bin_end": 46.8555423114212,
            "bin_start": 14.061713679356888,
            "count": 1
           },
           {
            "bin_end": 79.64937094348551,
            "bin_start": 46.8555423114212,
            "count": 0
           },
           {
            "bin_end": 112.44319957554983,
            "bin_start": 79.64937094348551,
            "count": 0
           },
           {
            "bin_end": 145.23702820761415,
            "bin_start": 112.44319957554983,
            "count": 0
           },
           {
            "bin_end": 178.03085683967845,
            "bin_start": 145.23702820761415,
            "count": 1
           },
           {
            "bin_end": 210.82468547174278,
            "bin_start": 178.03085683967845,
            "count": 3
           },
           {
            "bin_end": 243.6185141038071,
            "bin_start": 210.82468547174278,
            "count": 2
           },
           {
            "bin_end": 276.4123427358714,
            "bin_start": 243.6185141038071,
            "count": 0
           },
           {
            "bin_end": 309.2061713679357,
            "bin_start": 276.4123427358714,
            "count": 0
           },
           {
            "bin_end": 342,
            "bin_start": 309.2061713679357,
            "count": 1
           }
          ],
          "max": "342.0",
          "min": "14.061713679356888",
          "nan_count": 3,
          "unique_count": 8
         }
        },
        {
         "dtype": "float64",
         "name": "body_mass_g",
         "stats": {
          "histogram": [
           {
            "bin_end": 937.8,
            "bin_start": 342,
            "count": 2
           },
           {
            "bin_end": 1533.6,
            "bin_start": 937.8,
            "count": 0
           },
           {
            "bin_end": 2129.3999999999996,
            "bin_start": 1533.6,
            "count": 0
           },
           {
            "bin_end": 2725.2,
            "bin_start": 2129.3999999999996,
            "count": 1
           },
           {
            "bin_end": 3321,
            "bin_start": 2725.2,
            "count": 0
           },
           {
            "bin_end": 3916.7999999999997,
            "bin_start": 3321,
            "count": 1
           },
           {
            "bin_end": 4512.599999999999,
            "bin_start": 3916.7999999999997,
            "count": 2
           },
           {
            "bin_end": 5108.4,
            "bin_start": 4512.599999999999,
            "count": 1
           },
           {
            "bin_end": 5704.2,
            "bin_start": 5108.4,
            "count": 0
           },
           {
            "bin_end": 6300,
            "bin_start": 5704.2,
            "count": 1
           }
          ],
          "max": "6300.0",
          "min": "342.0",
          "nan_count": 3,
          "unique_count": 8
         }
        },
        {
         "dtype": "object",
         "name": "sex",
         "stats": {
          "categories": [
           {
            "count": 1,
            "name": "333"
           },
           {
            "count": 3,
            "name": "3 others"
           },
           {
            "count": 7,
            "name": "Missing"
           }
          ],
          "nan_count": 7,
          "unique_count": 4
         }
        },
        {
         "dtype": "float64",
         "name": "year",
         "stats": {
          "histogram": [
           {
            "bin_end": 201.63652033293533,
            "bin_start": 0.8183559254837041,
            "count": 1
           },
           {
            "bin_end": 402.454684740387,
            "bin_start": 201.63652033293533,
            "count": 1
           },
           {
            "bin_end": 603.2728491478387,
            "bin_start": 402.454684740387,
            "count": 0
           },
           {
            "bin_end": 804.0910135552903,
            "bin_start": 603.2728491478387,
            "count": 0
           },
           {
            "bin_end": 1004.9091779627419,
            "bin_start": 804.0910135552903,
            "count": 0
           },
           {
            "bin_end": 1205.7273423701936,
            "bin_start": 1004.9091779627419,
            "count": 0
           },
           {
            "bin_end": 1406.5455067776452,
            "bin_start": 1205.7273423701936,
            "count": 0
           },
           {
            "bin_end": 1607.3636711850968,
            "bin_start": 1406.5455067776452,
            "count": 0
           },
           {
            "bin_end": 1808.1818355925484,
            "bin_start": 1607.3636711850968,
            "count": 0
           },
           {
            "bin_end": 2009,
            "bin_start": 1808.1818355925484,
            "count": 6
           }
          ],
          "max": "2009.0",
          "min": "0.8183559254837041",
          "nan_count": 3,
          "unique_count": 6
         }
        },
        {
         "dtype": "object",
         "name": "_deepnote_index_column"
        }
       ],
       "row_count": 11,
       "rows": [
        {
         "_deepnote_index_column": "count",
         "bill_depth_mm": "342.0",
         "bill_length_mm": "342.0",
         "body_mass_g": "342.0",
         "flipper_length_mm": "342.0",
         "island": "344",
         "sex": "333",
         "species": "344",
         "year": "344.0"
        },
        {
         "_deepnote_index_column": "unique",
         "bill_depth_mm": "nan",
         "bill_length_mm": "nan",
         "body_mass_g": "nan",
         "flipper_length_mm": "nan",
         "island": "3",
         "sex": "2",
         "species": "3",
         "year": "nan"
        },
        {
         "_deepnote_index_column": "top",
         "bill_depth_mm": "nan",
         "bill_length_mm": "nan",
         "body_mass_g": "nan",
         "flipper_length_mm": "nan",
         "island": "Biscoe",
         "sex": "male",
         "species": "Adelie",
         "year": "nan"
        },
        {
         "_deepnote_index_column": "freq",
         "bill_depth_mm": "nan",
         "bill_length_mm": "nan",
         "body_mass_g": "nan",
         "flipper_length_mm": "nan",
         "island": "168",
         "sex": "168",
         "species": "152",
         "year": "nan"
        },
        {
         "_deepnote_index_column": "mean",
         "bill_depth_mm": "17.151169590643274",
         "bill_length_mm": "43.9219298245614",
         "body_mass_g": "4201.754385964912",
         "flipper_length_mm": "200.91520467836258",
         "island": "nan",
         "sex": "nan",
         "species": "nan",
         "year": "2008.0290697674418"
        },
        {
         "_deepnote_index_column": "std",
         "bill_depth_mm": "1.9747931568167814",
         "bill_length_mm": "5.4595837139265315",
         "body_mass_g": "801.9545356980955",
         "flipper_length_mm": "14.061713679356888",
         "island": "nan",
         "sex": "nan",
         "species": "nan",
         "year": "0.8183559254837041"
        },
        {
         "_deepnote_index_column": "min",
         "bill_depth_mm": "13.1",
         "bill_length_mm": "32.1",
         "body_mass_g": "2700.0",
         "flipper_length_mm": "172.0",
         "island": "nan",
         "sex": "nan",
         "species": "nan",
         "year": "2007.0"
        },
        {
         "_deepnote_index_column": "25%",
         "bill_depth_mm": "15.6",
         "bill_length_mm": "39.225",
         "body_mass_g": "3550.0",
         "flipper_length_mm": "190.0",
         "island": "nan",
         "sex": "nan",
         "species": "nan",
         "year": "2007.0"
        },
        {
         "_deepnote_index_column": "50%",
         "bill_depth_mm": "17.3",
         "bill_length_mm": "44.45",
         "body_mass_g": "4050.0",
         "flipper_length_mm": "197.0",
         "island": "nan",
         "sex": "nan",
         "species": "nan",
         "year": "2008.0"
        },
        {
         "_deepnote_index_column": "75%",
         "bill_depth_mm": "18.7",
         "bill_length_mm": "48.5",
         "body_mass_g": "4750.0",
         "flipper_length_mm": "213.0",
         "island": "nan",
         "sex": "nan",
         "species": "nan",
         "year": "2009.0"
        }
       ]
      },
      "text/html": [
       "<div>\n",
       "<style scoped>\n",
       "    .dataframe tbody tr th:only-of-type {\n",
       "        vertical-align: middle;\n",
       "    }\n",
       "\n",
       "    .dataframe tbody tr th {\n",
       "        vertical-align: top;\n",
       "    }\n",
       "\n",
       "    .dataframe thead th {\n",
       "        text-align: right;\n",
       "    }\n",
       "</style>\n",
       "<table border=\"1\" class=\"dataframe\">\n",
       "  <thead>\n",
       "    <tr style=\"text-align: right;\">\n",
       "      <th></th>\n",
       "      <th>species</th>\n",
       "      <th>island</th>\n",
       "      <th>bill_length_mm</th>\n",
       "      <th>bill_depth_mm</th>\n",
       "      <th>flipper_length_mm</th>\n",
       "      <th>body_mass_g</th>\n",
       "      <th>sex</th>\n",
       "      <th>year</th>\n",
       "    </tr>\n",
       "  </thead>\n",
       "  <tbody>\n",
       "    <tr>\n",
       "      <th>count</th>\n",
       "      <td>344</td>\n",
       "      <td>344</td>\n",
       "      <td>342.000000</td>\n",
       "      <td>342.000000</td>\n",
       "      <td>342.000000</td>\n",
       "      <td>342.000000</td>\n",
       "      <td>333</td>\n",
       "      <td>344.000000</td>\n",
       "    </tr>\n",
       "    <tr>\n",
       "      <th>unique</th>\n",
       "      <td>3</td>\n",
       "      <td>3</td>\n",
       "      <td>NaN</td>\n",
       "      <td>NaN</td>\n",
       "      <td>NaN</td>\n",
       "      <td>NaN</td>\n",
       "      <td>2</td>\n",
       "      <td>NaN</td>\n",
       "    </tr>\n",
       "    <tr>\n",
       "      <th>top</th>\n",
       "      <td>Adelie</td>\n",
       "      <td>Biscoe</td>\n",
       "      <td>NaN</td>\n",
       "      <td>NaN</td>\n",
       "      <td>NaN</td>\n",
       "      <td>NaN</td>\n",
       "      <td>male</td>\n",
       "      <td>NaN</td>\n",
       "    </tr>\n",
       "    <tr>\n",
       "      <th>freq</th>\n",
       "      <td>152</td>\n",
       "      <td>168</td>\n",
       "      <td>NaN</td>\n",
       "      <td>NaN</td>\n",
       "      <td>NaN</td>\n",
       "      <td>NaN</td>\n",
       "      <td>168</td>\n",
       "      <td>NaN</td>\n",
       "    </tr>\n",
       "    <tr>\n",
       "      <th>mean</th>\n",
       "      <td>NaN</td>\n",
       "      <td>NaN</td>\n",
       "      <td>43.921930</td>\n",
       "      <td>17.151170</td>\n",
       "      <td>200.915205</td>\n",
       "      <td>4201.754386</td>\n",
       "      <td>NaN</td>\n",
       "      <td>2008.029070</td>\n",
       "    </tr>\n",
       "    <tr>\n",
       "      <th>std</th>\n",
       "      <td>NaN</td>\n",
       "      <td>NaN</td>\n",
       "      <td>5.459584</td>\n",
       "      <td>1.974793</td>\n",
       "      <td>14.061714</td>\n",
       "      <td>801.954536</td>\n",
       "      <td>NaN</td>\n",
       "      <td>0.818356</td>\n",
       "    </tr>\n",
       "    <tr>\n",
       "      <th>min</th>\n",
       "      <td>NaN</td>\n",
       "      <td>NaN</td>\n",
       "      <td>32.100000</td>\n",
       "      <td>13.100000</td>\n",
       "      <td>172.000000</td>\n",
       "      <td>2700.000000</td>\n",
       "      <td>NaN</td>\n",
       "      <td>2007.000000</td>\n",
       "    </tr>\n",
       "    <tr>\n",
       "      <th>25%</th>\n",
       "      <td>NaN</td>\n",
       "      <td>NaN</td>\n",
       "      <td>39.225000</td>\n",
       "      <td>15.600000</td>\n",
       "      <td>190.000000</td>\n",
       "      <td>3550.000000</td>\n",
       "      <td>NaN</td>\n",
       "      <td>2007.000000</td>\n",
       "    </tr>\n",
       "    <tr>\n",
       "      <th>50%</th>\n",
       "      <td>NaN</td>\n",
       "      <td>NaN</td>\n",
       "      <td>44.450000</td>\n",
       "      <td>17.300000</td>\n",
       "      <td>197.000000</td>\n",
       "      <td>4050.000000</td>\n",
       "      <td>NaN</td>\n",
       "      <td>2008.000000</td>\n",
       "    </tr>\n",
       "    <tr>\n",
       "      <th>75%</th>\n",
       "      <td>NaN</td>\n",
       "      <td>NaN</td>\n",
       "      <td>48.500000</td>\n",
       "      <td>18.700000</td>\n",
       "      <td>213.000000</td>\n",
       "      <td>4750.000000</td>\n",
       "      <td>NaN</td>\n",
       "      <td>2009.000000</td>\n",
       "    </tr>\n",
       "    <tr>\n",
       "      <th>max</th>\n",
       "      <td>NaN</td>\n",
       "      <td>NaN</td>\n",
       "      <td>59.600000</td>\n",
       "      <td>21.500000</td>\n",
       "      <td>231.000000</td>\n",
       "      <td>6300.000000</td>\n",
       "      <td>NaN</td>\n",
       "      <td>2009.000000</td>\n",
       "    </tr>\n",
       "  </tbody>\n",
       "</table>\n",
       "</div>"
      ],
      "text/plain": [
       "       species  island  bill_length_mm  bill_depth_mm  flipper_length_mm  \\\n",
       "count      344     344      342.000000     342.000000         342.000000   \n",
       "unique       3       3             NaN            NaN                NaN   \n",
       "top     Adelie  Biscoe             NaN            NaN                NaN   \n",
       "freq       152     168             NaN            NaN                NaN   \n",
       "mean       NaN     NaN       43.921930      17.151170         200.915205   \n",
       "std        NaN     NaN        5.459584       1.974793          14.061714   \n",
       "min        NaN     NaN       32.100000      13.100000         172.000000   \n",
       "25%        NaN     NaN       39.225000      15.600000         190.000000   \n",
       "50%        NaN     NaN       44.450000      17.300000         197.000000   \n",
       "75%        NaN     NaN       48.500000      18.700000         213.000000   \n",
       "max        NaN     NaN       59.600000      21.500000         231.000000   \n",
       "\n",
       "        body_mass_g   sex         year  \n",
       "count    342.000000   333   344.000000  \n",
       "unique          NaN     2          NaN  \n",
       "top             NaN  male          NaN  \n",
       "freq            NaN   168          NaN  \n",
       "mean    4201.754386   NaN  2008.029070  \n",
       "std      801.954536   NaN     0.818356  \n",
       "min     2700.000000   NaN  2007.000000  \n",
       "25%     3550.000000   NaN  2007.000000  \n",
       "50%     4050.000000   NaN  2008.000000  \n",
       "75%     4750.000000   NaN  2009.000000  \n",
       "max     6300.000000   NaN  2009.000000  "
      ]
     },
     "execution_count": 17,
     "metadata": {},
     "output_type": "execute_result"
    }
   ],
   "source": [
    "preprocess_penguins_df.describe(include='all')"
   ]
  },
  {
   "cell_type": "markdown",
   "metadata": {
    "cell_id": "d5fd0a1b26ea473abd145bb78734ea9c",
    "deepnote_app_coordinates": {
     "h": 5,
     "w": 12,
     "x": 0,
     "y": 246
    },
    "deepnote_cell_type": "markdown",
    "tags": []
   },
   "source": [
    "### Solo las numéricas"
   ]
  },
  {
   "cell_type": "code",
   "execution_count": 18,
   "metadata": {
    "cell_id": "816698e00d6240e49f8e8be6c633fec9",
    "deepnote_app_coordinates": {
     "h": 5,
     "w": 12,
     "x": 0,
     "y": 252
    },
    "deepnote_cell_type": "code",
    "deepnote_to_be_reexecuted": false,
    "execution_millis": 46,
    "execution_start": 1684976544242,
    "output_cleared": false,
    "source_hash": "407413e7",
    "tags": []
   },
   "outputs": [
    {
     "data": {
      "application/vnd.deepnote.dataframe.v3+json": {
       "column_count": 5,
       "columns": [
        {
         "dtype": "float64",
         "name": "bill_length_mm",
         "stats": {
          "histogram": [
           {
            "bin_end": 38.2218015083828,
            "bin_start": 5.46866834264756,
            "count": 2
           },
           {
            "bin_end": 70.97493467411805,
            "bin_start": 38.2218015083828,
            "count": 5
           },
           {
            "bin_end": 103.72806783985328,
            "bin_start": 70.97493467411805,
            "count": 0
           },
           {
            "bin_end": 136.48120100558853,
            "bin_start": 103.72806783985328,
            "count": 0
           },
           {
            "bin_end": 169.23433417132378,
            "bin_start": 136.48120100558853,
            "count": 0
           },
           {
            "bin_end": 201.987467337059,
            "bin_start": 169.23433417132378,
            "count": 0
           },
           {
            "bin_end": 234.74060050279425,
            "bin_start": 201.987467337059,
            "count": 0
           },
           {
            "bin_end": 267.4937336685295,
            "bin_start": 234.74060050279425,
            "count": 0
           },
           {
            "bin_end": 300.2468668342647,
            "bin_start": 267.4937336685295,
            "count": 0
           },
           {
            "bin_end": 333,
            "bin_start": 300.2468668342647,
            "count": 1
           }
          ],
          "max": "333.0",
          "min": "5.46866834264756",
          "nan_count": 0,
          "unique_count": 8
         }
        },
        {
         "dtype": "float64",
         "name": "bill_depth_mm",
         "stats": {
          "histogram": [
           {
            "bin_end": 35.07231191698791,
            "bin_start": 1.9692354633199007,
            "count": 7
           },
           {
            "bin_end": 68.17538837065592,
            "bin_start": 35.07231191698791,
            "count": 0
           },
           {
            "bin_end": 101.27846482432393,
            "bin_start": 68.17538837065592,
            "count": 0
           },
           {
            "bin_end": 134.38154127799194,
            "bin_start": 101.27846482432393,
            "count": 0
           },
           {
            "bin_end": 167.48461773165994,
            "bin_start": 134.38154127799194,
            "count": 0
           },
           {
            "bin_end": 200.58769418532796,
            "bin_start": 167.48461773165994,
            "count": 0
           },
           {
            "bin_end": 233.69077063899599,
            "bin_start": 200.58769418532796,
            "count": 0
           },
           {
            "bin_end": 266.79384709266395,
            "bin_start": 233.69077063899599,
            "count": 0
           },
           {
            "bin_end": 299.89692354633195,
            "bin_start": 266.79384709266395,
            "count": 0
           },
           {
            "bin_end": 333,
            "bin_start": 299.89692354633195,
            "count": 1
           }
          ],
          "max": "333.0",
          "min": "1.9692354633199007",
          "nan_count": 0,
          "unique_count": 8
         }
        },
        {
         "dtype": "float64",
         "name": "flipper_length_mm",
         "stats": {
          "histogram": [
           {
            "bin_end": 45.914188759459094,
            "bin_start": 14.015765288287879,
            "count": 1
           },
           {
            "bin_end": 77.81261223063031,
            "bin_start": 45.914188759459094,
            "count": 0
           },
           {
            "bin_end": 109.71103570180152,
            "bin_start": 77.81261223063031,
            "count": 0
           },
           {
            "bin_end": 141.60945917297272,
            "bin_start": 109.71103570180152,
            "count": 0
           },
           {
            "bin_end": 173.50788264414393,
            "bin_start": 141.60945917297272,
            "count": 1
           },
           {
            "bin_end": 205.40630611531515,
            "bin_start": 173.50788264414393,
            "count": 3
           },
           {
            "bin_end": 237.30472958648636,
            "bin_start": 205.40630611531515,
            "count": 2
           },
           {
            "bin_end": 269.2031530576576,
            "bin_start": 237.30472958648636,
            "count": 0
           },
           {
            "bin_end": 301.1015765288288,
            "bin_start": 269.2031530576576,
            "count": 0
           },
           {
            "bin_end": 333,
            "bin_start": 301.1015765288288,
            "count": 1
           }
          ],
          "max": "333.0",
          "min": "14.015765288287879",
          "nan_count": 0,
          "unique_count": 8
         }
        },
        {
         "dtype": "float64",
         "name": "body_mass_g",
         "stats": {
          "histogram": [
           {
            "bin_end": 929.7,
            "bin_start": 333,
            "count": 2
           },
           {
            "bin_end": 1526.4,
            "bin_start": 929.7,
            "count": 0
           },
           {
            "bin_end": 2123.1000000000004,
            "bin_start": 1526.4,
            "count": 0
           },
           {
            "bin_end": 2719.8,
            "bin_start": 2123.1000000000004,
            "count": 1
           },
           {
            "bin_end": 3316.5,
            "bin_start": 2719.8,
            "count": 0
           },
           {
            "bin_end": 3913.2000000000003,
            "bin_start": 3316.5,
            "count": 1
           },
           {
            "bin_end": 4509.900000000001,
            "bin_start": 3913.2000000000003,
            "count": 2
           },
           {
            "bin_end": 5106.6,
            "bin_start": 4509.900000000001,
            "count": 1
           },
           {
            "bin_end": 5703.3,
            "bin_start": 5106.6,
            "count": 0
           },
           {
            "bin_end": 6300,
            "bin_start": 5703.3,
            "count": 1
           }
          ],
          "max": "6300.0",
          "min": "333.0",
          "nan_count": 0,
          "unique_count": 8
         }
        },
        {
         "dtype": "float64",
         "name": "year",
         "stats": {
          "histogram": [
           {
            "bin_end": 201.63164948822796,
            "bin_start": 0.8129438758088375,
            "count": 1
           },
           {
            "bin_end": 402.45035510064713,
            "bin_start": 201.63164948822796,
            "count": 1
           },
           {
            "bin_end": 603.2690607130663,
            "bin_start": 402.45035510064713,
            "count": 0
           },
           {
            "bin_end": 804.0877663254854,
            "bin_start": 603.2690607130663,
            "count": 0
           },
           {
            "bin_end": 1004.9064719379045,
            "bin_start": 804.0877663254854,
            "count": 0
           },
           {
            "bin_end": 1205.7251775503237,
            "bin_start": 1004.9064719379045,
            "count": 0
           },
           {
            "bin_end": 1406.5438831627428,
            "bin_start": 1205.7251775503237,
            "count": 0
           },
           {
            "bin_end": 1607.3625887751618,
            "bin_start": 1406.5438831627428,
            "count": 0
           },
           {
            "bin_end": 1808.181294387581,
            "bin_start": 1607.3625887751618,
            "count": 0
           },
           {
            "bin_end": 2009,
            "bin_start": 1808.181294387581,
            "count": 6
           }
          ],
          "max": "2009.0",
          "min": "0.8129438758088375",
          "nan_count": 0,
          "unique_count": 6
         }
        },
        {
         "dtype": "object",
         "name": "_deepnote_index_column"
        }
       ],
       "row_count": 8,
       "rows": [
        {
         "_deepnote_index_column": "count",
         "bill_depth_mm": "333.0",
         "bill_length_mm": "333.0",
         "body_mass_g": "333.0",
         "flipper_length_mm": "333.0",
         "year": "333.0"
        },
        {
         "_deepnote_index_column": "mean",
         "bill_depth_mm": "17.164864864864867",
         "bill_length_mm": "43.9927927927928",
         "body_mass_g": "4207.057057057057",
         "flipper_length_mm": "200.96696696696696",
         "year": "2008.042042042042"
        },
        {
         "_deepnote_index_column": "std",
         "bill_depth_mm": "1.9692354633199007",
         "bill_length_mm": "5.46866834264756",
         "body_mass_g": "805.2158019428964",
         "flipper_length_mm": "14.015765288287879",
         "year": "0.8129438758088375"
        },
        {
         "_deepnote_index_column": "min",
         "bill_depth_mm": "13.1",
         "bill_length_mm": "32.1",
         "body_mass_g": "2700.0",
         "flipper_length_mm": "172.0",
         "year": "2007.0"
        },
        {
         "_deepnote_index_column": "25%",
         "bill_depth_mm": "15.6",
         "bill_length_mm": "39.5",
         "body_mass_g": "3550.0",
         "flipper_length_mm": "190.0",
         "year": "2007.0"
        },
        {
         "_deepnote_index_column": "50%",
         "bill_depth_mm": "17.3",
         "bill_length_mm": "44.5",
         "body_mass_g": "4050.0",
         "flipper_length_mm": "197.0",
         "year": "2008.0"
        },
        {
         "_deepnote_index_column": "75%",
         "bill_depth_mm": "18.7",
         "bill_length_mm": "48.6",
         "body_mass_g": "4775.0",
         "flipper_length_mm": "213.0",
         "year": "2009.0"
        },
        {
         "_deepnote_index_column": "max",
         "bill_depth_mm": "21.5",
         "bill_length_mm": "59.6",
         "body_mass_g": "6300.0",
         "flipper_length_mm": "231.0",
         "year": "2009.0"
        }
       ]
      },
      "text/html": [
       "<div>\n",
       "<style scoped>\n",
       "    .dataframe tbody tr th:only-of-type {\n",
       "        vertical-align: middle;\n",
       "    }\n",
       "\n",
       "    .dataframe tbody tr th {\n",
       "        vertical-align: top;\n",
       "    }\n",
       "\n",
       "    .dataframe thead th {\n",
       "        text-align: right;\n",
       "    }\n",
       "</style>\n",
       "<table border=\"1\" class=\"dataframe\">\n",
       "  <thead>\n",
       "    <tr style=\"text-align: right;\">\n",
       "      <th></th>\n",
       "      <th>bill_length_mm</th>\n",
       "      <th>bill_depth_mm</th>\n",
       "      <th>flipper_length_mm</th>\n",
       "      <th>body_mass_g</th>\n",
       "      <th>year</th>\n",
       "    </tr>\n",
       "  </thead>\n",
       "  <tbody>\n",
       "    <tr>\n",
       "      <th>count</th>\n",
       "      <td>333.000000</td>\n",
       "      <td>333.000000</td>\n",
       "      <td>333.000000</td>\n",
       "      <td>333.000000</td>\n",
       "      <td>333.000000</td>\n",
       "    </tr>\n",
       "    <tr>\n",
       "      <th>mean</th>\n",
       "      <td>43.992793</td>\n",
       "      <td>17.164865</td>\n",
       "      <td>200.966967</td>\n",
       "      <td>4207.057057</td>\n",
       "      <td>2008.042042</td>\n",
       "    </tr>\n",
       "    <tr>\n",
       "      <th>std</th>\n",
       "      <td>5.468668</td>\n",
       "      <td>1.969235</td>\n",
       "      <td>14.015765</td>\n",
       "      <td>805.215802</td>\n",
       "      <td>0.812944</td>\n",
       "    </tr>\n",
       "    <tr>\n",
       "      <th>min</th>\n",
       "      <td>32.100000</td>\n",
       "      <td>13.100000</td>\n",
       "      <td>172.000000</td>\n",
       "      <td>2700.000000</td>\n",
       "      <td>2007.000000</td>\n",
       "    </tr>\n",
       "    <tr>\n",
       "      <th>25%</th>\n",
       "      <td>39.500000</td>\n",
       "      <td>15.600000</td>\n",
       "      <td>190.000000</td>\n",
       "      <td>3550.000000</td>\n",
       "      <td>2007.000000</td>\n",
       "    </tr>\n",
       "    <tr>\n",
       "      <th>50%</th>\n",
       "      <td>44.500000</td>\n",
       "      <td>17.300000</td>\n",
       "      <td>197.000000</td>\n",
       "      <td>4050.000000</td>\n",
       "      <td>2008.000000</td>\n",
       "    </tr>\n",
       "    <tr>\n",
       "      <th>75%</th>\n",
       "      <td>48.600000</td>\n",
       "      <td>18.700000</td>\n",
       "      <td>213.000000</td>\n",
       "      <td>4775.000000</td>\n",
       "      <td>2009.000000</td>\n",
       "    </tr>\n",
       "    <tr>\n",
       "      <th>max</th>\n",
       "      <td>59.600000</td>\n",
       "      <td>21.500000</td>\n",
       "      <td>231.000000</td>\n",
       "      <td>6300.000000</td>\n",
       "      <td>2009.000000</td>\n",
       "    </tr>\n",
       "  </tbody>\n",
       "</table>\n",
       "</div>"
      ],
      "text/plain": [
       "       bill_length_mm  bill_depth_mm  flipper_length_mm  body_mass_g  \\\n",
       "count      333.000000     333.000000         333.000000   333.000000   \n",
       "mean        43.992793      17.164865         200.966967  4207.057057   \n",
       "std          5.468668       1.969235          14.015765   805.215802   \n",
       "min         32.100000      13.100000         172.000000  2700.000000   \n",
       "25%         39.500000      15.600000         190.000000  3550.000000   \n",
       "50%         44.500000      17.300000         197.000000  4050.000000   \n",
       "75%         48.600000      18.700000         213.000000  4775.000000   \n",
       "max         59.600000      21.500000         231.000000  6300.000000   \n",
       "\n",
       "              year  \n",
       "count   333.000000  \n",
       "mean   2008.042042  \n",
       "std       0.812944  \n",
       "min    2007.000000  \n",
       "25%    2007.000000  \n",
       "50%    2008.000000  \n",
       "75%    2009.000000  \n",
       "max    2009.000000  "
      ]
     },
     "execution_count": 18,
     "metadata": {},
     "output_type": "execute_result"
    }
   ],
   "source": [
    "processed_penguins_df.describe(include=[np.number])"
   ]
  },
  {
   "cell_type": "markdown",
   "metadata": {
    "cell_id": "e597943194d64d659dd1b5decad5ae71",
    "deepnote_app_coordinates": {
     "h": 5,
     "w": 12,
     "x": 0,
     "y": 258
    },
    "deepnote_cell_type": "markdown",
    "tags": []
   },
   "source": [
    "### Solo categóricas - 1"
   ]
  },
  {
   "cell_type": "code",
   "execution_count": 19,
   "metadata": {
    "cell_id": "d3dbda45418d49a3b14dee084ace9c14",
    "deepnote_app_coordinates": {
     "h": 5,
     "w": 12,
     "x": 0,
     "y": 264
    },
    "deepnote_cell_type": "code",
    "deepnote_to_be_reexecuted": false,
    "execution_millis": 2,
    "execution_start": 1684976544344,
    "output_cleared": false,
    "source_hash": "bfeeec00",
    "tags": []
   },
   "outputs": [
    {
     "data": {
      "application/vnd.deepnote.dataframe.v3+json": {
       "column_count": 3,
       "columns": [
        {
         "dtype": "object",
         "name": "species",
         "stats": {
          "categories": [
           {
            "count": 1,
            "name": "333"
           },
           {
            "count": 1,
            "name": "3"
           },
           {
            "count": 2,
            "name": "2 others"
           }
          ],
          "nan_count": 0,
          "unique_count": 4
         }
        },
        {
         "dtype": "object",
         "name": "island",
         "stats": {
          "categories": [
           {
            "count": 1,
            "name": "333"
           },
           {
            "count": 1,
            "name": "3"
           },
           {
            "count": 2,
            "name": "2 others"
           }
          ],
          "nan_count": 0,
          "unique_count": 4
         }
        },
        {
         "dtype": "object",
         "name": "sex",
         "stats": {
          "categories": [
           {
            "count": 1,
            "name": "333"
           },
           {
            "count": 1,
            "name": "2"
           },
           {
            "count": 2,
            "name": "2 others"
           }
          ],
          "nan_count": 0,
          "unique_count": 4
         }
        },
        {
         "dtype": "object",
         "name": "_deepnote_index_column"
        }
       ],
       "row_count": 4,
       "rows": [
        {
         "_deepnote_index_column": "count",
         "island": "333",
         "sex": "333",
         "species": "333"
        },
        {
         "_deepnote_index_column": "unique",
         "island": "3",
         "sex": "2",
         "species": "3"
        },
        {
         "_deepnote_index_column": "top",
         "island": "Biscoe",
         "sex": "male",
         "species": "Adelie"
        },
        {
         "_deepnote_index_column": "freq",
         "island": "163",
         "sex": "168",
         "species": "146"
        }
       ]
      },
      "text/html": [
       "<div>\n",
       "<style scoped>\n",
       "    .dataframe tbody tr th:only-of-type {\n",
       "        vertical-align: middle;\n",
       "    }\n",
       "\n",
       "    .dataframe tbody tr th {\n",
       "        vertical-align: top;\n",
       "    }\n",
       "\n",
       "    .dataframe thead th {\n",
       "        text-align: right;\n",
       "    }\n",
       "</style>\n",
       "<table border=\"1\" class=\"dataframe\">\n",
       "  <thead>\n",
       "    <tr style=\"text-align: right;\">\n",
       "      <th></th>\n",
       "      <th>species</th>\n",
       "      <th>island</th>\n",
       "      <th>sex</th>\n",
       "    </tr>\n",
       "  </thead>\n",
       "  <tbody>\n",
       "    <tr>\n",
       "      <th>count</th>\n",
       "      <td>333</td>\n",
       "      <td>333</td>\n",
       "      <td>333</td>\n",
       "    </tr>\n",
       "    <tr>\n",
       "      <th>unique</th>\n",
       "      <td>3</td>\n",
       "      <td>3</td>\n",
       "      <td>2</td>\n",
       "    </tr>\n",
       "    <tr>\n",
       "      <th>top</th>\n",
       "      <td>Adelie</td>\n",
       "      <td>Biscoe</td>\n",
       "      <td>male</td>\n",
       "    </tr>\n",
       "    <tr>\n",
       "      <th>freq</th>\n",
       "      <td>146</td>\n",
       "      <td>163</td>\n",
       "      <td>168</td>\n",
       "    </tr>\n",
       "  </tbody>\n",
       "</table>\n",
       "</div>"
      ],
      "text/plain": [
       "       species  island   sex\n",
       "count      333     333   333\n",
       "unique       3       3     2\n",
       "top     Adelie  Biscoe  male\n",
       "freq       146     163   168"
      ]
     },
     "execution_count": 19,
     "metadata": {},
     "output_type": "execute_result"
    }
   ],
   "source": [
    "processed_penguins_df.describe(include=object)"
   ]
  },
  {
   "cell_type": "markdown",
   "metadata": {
    "cell_id": "d7c08ac772b84442a8b3d49c3f89c51e",
    "deepnote_app_coordinates": {
     "h": 5,
     "w": 12,
     "x": 0,
     "y": 270
    },
    "deepnote_cell_type": "markdown",
    "tags": []
   },
   "source": [
    "### Solo categóricas - 2"
   ]
  },
  {
   "cell_type": "code",
   "execution_count": 20,
   "metadata": {
    "cell_id": "4f0f5737aff7458bb10274a3f18ceb90",
    "deepnote_app_coordinates": {
     "h": 5,
     "w": 12,
     "x": 0,
     "y": 276
    },
    "deepnote_cell_type": "code",
    "deepnote_to_be_reexecuted": false,
    "execution_millis": 17,
    "execution_start": 1684976544392,
    "output_cleared": false,
    "source_hash": "4896b1ed",
    "tags": []
   },
   "outputs": [
    {
     "data": {
      "application/vnd.deepnote.dataframe.v3+json": {
       "column_count": 3,
       "columns": [
        {
         "dtype": "object",
         "name": "species",
         "stats": {
          "categories": [
           {
            "count": 1,
            "name": "333"
           },
           {
            "count": 1,
            "name": "3"
           },
           {
            "count": 2,
            "name": "2 others"
           }
          ],
          "nan_count": 0,
          "unique_count": 4
         }
        },
        {
         "dtype": "object",
         "name": "island",
         "stats": {
          "categories": [
           {
            "count": 1,
            "name": "333"
           },
           {
            "count": 1,
            "name": "3"
           },
           {
            "count": 2,
            "name": "2 others"
           }
          ],
          "nan_count": 0,
          "unique_count": 4
         }
        },
        {
         "dtype": "object",
         "name": "sex",
         "stats": {
          "categories": [
           {
            "count": 1,
            "name": "333"
           },
           {
            "count": 1,
            "name": "2"
           },
           {
            "count": 2,
            "name": "2 others"
           }
          ],
          "nan_count": 0,
          "unique_count": 4
         }
        },
        {
         "dtype": "object",
         "name": "_deepnote_index_column"
        }
       ],
       "row_count": 4,
       "rows": [
        {
         "_deepnote_index_column": "count",
         "island": "333",
         "sex": "333",
         "species": "333"
        },
        {
         "_deepnote_index_column": "unique",
         "island": "3",
         "sex": "2",
         "species": "3"
        },
        {
         "_deepnote_index_column": "top",
         "island": "Biscoe",
         "sex": "male",
         "species": "Adelie"
        },
        {
         "_deepnote_index_column": "freq",
         "island": "163",
         "sex": "168",
         "species": "146"
        }
       ]
      },
      "text/html": [
       "<div>\n",
       "<style scoped>\n",
       "    .dataframe tbody tr th:only-of-type {\n",
       "        vertical-align: middle;\n",
       "    }\n",
       "\n",
       "    .dataframe tbody tr th {\n",
       "        vertical-align: top;\n",
       "    }\n",
       "\n",
       "    .dataframe thead th {\n",
       "        text-align: right;\n",
       "    }\n",
       "</style>\n",
       "<table border=\"1\" class=\"dataframe\">\n",
       "  <thead>\n",
       "    <tr style=\"text-align: right;\">\n",
       "      <th></th>\n",
       "      <th>species</th>\n",
       "      <th>island</th>\n",
       "      <th>sex</th>\n",
       "    </tr>\n",
       "  </thead>\n",
       "  <tbody>\n",
       "    <tr>\n",
       "      <th>count</th>\n",
       "      <td>333</td>\n",
       "      <td>333</td>\n",
       "      <td>333</td>\n",
       "    </tr>\n",
       "    <tr>\n",
       "      <th>unique</th>\n",
       "      <td>3</td>\n",
       "      <td>3</td>\n",
       "      <td>2</td>\n",
       "    </tr>\n",
       "    <tr>\n",
       "      <th>top</th>\n",
       "      <td>Adelie</td>\n",
       "      <td>Biscoe</td>\n",
       "      <td>male</td>\n",
       "    </tr>\n",
       "    <tr>\n",
       "      <th>freq</th>\n",
       "      <td>146</td>\n",
       "      <td>163</td>\n",
       "      <td>168</td>\n",
       "    </tr>\n",
       "  </tbody>\n",
       "</table>\n",
       "</div>"
      ],
      "text/plain": [
       "       species  island   sex\n",
       "count      333     333   333\n",
       "unique       3       3     2\n",
       "top     Adelie  Biscoe  male\n",
       "freq       146     163   168"
      ]
     },
     "execution_count": 20,
     "metadata": {},
     "output_type": "execute_result"
    }
   ],
   "source": [
    "(\n",
    "    processed_penguins_df\n",
    "    .astype({\n",
    "        'species':'category',\n",
    "        'island':'category',\n",
    "        'sex':'category'\n",
    "    })\n",
    "    .describe(include='category')\n",
    ")"
   ]
  },
  {
   "cell_type": "markdown",
   "metadata": {
    "cell_id": "89b2b6fbc78a40068259df75b5c1529a",
    "deepnote_app_coordinates": {
     "h": 5,
     "w": 12,
     "x": 0,
     "y": 282
    },
    "deepnote_cell_type": "markdown",
    "deepnote_to_be_reexecuted": false,
    "execution_millis": 0,
    "execution_start": 1652847654830,
    "source_hash": "b623e53d",
    "tags": []
   },
   "source": [
    "## ¿Cómo visualizar los conteos?"
   ]
  },
  {
   "cell_type": "markdown",
   "metadata": {
    "cell_id": "4a5ab6b3a7eb4b14abfd32685e0481ee",
    "deepnote_app_coordinates": {
     "h": 5,
     "w": 12,
     "x": 0,
     "y": 288
    },
    "deepnote_cell_type": "markdown",
    "tags": []
   },
   "source": [
    "### Pandas"
   ]
  },
  {
   "cell_type": "code",
   "execution_count": 21,
   "metadata": {
    "cell_id": "76fe605989604517b4bffc3ef43120a0",
    "deepnote_app_coordinates": {
     "h": 5,
     "w": 12,
     "x": 0,
     "y": 294
    },
    "deepnote_cell_type": "code",
    "deepnote_to_be_reexecuted": false,
    "execution_millis": 47,
    "execution_start": 1684976544393,
    "output_cleared": false,
    "source_hash": "915482b6",
    "tags": []
   },
   "outputs": [
    {
     "data": {
      "text/plain": [
       "<AxesSubplot: >"
      ]
     },
     "execution_count": 21,
     "metadata": {},
     "output_type": "execute_result"
    },
    {
     "data": {
      "image/png": "[encoded data removed]",
      "text/plain": [
       "<Figure size 1100x940 with 1 Axes>"
      ]
     },
     "metadata": {
      "image/png": {
       "height": 830,
       "width": 914
      }
     },
     "output_type": "display_data"
    }
   ],
   "source": [
    "(\n",
    "    processed_penguins_df\n",
    "    .species\n",
    "    .value_counts()\n",
    "    .plot(\n",
    "        kind='bar'\n",
    "    )\n",
    ")"
   ]
  },
  {
   "cell_type": "markdown",
   "metadata": {
    "cell_id": "71ad753efd134fcea455d1f4ef2ee32e",
    "deepnote_app_coordinates": {
     "h": 5,
     "w": 12,
     "x": 0,
     "y": 300
    },
    "deepnote_cell_type": "markdown",
    "tags": []
   },
   "source": [
    "### Seaborn"
   ]
  },
  {
   "cell_type": "code",
   "execution_count": 22,
   "metadata": {
    "cell_id": "b46987cd80854965ae3049fb440b983f",
    "deepnote_app_coordinates": {
     "h": 5,
     "w": 12,
     "x": 0,
     "y": 306
    },
    "deepnote_cell_type": "code",
    "deepnote_to_be_reexecuted": false,
    "execution_millis": 334,
    "execution_start": 1684976544751,
    "output_cleared": false,
    "source_hash": "a5ada227",
    "tags": []
   },
   "outputs": [
    {
     "data": {
      "text/plain": [
       "<seaborn.axisgrid.FacetGrid at 0x7fa180034820>"
      ]
     },
     "execution_count": 22,
     "metadata": {},
     "output_type": "execute_result"
    },
    {
     "data": {
      "image/png": "[encoded data removed]",
      "text/plain": [
       "<Figure size 500x500 with 1 Axes>"
      ]
     },
     "metadata": {
      "image/png": {
       "height": 484,
       "width": 484
      }
     },
     "output_type": "display_data"
    }
   ],
   "source": [
    "sns.catplot(\n",
    "    data=processed_penguins_df,\n",
    "    x='species',\n",
    "    kind='count',\n",
    "    palette=penguin_color\n",
    ")"
   ]
  },
  {
   "cell_type": "code",
   "execution_count": 23,
   "metadata": {
    "cell_id": "0f32770c7a66413fae68ad0ac08033bd",
    "deepnote_app_coordinates": {
     "h": 5,
     "w": 12,
     "x": 0,
     "y": 312
    },
    "deepnote_cell_type": "code",
    "deepnote_to_be_reexecuted": false,
    "execution_millis": 45,
    "execution_start": 1684976545292,
    "output_cleared": false,
    "source_hash": "9f6f8e14",
    "tags": []
   },
   "outputs": [
    {
     "data": {
      "text/plain": [
       "<AxesSubplot: xlabel='species', ylabel='count'>"
      ]
     },
     "execution_count": 23,
     "metadata": {},
     "output_type": "execute_result"
    },
    {
     "data": {
      "image/png": "[encoded data removed]",
      "text/plain": [
       "<Figure size 1100x940 with 1 Axes>"
      ]
     },
     "metadata": {
      "image/png": {
       "height": 795,
       "width": 938
      }
     },
     "output_type": "display_data"
    }
   ],
   "source": [
    "(\n",
    "    processed_penguins_df\n",
    "    .value_counts('species', sort=True)\n",
    "    .reset_index(name='count')\n",
    "    .pipe(\n",
    "        lambda df: (\n",
    "            sns.barplot(\n",
    "                data=df,\n",
    "                x='species',\n",
    "                y='count',\n",
    "                palette=penguin_color\n",
    "            )\n",
    "        )\n",
    "    )\n",
    ")"
   ]
  },
  {
   "cell_type": "markdown",
   "metadata": {
    "cell_id": "05d671770ab840dc9d24ce3ec98dc7c9",
    "deepnote_app_coordinates": {
     "h": 5,
     "w": 12,
     "x": 0,
     "y": 318
    },
    "deepnote_cell_type": "markdown",
    "tags": []
   },
   "source": [
    "### ¿Cómo visualizar las proporciones?"
   ]
  },
  {
   "cell_type": "code",
   "execution_count": 24,
   "metadata": {
    "cell_id": "5b073dcad05b43faad219a5ececa1f5b",
    "deepnote_app_coordinates": {
     "h": 5,
     "w": 12,
     "x": 0,
     "y": 324
    },
    "deepnote_cell_type": "code",
    "deepnote_to_be_reexecuted": false,
    "execution_millis": 429,
    "execution_start": 1684976545640,
    "output_cleared": false,
    "source_hash": "944c3d0a",
    "tags": []
   },
   "outputs": [
    {
     "data": {
      "text/plain": [
       "<seaborn.axisgrid.FacetGrid at 0x7fa17ff3bf40>"
      ]
     },
     "execution_count": 24,
     "metadata": {},
     "output_type": "execute_result"
    },
    {
     "data": {
      "image/png": "[encoded data removed]",
      "text/plain": [
       "<Figure size 628.625x500 with 1 Axes>"
      ]
     },
     "metadata": {
      "image/png": {
       "height": 484,
       "width": 622
      }
     },
     "output_type": "display_data"
    }
   ],
   "source": [
    "(\n",
    "    processed_penguins_df\n",
    "    .add_column('x','')\n",
    "    .pipe(\n",
    "        lambda df: (\n",
    "            sns.displot(\n",
    "                data=df,\n",
    "                x='x',\n",
    "                hue='species',\n",
    "                multiple='fill'\n",
    "            )\n",
    "        )\n",
    "    )\n",
    ")"
   ]
  },
  {
   "cell_type": "markdown",
   "metadata": {
    "cell_id": "c0ffdebf057b4c93b5c65065001a46b1",
    "deepnote_app_coordinates": {
     "h": 5,
     "w": 12,
     "x": 0,
     "y": 330
    },
    "deepnote_cell_type": "markdown",
    "tags": []
   },
   "source": [
    "# Medidas de tendencia central"
   ]
  },
  {
   "cell_type": "markdown",
   "metadata": {
    "cell_id": "aa4b681843f641db90d3544b4dbac48f",
    "deepnote_app_coordinates": {
     "h": 5,
     "w": 12,
     "x": 0,
     "y": 0
    },
    "deepnote_cell_type": "markdown",
    "tags": []
   },
   "source": [
    "## Media o promedio"
   ]
  },
  {
   "cell_type": "code",
   "execution_count": 25,
   "metadata": {
    "cell_id": "3406b971804443ec81d00c4cc18f6c56",
    "deepnote_app_coordinates": {
     "h": 5,
     "w": 12,
     "x": 0,
     "y": 336
    },
    "deepnote_cell_type": "code",
    "deepnote_to_be_reexecuted": false,
    "execution_millis": 2,
    "execution_start": 1684976546305,
    "output_cleared": false,
    "source_hash": "c94bb6a",
    "tags": []
   },
   "outputs": [
    {
     "data": {
      "text/plain": [
       "17.164864864864867"
      ]
     },
     "execution_count": 25,
     "metadata": {},
     "output_type": "execute_result"
    }
   ],
   "source": [
    "processed_penguins_df.bill_depth_mm.mean()"
   ]
  },
  {
   "cell_type": "code",
   "execution_count": 26,
   "metadata": {
    "cell_id": "3eea304b332040068aa12b6b488d7e9f",
    "deepnote_app_coordinates": {
     "h": 5,
     "w": 12,
     "x": 0,
     "y": 342
    },
    "deepnote_cell_type": "code",
    "deepnote_to_be_reexecuted": false,
    "execution_millis": 28,
    "execution_start": 1684976546311,
    "output_cleared": false,
    "source_hash": "926b49b5",
    "tags": []
   },
   "outputs": [
    {
     "data": {
      "text/plain": [
       "17.164864864864867"
      ]
     },
     "execution_count": 26,
     "metadata": {},
     "output_type": "execute_result"
    }
   ],
   "source": [
    "np.mean(processed_penguins_df.bill_depth_mm)"
   ]
  },
  {
   "cell_type": "code",
   "execution_count": 27,
   "metadata": {
    "cell_id": "5bb4381fac4a4acd9c036a8e2ee6606a",
    "deepnote_app_coordinates": {
     "h": 5,
     "w": 12,
     "x": 0,
     "y": 348
    },
    "deepnote_cell_type": "code",
    "deepnote_to_be_reexecuted": false,
    "execution_millis": 53,
    "execution_start": 1684976546335,
    "output_cleared": false,
    "source_hash": "3b999036",
    "tags": []
   },
   "outputs": [
    {
     "name": "stderr",
     "output_type": "stream",
     "text": [
      "/tmp/ipykernel_105/1618060137.py:1: FutureWarning: The default value of numeric_only in DataFrame.mean is deprecated. In a future version, it will default to False. In addition, specifying 'numeric_only=None' is deprecated. Select only valid columns or specify the value of numeric_only to silence this warning.\n",
      "  processed_penguins_df.mean()\n"
     ]
    },
    {
     "data": {
      "text/plain": [
       "bill_length_mm         43.992793\n",
       "bill_depth_mm          17.164865\n",
       "flipper_length_mm     200.966967\n",
       "body_mass_g          4207.057057\n",
       "year                 2008.042042\n",
       "dtype: float64"
      ]
     },
     "execution_count": 27,
     "metadata": {},
     "output_type": "execute_result"
    }
   ],
   "source": [
    "processed_penguins_df.mean()"
   ]
  },
  {
   "cell_type": "markdown",
   "metadata": {
    "cell_id": "8c457dd79f3a4d1daf9d491d94d83a47",
    "deepnote_app_coordinates": {
     "h": 5,
     "w": 12,
     "x": 0,
     "y": 0
    },
    "deepnote_cell_type": "markdown",
    "tags": []
   },
   "source": [
    "## Mediana"
   ]
  },
  {
   "cell_type": "code",
   "execution_count": 28,
   "metadata": {
    "cell_id": "178ee05d7ce7456383431115022a2c96",
    "deepnote_app_coordinates": {
     "h": 5,
     "w": 12,
     "x": 0,
     "y": 354
    },
    "deepnote_cell_type": "code",
    "deepnote_to_be_reexecuted": false,
    "execution_millis": 21,
    "execution_start": 1684976546367,
    "output_cleared": false,
    "source_hash": "82c9ade8",
    "tags": []
   },
   "outputs": [
    {
     "name": "stderr",
     "output_type": "stream",
     "text": [
      "/tmp/ipykernel_105/3242987746.py:1: FutureWarning: The default value of numeric_only in DataFrame.median is deprecated. In a future version, it will default to False. In addition, specifying 'numeric_only=None' is deprecated. Select only valid columns or specify the value of numeric_only to silence this warning.\n",
      "  processed_penguins_df.median()\n"
     ]
    },
    {
     "data": {
      "text/plain": [
       "bill_length_mm         44.5\n",
       "bill_depth_mm          17.3\n",
       "flipper_length_mm     197.0\n",
       "body_mass_g          4050.0\n",
       "year                 2008.0\n",
       "dtype: float64"
      ]
     },
     "execution_count": 28,
     "metadata": {},
     "output_type": "execute_result"
    }
   ],
   "source": [
    "processed_penguins_df.median()"
   ]
  },
  {
   "cell_type": "markdown",
   "metadata": {
    "cell_id": "0a436cd4318b452ca1355f6827308e75",
    "deepnote_app_coordinates": {
     "h": 5,
     "w": 12,
     "x": 0,
     "y": 0
    },
    "deepnote_cell_type": "markdown",
    "tags": []
   },
   "source": [
    "## Moda"
   ]
  },
  {
   "cell_type": "code",
   "execution_count": 29,
   "metadata": {
    "cell_id": "cb2b7ebb87c640238cc3793f89e2f106",
    "deepnote_app_coordinates": {
     "h": 5,
     "w": 12,
     "x": 0,
     "y": 360
    },
    "deepnote_cell_type": "code",
    "deepnote_to_be_reexecuted": false,
    "execution_millis": 23,
    "execution_start": 1684976546368,
    "output_cleared": false,
    "source_hash": "b28811a5",
    "tags": []
   },
   "outputs": [
    {
     "data": {
      "application/vnd.deepnote.dataframe.v3+json": {
       "column_count": 8,
       "columns": [
        {
         "dtype": "object",
         "name": "species",
         "stats": {
          "categories": [
           {
            "count": 1,
            "name": "Adelie"
           }
          ],
          "nan_count": 0,
          "unique_count": 1
         }
        },
        {
         "dtype": "object",
         "name": "island",
         "stats": {
          "categories": [
           {
            "count": 1,
            "name": "Biscoe"
           }
          ],
          "nan_count": 0,
          "unique_count": 1
         }
        },
        {
         "dtype": "float64",
         "name": "bill_length_mm",
         "stats": {
          "histogram": [
           {
            "bin_end": 40.7,
            "bin_start": 40.6,
            "count": 0
           },
           {
            "bin_end": 40.800000000000004,
            "bin_start": 40.7,
            "count": 0
           },
           {
            "bin_end": 40.9,
            "bin_start": 40.800000000000004,
            "count": 0
           },
           {
            "bin_end": 41,
            "bin_start": 40.9,
            "count": 0
           },
           {
            "bin_end": 41.1,
            "bin_start": 41,
            "count": 0
           },
           {
            "bin_end": 41.2,
            "bin_start": 41.1,
            "count": 1
           },
           {
            "bin_end": 41.300000000000004,
            "bin_start": 41.2,
            "count": 0
           },
           {
            "bin_end": 41.4,
            "bin_start": 41.300000000000004,
            "count": 0
           },
           {
            "bin_end": 41.5,
            "bin_start": 41.4,
            "count": 0
           },
           {
            "bin_end": 41.6,
            "bin_start": 41.5,
            "count": 0
           }
          ],
          "max": "41.1",
          "min": "41.1",
          "nan_count": 0,
          "unique_count": 1
         }
        },
        {
         "dtype": "float64",
         "name": "bill_depth_mm",
         "stats": {
          "histogram": [
           {
            "bin_end": 16.6,
            "bin_start": 16.5,
            "count": 0
           },
           {
            "bin_end": 16.7,
            "bin_start": 16.6,
            "count": 0
           },
           {
            "bin_end": 16.8,
            "bin_start": 16.7,
            "count": 0
           },
           {
            "bin_end": 16.9,
            "bin_start": 16.8,
            "count": 0
           },
           {
            "bin_end": 17,
            "bin_start": 16.9,
            "count": 0
           },
           {
            "bin_end": 17.1,
            "bin_start": 17,
            "count": 1
           },
           {
            "bin_end": 17.2,
            "bin_start": 17.1,
            "count": 0
           },
           {
            "bin_end": 17.3,
            "bin_start": 17.2,
            "count": 0
           },
           {
            "bin_end": 17.4,
            "bin_start": 17.3,
            "count": 0
           },
           {
            "bin_end": 17.5,
            "bin_start": 17.4,
            "count": 0
           }
          ],
          "max": "17.0",
          "min": "17.0",
          "nan_count": 0,
          "unique_count": 1
         }
        },
        {
         "dtype": "float64",
         "name": "flipper_length_mm",
         "stats": {
          "histogram": [
           {
            "bin_end": 189.6,
            "bin_start": 189.5,
            "count": 0
           },
           {
            "bin_end": 189.7,
            "bin_start": 189.6,
            "count": 0
           },
           {
            "bin_end": 189.8,
            "bin_start": 189.7,
            "count": 0
           },
           {
            "bin_end": 189.9,
            "bin_start": 189.8,
            "count": 0
           },
           {
            "bin_end": 190,
            "bin_start": 189.9,
            "count": 0
           },
           {
            "bin_end": 190.1,
            "bin_start": 190,
            "count": 1
           },
           {
            "bin_end": 190.2,
            "bin_start": 190.1,
            "count": 0
           },
           {
            "bin_end": 190.3,
            "bin_start": 190.2,
            "count": 0
           },
           {
            "bin_end": 190.4,
            "bin_start": 190.3,
            "count": 0
           },
           {
            "bin_end": 190.5,
            "bin_start": 190.4,
            "count": 0
           }
          ],
          "max": "190.0",
          "min": "190.0",
          "nan_count": 0,
          "unique_count": 1
         }
        },
        {
         "dtype": "float64",
         "name": "body_mass_g",
         "stats": {
          "histogram": [
           {
            "bin_end": 3799.6,
            "bin_start": 3799.5,
            "count": 0
           },
           {
            "bin_end": 3799.7,
            "bin_start": 3799.6,
            "count": 0
           },
           {
            "bin_end": 3799.8,
            "bin_start": 3799.7,
            "count": 0
           },
           {
            "bin_end": 3799.9,
            "bin_start": 3799.8,
            "count": 0
           },
           {
            "bin_end": 3800,
            "bin_start": 3799.9,
            "count": 0
           },
           {
            "bin_end": 3800.1,
            "bin_start": 3800,
            "count": 1
           },
           {
            "bin_end": 3800.2,
            "bin_start": 3800.1,
            "count": 0
           },
           {
            "bin_end": 3800.3,
            "bin_start": 3800.2,
            "count": 0
           },
           {
            "bin_end": 3800.4,
            "bin_start": 3800.3,
            "count": 0
           },
           {
            "bin_end": 3800.5,
            "bin_start": 3800.4,
            "count": 0
           }
          ],
          "max": "3800.0",
          "min": "3800.0",
          "nan_count": 0,
          "unique_count": 1
         }
        },
        {
         "dtype": "object",
         "name": "sex",
         "stats": {
          "categories": [
           {
            "count": 1,
            "name": "male"
           }
          ],
          "nan_count": 0,
          "unique_count": 1
         }
        },
        {
         "dtype": "int64",
         "name": "year",
         "stats": {
          "histogram": [
           {
            "bin_end": 2008.6,
            "bin_start": 2008.5,
            "count": 0
           },
           {
            "bin_end": 2008.7,
            "bin_start": 2008.6,
            "count": 0
           },
           {
            "bin_end": 2008.8,
            "bin_start": 2008.7,
            "count": 0
           },
           {
            "bin_end": 2008.9,
            "bin_start": 2008.8,
            "count": 0
           },
           {
            "bin_end": 2009,
            "bin_start": 2008.9,
            "count": 0
           },
           {
            "bin_end": 2009.1,
            "bin_start": 2009,
            "count": 1
           },
           {
            "bin_end": 2009.2,
            "bin_start": 2009.1,
            "count": 0
           },
           {
            "bin_end": 2009.3,
            "bin_start": 2009.2,
            "count": 0
           },
           {
            "bin_end": 2009.4,
            "bin_start": 2009.3,
            "count": 0
           },
           {
            "bin_end": 2009.5,
            "bin_start": 2009.4,
            "count": 0
           }
          ],
          "max": "2009",
          "min": "2009",
          "nan_count": 0,
          "unique_count": 1
         }
        },
        {
         "dtype": "int64",
         "name": "_deepnote_index_column"
        }
       ],
       "row_count": 1,
       "rows": [
        {
         "_deepnote_index_column": "0",
         "bill_depth_mm": "17.0",
         "bill_length_mm": "41.1",
         "body_mass_g": "3800.0",
         "flipper_length_mm": "190.0",
         "island": "Biscoe",
         "sex": "male",
         "species": "Adelie",
         "year": "2009"
        }
       ]
      },
      "text/html": [
       "<div>\n",
       "<style scoped>\n",
       "    .dataframe tbody tr th:only-of-type {\n",
       "        vertical-align: middle;\n",
       "    }\n",
       "\n",
       "    .dataframe tbody tr th {\n",
       "        vertical-align: top;\n",
       "    }\n",
       "\n",
       "    .dataframe thead th {\n",
       "        text-align: right;\n",
       "    }\n",
       "</style>\n",
       "<table border=\"1\" class=\"dataframe\">\n",
       "  <thead>\n",
       "    <tr style=\"text-align: right;\">\n",
       "      <th></th>\n",
       "      <th>species</th>\n",
       "      <th>island</th>\n",
       "      <th>bill_length_mm</th>\n",
       "      <th>bill_depth_mm</th>\n",
       "      <th>flipper_length_mm</th>\n",
       "      <th>body_mass_g</th>\n",
       "      <th>sex</th>\n",
       "      <th>year</th>\n",
       "    </tr>\n",
       "  </thead>\n",
       "  <tbody>\n",
       "    <tr>\n",
       "      <th>0</th>\n",
       "      <td>Adelie</td>\n",
       "      <td>Biscoe</td>\n",
       "      <td>41.1</td>\n",
       "      <td>17.0</td>\n",
       "      <td>190.0</td>\n",
       "      <td>3800.0</td>\n",
       "      <td>male</td>\n",
       "      <td>2009</td>\n",
       "    </tr>\n",
       "  </tbody>\n",
       "</table>\n",
       "</div>"
      ],
      "text/plain": [
       "  species  island  bill_length_mm  bill_depth_mm  flipper_length_mm  \\\n",
       "0  Adelie  Biscoe            41.1           17.0              190.0   \n",
       "\n",
       "   body_mass_g   sex  year  \n",
       "0       3800.0  male  2009  "
      ]
     },
     "execution_count": 29,
     "metadata": {},
     "output_type": "execute_result"
    }
   ],
   "source": [
    "processed_penguins_df.mode()"
   ]
  },
  {
   "cell_type": "code",
   "execution_count": 30,
   "metadata": {
    "cell_id": "e02f821e12a040bbb10d53cc02182864",
    "deepnote_app_coordinates": {
     "h": 5,
     "w": 12,
     "x": 0,
     "y": 366
    },
    "deepnote_cell_type": "code",
    "deepnote_to_be_reexecuted": false,
    "execution_millis": 18,
    "execution_start": 1684976546480,
    "output_cleared": false,
    "source_hash": "bfeeec00",
    "tags": []
   },
   "outputs": [
    {
     "data": {
      "application/vnd.deepnote.dataframe.v3+json": {
       "column_count": 3,
       "columns": [
        {
         "dtype": "object",
         "name": "species",
         "stats": {
          "categories": [
           {
            "count": 1,
            "name": "333"
           },
           {
            "count": 1,
            "name": "3"
           },
           {
            "count": 2,
            "name": "2 others"
           }
          ],
          "nan_count": 0,
          "unique_count": 4
         }
        },
        {
         "dtype": "object",
         "name": "island",
         "stats": {
          "categories": [
           {
            "count": 1,
            "name": "333"
           },
           {
            "count": 1,
            "name": "3"
           },
           {
            "count": 2,
            "name": "2 others"
           }
          ],
          "nan_count": 0,
          "unique_count": 4
         }
        },
        {
         "dtype": "object",
         "name": "sex",
         "stats": {
          "categories": [
           {
            "count": 1,
            "name": "333"
           },
           {
            "count": 1,
            "name": "2"
           },
           {
            "count": 2,
            "name": "2 others"
           }
          ],
          "nan_count": 0,
          "unique_count": 4
         }
        },
        {
         "dtype": "object",
         "name": "_deepnote_index_column"
        }
       ],
       "row_count": 4,
       "rows": [
        {
         "_deepnote_index_column": "count",
         "island": "333",
         "sex": "333",
         "species": "333"
        },
        {
         "_deepnote_index_column": "unique",
         "island": "3",
         "sex": "2",
         "species": "3"
        },
        {
         "_deepnote_index_column": "top",
         "island": "Biscoe",
         "sex": "male",
         "species": "Adelie"
        },
        {
         "_deepnote_index_column": "freq",
         "island": "163",
         "sex": "168",
         "species": "146"
        }
       ]
      },
      "text/html": [
       "<div>\n",
       "<style scoped>\n",
       "    .dataframe tbody tr th:only-of-type {\n",
       "        vertical-align: middle;\n",
       "    }\n",
       "\n",
       "    .dataframe tbody tr th {\n",
       "        vertical-align: top;\n",
       "    }\n",
       "\n",
       "    .dataframe thead th {\n",
       "        text-align: right;\n",
       "    }\n",
       "</style>\n",
       "<table border=\"1\" class=\"dataframe\">\n",
       "  <thead>\n",
       "    <tr style=\"text-align: right;\">\n",
       "      <th></th>\n",
       "      <th>species</th>\n",
       "      <th>island</th>\n",
       "      <th>sex</th>\n",
       "    </tr>\n",
       "  </thead>\n",
       "  <tbody>\n",
       "    <tr>\n",
       "      <th>count</th>\n",
       "      <td>333</td>\n",
       "      <td>333</td>\n",
       "      <td>333</td>\n",
       "    </tr>\n",
       "    <tr>\n",
       "      <th>unique</th>\n",
       "      <td>3</td>\n",
       "      <td>3</td>\n",
       "      <td>2</td>\n",
       "    </tr>\n",
       "    <tr>\n",
       "      <th>top</th>\n",
       "      <td>Adelie</td>\n",
       "      <td>Biscoe</td>\n",
       "      <td>male</td>\n",
       "    </tr>\n",
       "    <tr>\n",
       "      <th>freq</th>\n",
       "      <td>146</td>\n",
       "      <td>163</td>\n",
       "      <td>168</td>\n",
       "    </tr>\n",
       "  </tbody>\n",
       "</table>\n",
       "</div>"
      ],
      "text/plain": [
       "       species  island   sex\n",
       "count      333     333   333\n",
       "unique       3       3     2\n",
       "top     Adelie  Biscoe  male\n",
       "freq       146     163   168"
      ]
     },
     "execution_count": 30,
     "metadata": {},
     "output_type": "execute_result"
    }
   ],
   "source": [
    "processed_penguins_df.describe(include=object)"
   ]
  },
  {
   "cell_type": "code",
   "execution_count": 31,
   "metadata": {
    "cell_id": "1a598fd501064848833816e30dec0dbf",
    "deepnote_cell_type": "code",
    "deepnote_to_be_reexecuted": false,
    "execution_millis": 110,
    "execution_start": 1684976546481,
    "source_hash": "52ceb2cb"
   },
   "outputs": [
    {
     "data": {
      "text/plain": [
       "<AxesSubplot: >"
      ]
     },
     "execution_count": 31,
     "metadata": {},
     "output_type": "execute_result"
    },
    {
     "data": {
      "image/png": "[encoded data removed]",
      "text/plain": [
       "<Figure size 1100x940 with 1 Axes>"
      ]
     },
     "metadata": {
      "image/png": {
       "height": 809,
       "width": 914
      }
     },
     "output_type": "display_data"
    }
   ],
   "source": [
    "(\n",
    "    processed_penguins_df\n",
    "    .sex\n",
    "    .value_counts()\n",
    "    .plot(\n",
    "        kind='bar'\n",
    "    )\n",
    ")"
   ]
  },
  {
   "cell_type": "code",
   "execution_count": 32,
   "metadata": {
    "cell_id": "7315dfeb14a44cef832c40a9a8e24a21",
    "deepnote_cell_type": "code",
    "deepnote_to_be_reexecuted": false,
    "execution_millis": 536,
    "execution_start": 1684976546793,
    "source_hash": "848b252d"
   },
   "outputs": [
    {
     "data": {
      "text/plain": [
       "<seaborn.axisgrid.FacetGrid at 0x7fa17fdbde50>"
      ]
     },
     "execution_count": 32,
     "metadata": {},
     "output_type": "execute_result"
    },
    {
     "data": {
      "image/png": "[encoded data removed]",
      "text/plain": [
       "<Figure size 607.875x500 with 1 Axes>"
      ]
     },
     "metadata": {
      "image/png": {
       "height": 484,
       "width": 602
      }
     },
     "output_type": "display_data"
    }
   ],
   "source": [
    "(\n",
    "    processed_penguins_df\n",
    "    .add_column('x','')\n",
    "    .pipe(\n",
    "        lambda df: (\n",
    "            sns.displot(\n",
    "                data=df,\n",
    "                x='x',\n",
    "                hue='sex',\n",
    "                multiple='fill'\n",
    "            )\n",
    "        )\n",
    "    )\n",
    ")"
   ]
  },
  {
   "cell_type": "markdown",
   "metadata": {
    "cell_id": "d0dac37c01ff4dfc9406ff212e2cda42",
    "deepnote_app_coordinates": {
     "h": 5,
     "w": 12,
     "x": 0,
     "y": 372
    },
    "deepnote_cell_type": "markdown",
    "tags": []
   },
   "source": [
    "# Medidas de dispersión"
   ]
  },
  {
   "cell_type": "markdown",
   "metadata": {
    "cell_id": "167fb831f5e94091a54994a7332438a4",
    "deepnote_app_coordinates": {
     "h": 5,
     "w": 12,
     "x": 0,
     "y": 378
    },
    "deepnote_cell_type": "markdown",
    "tags": []
   },
   "source": [
    "## ¿Cuál es el valor máximo de las variables?"
   ]
  },
  {
   "cell_type": "code",
   "execution_count": 33,
   "metadata": {
    "cell_id": "27310b1d0cc247f49b6a0c9d4809d52a",
    "deepnote_cell_type": "code",
    "deepnote_to_be_reexecuted": false,
    "execution_millis": 2,
    "execution_start": 1684976547532,
    "source_hash": "c5f44cf7"
   },
   "outputs": [
    {
     "data": {
      "text/plain": [
       "species                 Gentoo\n",
       "island               Torgersen\n",
       "bill_length_mm            59.6\n",
       "bill_depth_mm             21.5\n",
       "flipper_length_mm        231.0\n",
       "body_mass_g             6300.0\n",
       "sex                       male\n",
       "year                      2009\n",
       "dtype: object"
      ]
     },
     "execution_count": 33,
     "metadata": {},
     "output_type": "execute_result"
    }
   ],
   "source": [
    "processed_penguins_df.max()"
   ]
  },
  {
   "cell_type": "markdown",
   "metadata": {
    "cell_id": "8826f00585c94438abd2e4f95849218c",
    "deepnote_app_coordinates": {
     "h": 5,
     "w": 12,
     "x": 0,
     "y": 390
    },
    "deepnote_cell_type": "markdown",
    "tags": []
   },
   "source": [
    "## ¿Cuál es el valor mínimo de las variables?"
   ]
  },
  {
   "cell_type": "code",
   "execution_count": 34,
   "metadata": {
    "cell_id": "ebf8daedf78f4b328a60816b0969f091",
    "deepnote_app_coordinates": {
     "h": 5,
     "w": 12,
     "x": 0,
     "y": 396
    },
    "deepnote_cell_type": "code",
    "deepnote_to_be_reexecuted": false,
    "execution_millis": 2,
    "execution_start": 1684976547533,
    "output_cleared": false,
    "source_hash": "1b1d75d0",
    "tags": []
   },
   "outputs": [
    {
     "data": {
      "text/plain": [
       "species              Adelie\n",
       "island               Biscoe\n",
       "bill_length_mm         32.1\n",
       "bill_depth_mm          13.1\n",
       "flipper_length_mm     172.0\n",
       "body_mass_g          2700.0\n",
       "sex                  female\n",
       "year                   2007\n",
       "dtype: object"
      ]
     },
     "execution_count": 34,
     "metadata": {},
     "output_type": "execute_result"
    }
   ],
   "source": [
    "processed_penguins_df.min()"
   ]
  },
  {
   "cell_type": "markdown",
   "metadata": {
    "cell_id": "2f6eeaa8ddb34a00b271e1596fcef46e",
    "deepnote_app_coordinates": {
     "h": 5,
     "w": 12,
     "x": 0,
     "y": 402
    },
    "deepnote_cell_type": "markdown",
    "tags": []
   },
   "source": [
    "## ¿Cuál es el rango de las variables?"
   ]
  },
  {
   "cell_type": "code",
   "execution_count": 35,
   "metadata": {
    "cell_id": "2688b6f1e65d409fa664857ab564f0a0",
    "deepnote_app_coordinates": {
     "h": 5,
     "w": 12,
     "x": 0,
     "y": 408
    },
    "deepnote_cell_type": "code",
    "deepnote_to_be_reexecuted": false,
    "execution_millis": 2,
    "execution_start": 1684976547573,
    "output_cleared": false,
    "source_hash": "8b1ebcbd",
    "tags": []
   },
   "outputs": [
    {
     "data": {
      "text/plain": [
       "bill_length_mm         27.5\n",
       "bill_depth_mm           8.4\n",
       "flipper_length_mm      59.0\n",
       "body_mass_g          3600.0\n",
       "year                    2.0\n",
       "dtype: float64"
      ]
     },
     "execution_count": 35,
     "metadata": {},
     "output_type": "execute_result"
    }
   ],
   "source": [
    "processed_penguins_df.max(numeric_only=True)-processed_penguins_df.min(numeric_only=True)"
   ]
  },
  {
   "cell_type": "markdown",
   "metadata": {
    "cell_id": "542d633a1c5a46c08df87bc88050505a",
    "deepnote_app_coordinates": {
     "h": 5,
     "w": 12,
     "x": 0,
     "y": 414
    },
    "deepnote_cell_type": "markdown",
    "tags": []
   },
   "source": [
    "## ¿Cuál es la desviación estándar de las variables?"
   ]
  },
  {
   "cell_type": "code",
   "execution_count": 36,
   "metadata": {
    "cell_id": "c4e1923c977e4c9982a8bc5e9213fb55",
    "deepnote_cell_type": "code",
    "deepnote_to_be_reexecuted": false,
    "execution_millis": 1,
    "execution_start": 1684976547574,
    "source_hash": "d5399ab0"
   },
   "outputs": [
    {
     "name": "stderr",
     "output_type": "stream",
     "text": [
      "/tmp/ipykernel_105/4261057176.py:1: FutureWarning: The default value of numeric_only in DataFrame.std is deprecated. In a future version, it will default to False. In addition, specifying 'numeric_only=None' is deprecated. Select only valid columns or specify the value of numeric_only to silence this warning.\n",
      "  processed_penguins_df.std()\n"
     ]
    },
    {
     "data": {
      "text/plain": [
       "bill_length_mm         5.468668\n",
       "bill_depth_mm          1.969235\n",
       "flipper_length_mm     14.015765\n",
       "body_mass_g          805.215802\n",
       "year                   0.812944\n",
       "dtype: float64"
      ]
     },
     "execution_count": 36,
     "metadata": {},
     "output_type": "execute_result"
    }
   ],
   "source": [
    "processed_penguins_df.std()"
   ]
  },
  {
   "cell_type": "code",
   "execution_count": 37,
   "metadata": {
    "cell_id": "8569c560c1d34245a7b27b24b623a780",
    "deepnote_app_coordinates": {
     "h": 5,
     "w": 12,
     "x": 0,
     "y": 420
    },
    "deepnote_cell_type": "code",
    "deepnote_to_be_reexecuted": false,
    "execution_millis": 826,
    "execution_start": 1684976547575,
    "output_cleared": false,
    "source_hash": "94dc6806",
    "tags": []
   },
   "outputs": [
    {
     "ename": "NameError",
     "evalue": "name 'x' is not defined",
     "output_type": "error",
     "traceback": [
      "\u001b[0;31m---------------------------------------------------------------------------\u001b[0m",
      "\u001b[0;31mNameError\u001b[0m                                 Traceback (most recent call last)",
      "Cell \u001b[0;32mIn [37], line 2\u001b[0m\n\u001b[1;32m      1\u001b[0m sns\u001b[38;5;241m.\u001b[39mscatterplot(\n\u001b[0;32m----> 2\u001b[0m     x\u001b[38;5;241m=\u001b[39m\u001b[43mx\u001b[49m,\n\u001b[1;32m      3\u001b[0m     y\u001b[38;5;241m=\u001b[39my\n\u001b[1;32m      4\u001b[0m )\n\u001b[1;32m      6\u001b[0m fx_1 \u001b[38;5;241m=\u001b[39m np\u001b[38;5;241m.\u001b[39marray([x\u001b[38;5;241m.\u001b[39mmin(), x\u001b[38;5;241m.\u001b[39mmax()])\n\u001b[1;32m      7\u001b[0m fy_1 \u001b[38;5;241m=\u001b[39m  res_x_y\u001b[38;5;241m.\u001b[39mintercept \u001b[38;5;241m+\u001b[39m res_x_y\u001b[38;5;241m.\u001b[39mslope \u001b[38;5;241m*\u001b[39m  fx_1\n",
      "\u001b[0;31mNameError\u001b[0m: name 'x' is not defined"
     ]
    }
   ],
   "source": [
    "sns.scatterplot(\n",
    "    x=x,\n",
    "    y=y\n",
    ")\n",
    "\n",
    "fx_1 = np.array([x.min(), x.max()])\n",
    "fy_1 =  res_x_y.intercept + res_x_y.slope *  fx_1\n",
    "\n",
    "plt.plot(fx_1, fy_1)"
   ]
  },
  {
   "cell_type": "code",
   "execution_count": 0,
   "metadata": {
    "cell_id": "41abf25c0b14429ba989851409d4f537",
    "deepnote_app_coordinates": {
     "h": 5,
     "w": 12,
     "x": 0,
     "y": 0
    },
    "deepnote_cell_type": "code",
    "deepnote_to_be_reexecuted": true,
    "source_hash": "9aa08236",
    "tags": []
   },
   "outputs": [],
   "source": [
    "sns.scatterplot(\n",
    "    x=y,\n",
    "    y=x\n",
    ")\n",
    "\n",
    "fx_2 = np.array([y.min(), y.max()])\n",
    "fy_2 =  res_y_x.intercept + res_y_x.slope *  fx_2\n",
    "\n",
    "plt.plot(fx_2, fy_2)"
   ]
  },
  {
   "cell_type": "code",
   "execution_count": 0,
   "metadata": {
    "cell_id": "ea25c68b47854333a0df8f42e3f1c254",
    "deepnote_app_coordinates": {
     "h": 5,
     "w": 12,
     "x": 0,
     "y": 0
    },
    "deepnote_cell_type": "code",
    "deepnote_to_be_reexecuted": true,
    "source_hash": "770337fa",
    "tags": []
   },
   "outputs": [],
   "source": [
    "sns.scatterplot(\n",
    "    x=x,\n",
    "    y=y\n",
    ")\n",
    "\n",
    "plt.plot(fx_1, fy_1)\n",
    "plt.plot(fy_2, fx_2)"
   ]
  },
  {
   "cell_type": "markdown",
   "metadata": {
    "cell_id": "4d13fb7fa4514cf8937c7646fa6c9ad6",
    "deepnote_app_coordinates": {
     "h": 5,
     "w": 12,
     "x": 0,
     "y": 426
    },
    "deepnote_cell_type": "markdown",
    "tags": []
   },
   "source": [
    "## ¿Cuál es el rango intercuartílico?"
   ]
  },
  {
   "cell_type": "code",
   "execution_count": 0,
   "metadata": {
    "cell_id": "d8a56ad66be5424385f0861b95cc07ff",
    "deepnote_app_coordinates": {
     "h": 5,
     "w": 12,
     "x": 0,
     "y": 432
    },
    "deepnote_cell_type": "code",
    "deepnote_to_be_reexecuted": true,
    "execution_millis": 1726608915,
    "execution_start": 1681515354092,
    "output_cleared": false,
    "source_hash": "3f4e0103",
    "tags": []
   },
   "outputs": [],
   "source": [
    "processed_penguins_df.quantile(0.75)"
   ]
  },
  {
   "cell_type": "code",
   "execution_count": 0,
   "metadata": {
    "cell_id": "390eeedb36484725959a4762f8589ab8",
    "deepnote_app_coordinates": {
     "h": 5,
     "w": 12,
     "x": 0,
     "y": 438
    },
    "deepnote_cell_type": "code",
    "deepnote_to_be_reexecuted": true,
    "execution_millis": 1726569776,
    "execution_start": 1681515393231,
    "output_cleared": false,
    "source_hash": "abd55853",
    "tags": []
   },
   "outputs": [],
   "source": [
    "processed_penguins_df.quantile(0.75) - processed_penguins_df.quantile(0.25)"
   ]
  },
  {
   "cell_type": "code",
   "execution_count": 0,
   "metadata": {
    "cell_id": "296da083ffab44eaa07fc6580edb6a8e",
    "deepnote_app_coordinates": {
     "h": 5,
     "w": 12,
     "x": 0,
     "y": 444
    },
    "deepnote_cell_type": "code",
    "deepnote_to_be_reexecuted": true,
    "execution_millis": 1726373563,
    "execution_start": 1681515589460,
    "output_cleared": false,
    "source_hash": "e021abff",
    "tags": []
   },
   "outputs": [],
   "source": [
    "(\n",
    "    processed_penguins_df\n",
    "    .quantile(q=[0.75,0.50,0.25])\n",
    "    .transpose()\n",
    "    .rename_axis('variable')\n",
    "    .reset_index()\n",
    "    .assign(\n",
    "        iqr=lambda df: df[0.75] - df[0.25]\n",
    "    )\n",
    ")"
   ]
  },
  {
   "cell_type": "markdown",
   "metadata": {
    "cell_id": "06830bc8ba9d42c2bb143374fc651d65",
    "deepnote_app_coordinates": {
     "h": 5,
     "w": 12,
     "x": 0,
     "y": 450
    },
    "deepnote_cell_type": "markdown",
    "tags": []
   },
   "source": [
    "## ¿Cómo puedo visualizar la distribución de una variable?"
   ]
  },
  {
   "cell_type": "markdown",
   "metadata": {
    "cell_id": "f5473b86d97342849d44c89adb6af774",
    "deepnote_app_coordinates": {
     "h": 5,
     "w": 12,
     "x": 0,
     "y": 456
    },
    "deepnote_cell_type": "markdown",
    "tags": []
   },
   "source": [
    "### Histograma"
   ]
  },
  {
   "cell_type": "code",
   "execution_count": 0,
   "metadata": {
    "cell_id": "006b32e2d9904e169f1aaf82f6e4062c",
    "deepnote_app_coordinates": {
     "h": 5,
     "w": 12,
     "x": 0,
     "y": 462
    },
    "deepnote_cell_type": "code",
    "deepnote_to_be_reexecuted": true,
    "execution_millis": 1726006972,
    "execution_start": 1681515956062,
    "output_cleared": false,
    "owner_user_id": "bc32f83c-a807-4a78-8769-dff22df5fe36",
    "source_hash": "3e92a93b",
    "tags": []
   },
   "outputs": [],
   "source": [
    "sns.histplot(\n",
    "    data=processed_penguins_df,\n",
    "    x='flipper_length_mm'\n",
    ")\n",
    "\n",
    "plt.axvline(\n",
    "    x=processed_penguins_df.flipper_length_mm.mean(),\n",
    "    color='red',\n",
    "    linestyle='dashed',\n",
    "    linewidth=2\n",
    ")"
   ]
  },
  {
   "cell_type": "markdown",
   "metadata": {
    "cell_id": "26a5bba64d7643ab9e3ba6060344ad7a",
    "deepnote_app_coordinates": {
     "h": 5,
     "w": 12,
     "x": 0,
     "y": 468
    },
    "deepnote_cell_type": "markdown",
    "tags": []
   },
   "source": [
    "### Diagrama de caja / boxplot"
   ]
  },
  {
   "cell_type": "code",
   "execution_count": 0,
   "metadata": {
    "cell_id": "397e9f6bf89e4f0ba28066fba16dbb98",
    "deepnote_app_coordinates": {
     "h": 5,
     "w": 12,
     "x": 0,
     "y": 474
    },
    "deepnote_cell_type": "code",
    "deepnote_to_be_reexecuted": true,
    "execution_millis": 1725781849,
    "execution_start": 1681516181184,
    "output_cleared": false,
    "source_hash": "52b05c14",
    "tags": []
   },
   "outputs": [],
   "source": [
    "sns.boxplot(\n",
    "    data=processed_penguins_df,\n",
    "    x='flipper_length_mm'\n",
    ")"
   ]
  },
  {
   "cell_type": "markdown",
   "metadata": {
    "cell_id": "1fe0d8aa635f4d8394498d2cc8d07145",
    "deepnote_app_coordinates": {
     "h": 5,
     "w": 12,
     "x": 0,
     "y": 480
    },
    "deepnote_cell_type": "markdown",
    "tags": []
   },
   "source": [
    "### Limitaciones"
   ]
  },
  {
   "cell_type": "code",
   "execution_count": 0,
   "metadata": {
    "cell_id": "5d4af48f41de45e18e50e0c41fadcde4",
    "deepnote_app_coordinates": {
     "h": 5,
     "w": 12,
     "x": 0,
     "y": 486
    },
    "deepnote_cell_type": "code",
    "deepnote_to_be_reexecuted": true,
    "execution_millis": 29789284750,
    "execution_start": 1653452678284,
    "output_cleared": false,
    "source_hash": "be49812f",
    "tags": []
   },
   "outputs": [],
   "source": [
    "def freedman_diaconis_bindwidth(x: pd.Series) -> float:\n",
    "    \"\"\"Find optimal bindwidth using Freedman-Diaconis rule.\"\"\"\n",
    "\n",
    "    IQR = x.quantile(0.75) - x.quantile(0.25)\n",
    "    N = x.size\n",
    "\n",
    "    return 2 * IQR / N ** (1 / 3)"
   ]
  },
  {
   "cell_type": "code",
   "execution_count": 0,
   "metadata": {
    "cell_id": "a606f05b54284e308b80f4fee2cfaa62",
    "deepnote_app_coordinates": {
     "h": 5,
     "w": 12,
     "x": 0,
     "y": 492
    },
    "deepnote_cell_type": "code",
    "deepnote_to_be_reexecuted": true,
    "execution_millis": 29789284748,
    "execution_start": 1653452678286,
    "output_cleared": false,
    "source_hash": "b623e53d",
    "tags": []
   },
   "outputs": [],
   "source": []
  },
  {
   "cell_type": "markdown",
   "metadata": {
    "cell_id": "5e3cbc0df1214f3c9eeb8ce4e103238e",
    "deepnote_app_coordinates": {
     "h": 5,
     "w": 12,
     "x": 0,
     "y": 498
    },
    "deepnote_cell_type": "markdown",
    "deepnote_to_be_reexecuted": false,
    "execution_start": 1652922403499,
    "source_hash": "b623e53d",
    "tags": []
   },
   "source": [
    "# Distribuciones: PMFs, CDFs y PDFs"
   ]
  },
  {
   "cell_type": "markdown",
   "metadata": {
    "cell_id": "940c125937e342639dcf4798b76b25ae",
    "deepnote_app_coordinates": {
     "h": 5,
     "w": 12,
     "x": 0,
     "y": 504
    },
    "deepnote_cell_type": "markdown",
    "tags": []
   },
   "source": [
    "## Funciones de probabilidad de masas (PMFs)"
   ]
  },
  {
   "cell_type": "markdown",
   "metadata": {
    "cell_id": "1d18c3ff45df4f4da44a31ae84dbeaef",
    "deepnote_app_coordinates": {
     "h": 5,
     "w": 12,
     "x": 0,
     "y": 510
    },
    "deepnote_cell_type": "markdown",
    "tags": []
   },
   "source": [
    "### Utilizando `seaborn`"
   ]
  },
  {
   "cell_type": "code",
   "execution_count": 0,
   "metadata": {
    "cell_id": "7d9c1f41cc5e4f609eb4dc5c80755240",
    "deepnote_app_coordinates": {
     "h": 5,
     "w": 12,
     "x": 0,
     "y": 516
    },
    "deepnote_cell_type": "code",
    "deepnote_to_be_reexecuted": true,
    "execution_millis": 1724908019,
    "execution_start": 1681517055097,
    "output_cleared": false,
    "source_hash": "ddcdb455",
    "tags": []
   },
   "outputs": [],
   "source": [
    "sns.histplot(\n",
    "    data=processed_penguins_df,\n",
    "    x='flipper_length_mm',\n",
    "    binwidth=1,\n",
    "    stat='probability'\n",
    ")"
   ]
  },
  {
   "cell_type": "markdown",
   "metadata": {
    "cell_id": "51a0ea22a10a41f6bf006c6e277d16f1",
    "deepnote_app_coordinates": {
     "h": 5,
     "w": 12,
     "x": 0,
     "y": 522
    },
    "deepnote_cell_type": "markdown",
    "tags": []
   },
   "source": [
    "### Utilizando `empiricaldist`"
   ]
  },
  {
   "cell_type": "code",
   "execution_count": 0,
   "metadata": {
    "cell_id": "16a18d2388704a1ea633079227cd12e0",
    "deepnote_app_coordinates": {
     "h": 5,
     "w": 12,
     "x": 0,
     "y": 528
    },
    "deepnote_cell_type": "code",
    "deepnote_to_be_reexecuted": true,
    "execution_millis": 1724807817,
    "execution_start": 1681517155300,
    "output_cleared": false,
    "source_hash": "7c9abce4",
    "tags": []
   },
   "outputs": [],
   "source": [
    "pmf_flipper_length_mm = empiricaldist.Pmf.from_seq(\n",
    "    preprocess_penguins_df.flipper_length_mm,\n",
    "    normalize=True\n",
    ")"
   ]
  },
  {
   "cell_type": "code",
   "execution_count": 0,
   "metadata": {
    "cell_id": "9b9a5097bcc94d77992a0187c7a9b2ac",
    "deepnote_app_coordinates": {
     "h": 5,
     "w": 12,
     "x": 0,
     "y": 534
    },
    "deepnote_cell_type": "code",
    "deepnote_to_be_reexecuted": true,
    "execution_millis": 1724769773,
    "execution_start": 1681517193344,
    "output_cleared": false,
    "source_hash": "3cbfa074",
    "tags": []
   },
   "outputs": [],
   "source": [
    "pmf_flipper_length_mm.bar()"
   ]
  },
  {
   "cell_type": "code",
   "execution_count": 0,
   "metadata": {
    "cell_id": "07ca9e3005874c04a407bd2c5eba5831",
    "deepnote_app_coordinates": {
     "h": 5,
     "w": 12,
     "x": 0,
     "y": 540
    },
    "deepnote_cell_type": "code",
    "deepnote_to_be_reexecuted": true,
    "execution_millis": 29789284805,
    "execution_start": 1653452678319,
    "output_cleared": false,
    "source_hash": "b623e53d",
    "tags": []
   },
   "outputs": [],
   "source": []
  },
  {
   "cell_type": "code",
   "execution_count": 0,
   "metadata": {
    "cell_id": "0fd42de9e02d4f6eb96ec3674ee6e52a",
    "deepnote_app_coordinates": {
     "h": 5,
     "w": 12,
     "x": 0,
     "y": 546
    },
    "deepnote_cell_type": "code",
    "deepnote_to_be_reexecuted": true,
    "execution_millis": 29789284807,
    "execution_start": 1653452678319,
    "output_cleared": false,
    "source_hash": "b623e53d",
    "tags": []
   },
   "outputs": [],
   "source": []
  },
  {
   "cell_type": "markdown",
   "metadata": {
    "cell_id": "469df0f288914efb801e739ba51b239a",
    "deepnote_app_coordinates": {
     "h": 5,
     "w": 12,
     "x": 0,
     "y": 552
    },
    "deepnote_cell_type": "markdown",
    "tags": []
   },
   "source": [
    "## Funciones empirícas de probabilidad acumulada (ECDFs)"
   ]
  },
  {
   "cell_type": "markdown",
   "metadata": {
    "cell_id": "ea053bdee3eb478d8f91599da3d4d40a",
    "deepnote_app_coordinates": {
     "h": 5,
     "w": 12,
     "x": 0,
     "y": 558
    },
    "deepnote_cell_type": "markdown",
    "tags": []
   },
   "source": [
    "### Utilizando `seaborn`"
   ]
  },
  {
   "cell_type": "code",
   "execution_count": 0,
   "metadata": {
    "cell_id": "2eeee4b5d0054a22a1f9d9f7edfc259a",
    "deepnote_app_coordinates": {
     "h": 5,
     "w": 12,
     "x": 0,
     "y": 564
    },
    "deepnote_cell_type": "code",
    "deepnote_to_be_reexecuted": true,
    "execution_millis": 1724607878,
    "execution_start": 1681517355255,
    "output_cleared": false,
    "source_hash": "ea7e9c2a",
    "tags": []
   },
   "outputs": [],
   "source": [
    "sns.ecdfplot(\n",
    "    data=preprocess_penguins_df,\n",
    "    x='flipper_length_mm'\n",
    ")"
   ]
  },
  {
   "cell_type": "markdown",
   "metadata": {
    "cell_id": "2950a24e1e0c47178d62df2dae2a17df",
    "deepnote_app_coordinates": {
     "h": 5,
     "w": 12,
     "x": 0,
     "y": 570
    },
    "deepnote_cell_type": "markdown",
    "tags": []
   },
   "source": [
    "### Utilizando `empiricaldist`"
   ]
  },
  {
   "cell_type": "code",
   "execution_count": 0,
   "metadata": {
    "cell_id": "c53b12afd28c4a228240be22d4ba3bd1",
    "deepnote_app_coordinates": {
     "h": 5,
     "w": 12,
     "x": 0,
     "y": 576
    },
    "deepnote_cell_type": "code",
    "deepnote_to_be_reexecuted": true,
    "execution_millis": 1724391701,
    "execution_start": 1681517571433,
    "output_cleared": false,
    "source_hash": "dc5acea3",
    "tags": []
   },
   "outputs": [],
   "source": [
    "cdf_flipper_length_mm = empiricaldist.Cdf.from_seq(\n",
    "    processed_penguins_df.flipper_length_mm,\n",
    "    normalize=True\n",
    ")"
   ]
  },
  {
   "cell_type": "code",
   "execution_count": 0,
   "metadata": {
    "cell_id": "4974371a31d6463f8a041a00256d2d99",
    "deepnote_app_coordinates": {
     "h": 5,
     "w": 12,
     "x": 0,
     "y": 588
    },
    "deepnote_cell_type": "code",
    "deepnote_to_be_reexecuted": true,
    "execution_millis": 1724297254,
    "execution_start": 1681517665880,
    "output_cleared": false,
    "source_hash": "10834c31",
    "tags": []
   },
   "outputs": [],
   "source": [
    "cdf_flipper_length_mm.plot(\n",
    ")\n",
    "\n",
    "q = 200\n",
    "p = cdf_flipper_length_mm.forward(q)\n",
    "print(q,p)"
   ]
  },
  {
   "cell_type": "code",
   "execution_count": 0,
   "metadata": {
    "cell_id": "9b507f924abe416c91ad70d7694edd44",
    "deepnote_cell_type": "code",
    "deepnote_to_be_reexecuted": true,
    "execution_millis": 1724043448,
    "execution_start": 1681517919687,
    "source_hash": "c475d44b"
   },
   "outputs": [],
   "source": [
    "cdf_flipper_length_mm.plot()\n",
    "\n",
    "q = 200\n",
    "p = cdf_flipper_length_mm.forward(q)\n",
    "\n",
    "plt.vlines(\n",
    "    x=q,\n",
    "    ymin=0,\n",
    "    ymax=p,\n",
    "    color='black',\n",
    "    linestyle='dashed'\n",
    ")\n",
    "\n",
    "plt.hlines(\n",
    "    y=p,\n",
    "    xmin=pmf_flipper_length_mm.qs[0],\n",
    "    xmax=q,\n",
    "    color='black',\n",
    "    linestyle='dashed'\n",
    ")\n",
    "\n",
    "plt.plot(q,p, 'ro')"
   ]
  },
  {
   "cell_type": "code",
   "execution_count": 0,
   "metadata": {
    "cell_id": "597ad6e10a674ffeba71cbf05e83300f",
    "deepnote_cell_type": "code",
    "deepnote_to_be_reexecuted": true,
    "execution_millis": 1724009233,
    "execution_start": 1681517953916,
    "source_hash": "52e07826"
   },
   "outputs": [],
   "source": [
    "cdf_flipper_length_mm.step ( )\n",
    "p_1 = 8.25 # Specify probability\n",
    "P_2 = 8.75\n",
    "ps = ( 0.25 , 0.75 ) # IQR\n",
    "qs = cdf_flipper_length_mm.inverse(ps)\n",
    "plt.vlines (\n",
    "    x = qs,\n",
    "    ymin = 0,\n",
    "    ymax=ps,\n",
    "    color='black',\n",
    "    linestyle='dashed'\n",
    ")\n",
    "\n",
    "plt.hlines(\n",
    "   y=ps,\n",
    "   xmin=pmf_flipper_length_mm.qs[0],\n",
    "   xmax=qs,\n",
    "   color='black',\n",
    "   linestyle='dashed'\n",
    ")\n",
    "\n",
    "plt.scatter(\n",
    "   x=qs,\n",
    "   y=ps,\n",
    "   color='red',\n",
    "   zorder=2\n",
    ")"
   ]
  },
  {
   "cell_type": "markdown",
   "metadata": {
    "cell_id": "e03da39d163447c79d4b05f3531e9d51",
    "deepnote_app_coordinates": {
     "h": 5,
     "w": 12,
     "x": 0,
     "y": 594
    },
    "deepnote_cell_type": "markdown",
    "tags": []
   },
   "source": [
    "### Comparando distribuciones"
   ]
  },
  {
   "cell_type": "code",
   "execution_count": 0,
   "metadata": {
    "cell_id": "01c79337a76e4b9d87edca770f87eb6d",
    "deepnote_app_coordinates": {
     "h": 5,
     "w": 12,
     "x": 0,
     "y": 600
    },
    "deepnote_cell_type": "code",
    "deepnote_to_be_reexecuted": true,
    "execution_millis": 1723913925,
    "execution_start": 1681518049224,
    "output_cleared": false,
    "source_hash": "8c973303",
    "tags": []
   },
   "outputs": [],
   "source": [
    "sns.ecdfplot(\n",
    "    data=processed_penguins_df,\n",
    "    x='flipper_length_mm',\n",
    "    hue='species',\n",
    "    palette=penguin_color\n",
    ")"
   ]
  },
  {
   "cell_type": "markdown",
   "metadata": {
    "cell_id": "750e984eed40467cb0e185b9a93996fd",
    "deepnote_app_coordinates": {
     "h": 5,
     "w": 12,
     "x": 0,
     "y": 606
    },
    "deepnote_cell_type": "markdown",
    "tags": []
   },
   "source": [
    "## Funciones de densidad de probabilidad"
   ]
  },
  {
   "cell_type": "code",
   "execution_count": 0,
   "metadata": {
    "cell_id": "50ee10ab467048d7803d3f36a9fe6ad7",
    "deepnote_app_coordinates": {
     "h": 5,
     "w": 12,
     "x": 0,
     "y": 612
    },
    "deepnote_cell_type": "code",
    "deepnote_to_be_reexecuted": true,
    "execution_millis": 1723411718,
    "execution_start": 1681518551461,
    "output_cleared": false,
    "source_hash": "686950fc",
    "tags": []
   },
   "outputs": [],
   "source": [
    "sns.kdeplot(\n",
    "    data=processed_penguins_df,\n",
    "    x='flipper_length_mm',\n",
    "    bw_method=0.1\n",
    ")"
   ]
  },
  {
   "cell_type": "code",
   "execution_count": 0,
   "metadata": {
    "cell_id": "d193ccb634a34e6285d2c63febad78f5",
    "deepnote_app_coordinates": {
     "h": 5,
     "w": 12,
     "x": 0,
     "y": 618
    },
    "deepnote_cell_type": "code",
    "deepnote_to_be_reexecuted": true,
    "execution_millis": 1721734384,
    "execution_start": 1681520228805,
    "output_cleared": false,
    "source_hash": "8a61730c",
    "tags": []
   },
   "outputs": [],
   "source": [
    "stats = processed_penguins_df.body_mass_g.describe()\n",
    "stats"
   ]
  },
  {
   "cell_type": "code",
   "execution_count": 0,
   "metadata": {
    "cell_id": "63a2775d8aa643429c3c55d4c8761478",
    "deepnote_app_coordinates": {
     "h": 5,
     "w": 12,
     "x": 0,
     "y": 624
    },
    "deepnote_cell_type": "code",
    "deepnote_to_be_reexecuted": true,
    "execution_millis": 1721618693,
    "execution_start": 1681520344503,
    "output_cleared": false,
    "source_hash": "e84650db",
    "tags": []
   },
   "outputs": [],
   "source": [
    "xs = np.linspace(stats['min'], stats['max'])\n",
    "ys = scipy.stats.norm(stats['mean'],stats['std']).cdf(xs)\n",
    "\n",
    "plt.plot(xs, ys, color='black',linestyle='dashed')\n",
    "\n",
    "empiricaldist.Cdf.from_seq(\n",
    "    processed_penguins_df.body_mass_g,\n",
    "    normalize=True\n",
    ").plot()"
   ]
  },
  {
   "cell_type": "code",
   "execution_count": 0,
   "metadata": {
    "cell_id": "9b4d65085dab4aa680f2821bdd61bd8f",
    "deepnote_app_coordinates": {
     "h": 5,
     "w": 12,
     "x": 0,
     "y": 630
    },
    "deepnote_cell_type": "code",
    "deepnote_to_be_reexecuted": true,
    "execution_millis": 1721458640,
    "execution_start": 1681520504558,
    "output_cleared": false,
    "source_hash": "e43763d6",
    "tags": []
   },
   "outputs": [],
   "source": [
    "xs = np.linspace(stats['min'], stats['max'])\n",
    "ys = scipy.stats.norm(stats['mean'],stats['std']).pdf(xs)\n",
    "\n",
    "plt.plot(xs, ys, color='black',linestyle='dashed')\n",
    "\n",
    "sns.kdeplot(\n",
    "    data=processed_penguins_df,\n",
    "    x='body_mass_g'\n",
    ")"
   ]
  },
  {
   "cell_type": "markdown",
   "metadata": {
    "cell_id": "0577b117975e4c59a39f34244831fccd",
    "deepnote_app_coordinates": {
     "h": 5,
     "w": 12,
     "x": 0,
     "y": 636
    },
    "deepnote_cell_type": "markdown",
    "deepnote_to_be_reexecuted": false,
    "execution_millis": 9,
    "execution_start": 1652931450246,
    "source_hash": "b623e53d",
    "tags": []
   },
   "source": [
    "# Ley de los Grandes Números y Teorema del Límite Central"
   ]
  },
  {
   "cell_type": "markdown",
   "metadata": {
    "cell_id": "71817092991c46e6925f67a73448c2d9",
    "deepnote_app_coordinates": {
     "h": 5,
     "w": 12,
     "x": 0,
     "y": 642
    },
    "deepnote_cell_type": "markdown",
    "tags": []
   },
   "source": [
    "## Ley de los Grandes Números"
   ]
  },
  {
   "cell_type": "code",
   "execution_count": 0,
   "metadata": {
    "cell_id": "b955f7cc4ad149be900d6ccfb2fba895",
    "deepnote_app_coordinates": {
     "h": 5,
     "w": 12,
     "x": 0,
     "y": 648
    },
    "deepnote_cell_type": "code",
    "deepnote_to_be_reexecuted": true,
    "execution_millis": 1720959857,
    "execution_start": 1681521003350,
    "output_cleared": false,
    "source_hash": "c02cc2dc",
    "tags": []
   },
   "outputs": [],
   "source": [
    "dice = empiricaldist.Pmf.from_seq([1,2,3,4,5,6])\n",
    "dice.bar()"
   ]
  },
  {
   "cell_type": "code",
   "execution_count": 0,
   "metadata": {
    "cell_id": "87409fd73f4c4dfb814961435ecebc86",
    "deepnote_app_coordinates": {
     "h": 5,
     "w": 12,
     "x": 0,
     "y": 654
    },
    "deepnote_cell_type": "code",
    "deepnote_to_be_reexecuted": true,
    "execution_millis": 1720655561,
    "execution_start": 1681521307651,
    "output_cleared": false,
    "source_hash": "a596756c",
    "tags": []
   },
   "outputs": [],
   "source": [
    "for sample_size in (1e2, 1e3, 1e3):\n",
    "    sample_size = int(sample_size)\n",
    "    values = dice.sample(sample_size)\n",
    "    sample_pmf = empiricaldist.Pmf.from_seq(values)\n",
    "\n",
    "    plt.figure(figsize=(5,5))\n",
    "    sample_pmf.bar()\n",
    "    plt.axhline(y=1/6, color='red', linestyle='dashed')\n",
    "    plt.ylim([0,0.50])\n",
    "    plt.title(f\"Sample size: {sample_size}\")"
   ]
  },
  {
   "cell_type": "markdown",
   "metadata": {
    "cell_id": "293cdf2845bd459c8d81a7c4418eedfc",
    "deepnote_app_coordinates": {
     "h": 5,
     "w": 12,
     "x": 0,
     "y": 660
    },
    "deepnote_cell_type": "markdown",
    "tags": []
   },
   "source": [
    "## Teorema del Límite Central"
   ]
  },
  {
   "cell_type": "code",
   "execution_count": 0,
   "metadata": {
    "cell_id": "4b899d27557c40e4a8279f5872e29759",
    "deepnote_app_coordinates": {
     "h": 5,
     "w": 12,
     "x": 0,
     "y": 666
    },
    "deepnote_cell_type": "code",
    "deepnote_to_be_reexecuted": true,
    "execution_millis": 1720533667,
    "execution_start": 1681521429552,
    "output_cleared": false,
    "source_hash": "768450ab",
    "tags": []
   },
   "outputs": [],
   "source": [
    "processed_penguins_df.sex.value_counts(normalize=True)"
   ]
  },
  {
   "cell_type": "code",
   "execution_count": 0,
   "metadata": {
    "cell_id": "e501332b932a420ebcda36490d9093c7",
    "deepnote_app_coordinates": {
     "h": 5,
     "w": 12,
     "x": 0,
     "y": 672
    },
    "deepnote_cell_type": "code",
    "deepnote_to_be_reexecuted": true,
    "execution_millis": 1720408335,
    "execution_start": 1681521554891,
    "output_cleared": false,
    "source_hash": "53bf23b2",
    "tags": []
   },
   "outputs": [],
   "source": [
    "sex_numeric = processed_penguins_df.sex.replace(['male','female'], [1, 0])\n",
    "sex_numeric"
   ]
  },
  {
   "cell_type": "code",
   "execution_count": 0,
   "metadata": {
    "cell_id": "6c09716cde0b4107b7c3d2801b051aff",
    "deepnote_app_coordinates": {
     "h": 5,
     "w": 12,
     "x": 0,
     "y": 678
    },
    "deepnote_cell_type": "code",
    "deepnote_to_be_reexecuted": true,
    "execution_millis": 1720279444,
    "execution_start": 1681521683783,
    "output_cleared": false,
    "source_hash": "b8c0f555",
    "tags": []
   },
   "outputs": [],
   "source": [
    "number_samples = 1000\n",
    "sample_size = 35\n",
    "\n",
    "samples_df = pd.DataFrame()\n",
    "\n",
    "np.random.seed(42)\n",
    "for i in range(1, number_samples + 1):\n",
    "    sex_numeric_sample = sex_numeric.sample(sample_size, replace=True).to_numpy()\n",
    "    sample_name = f\"sample_{i}\"\n",
    "    samples_df[sample_name] = sex_numeric_sample\n",
    "\n",
    "\n",
    "male_population_mean = samples_df.mean().mean()\n",
    "print(f\"Estimated percentage of male penguins in population is: {male_population_mean * 100:.4f}%\")"
   ]
  },
  {
   "cell_type": "code",
   "execution_count": 0,
   "metadata": {
    "cell_id": "586aa07a834a4276a94be94904326fd0",
    "deepnote_app_coordinates": {
     "h": 5,
     "w": 12,
     "x": 0,
     "y": 684
    },
    "deepnote_cell_type": "code",
    "deepnote_to_be_reexecuted": true,
    "execution_millis": 1720176798,
    "execution_start": 1681521786483,
    "output_cleared": false,
    "source_hash": "bf682971",
    "tags": []
   },
   "outputs": [],
   "source": [
    "sample_means_binomial = pd.DataFrame(samples_df.mean(), columns=['sample_mean'])\n",
    "sns.kdeplot(data=sample_means_binomial)\n",
    "plt.axvline(x=sex_numeric.mean(), color='red', linestyle='dashed')"
   ]
  },
  {
   "cell_type": "code",
   "execution_count": 0,
   "metadata": {
    "cell_id": "3c9c880ff67345b48c42d38a87030a85",
    "deepnote_app_coordinates": {
     "h": 5,
     "w": 12,
     "x": 0,
     "y": 690
    },
    "deepnote_cell_type": "code",
    "deepnote_to_be_reexecuted": true,
    "execution_millis": 1720056609,
    "execution_start": 1681521906819,
    "output_cleared": false,
    "source_hash": "8f7f7127",
    "tags": []
   },
   "outputs": [],
   "source": [
    "sample_size_experiment = pd.DataFrame(\n",
    "    [[i, samples_df.iloc[:, 0:i].mean().mean().mean()] for i in range(1, number_samples + 1)],\n",
    "    columns=['sample_size', 'estimated_mean']\n",
    ")"
   ]
  },
  {
   "cell_type": "code",
   "execution_count": 0,
   "metadata": {
    "cell_id": "893d18a7a605423ba74db8c9c3083b20",
    "deepnote_app_coordinates": {
     "h": 5,
     "w": 12,
     "x": 0,
     "y": 696
    },
    "deepnote_cell_type": "code",
    "deepnote_to_be_reexecuted": true,
    "execution_millis": 1720001696,
    "execution_start": 1681521961732,
    "output_cleared": false,
    "source_hash": "6d763834",
    "tags": []
   },
   "outputs": [],
   "source": [
    "sns.scatterplot(\n",
    "    data=sample_size_experiment,\n",
    "    x='sample_size',\n",
    "    y='estimated_mean'\n",
    ")\n",
    "\n",
    "plt.axhline(\n",
    "    y=sex_numeric.mean(),\n",
    "    color='red',\n",
    "    linestyle='dashed'\n",
    ")\n",
    "\n",
    "plt.ylim([sex_numeric.mean() - 0.20, sex_numeric.mean() + 0.20])"
   ]
  },
  {
   "cell_type": "markdown",
   "metadata": {
    "cell_id": "0562a15dae60468985d964baa70f9dda",
    "deepnote_app_coordinates": {
     "h": 5,
     "w": 12,
     "x": 0,
     "y": 702
    },
    "deepnote_cell_type": "markdown",
    "tags": []
   },
   "source": [
    "# Estableciendo relaciones: Gráfica de puntos"
   ]
  },
  {
   "cell_type": "code",
   "execution_count": null,
   "metadata": {
    "cell_id": "db572c4a166144d2a65529b24ec0d92e",
    "deepnote_app_coordinates": {
     "h": 5,
     "w": 12,
     "x": 0,
     "y": 708
    },
    "deepnote_cell_type": "code",
    "deepnote_to_be_reexecuted": true,
    "execution_millis": 26,
    "execution_start": 1683242188361,
    "output_cleared": false,
    "source_hash": "4d759106",
    "tags": []
   },
   "outputs": [],
   "source": [
    "sns.scatterplot(\n",
    "    data=processed_penguins_df,\n",
    "    x='bill_length_mm',\n",
    "    y='bill_depth_mm',\n",
    "    alpha=1/2,\n",
    "    s=100\n",
    ")"
   ]
  },
  {
   "cell_type": "code",
   "execution_count": null,
   "metadata": {
    "cell_id": "3a6400a3fe4d45faa9e48fbf05f7bed3",
    "deepnote_app_coordinates": {
     "h": 5,
     "w": 12,
     "x": 0,
     "y": 714
    },
    "deepnote_cell_type": "code",
    "deepnote_to_be_reexecuted": true,
    "execution_millis": 338,
    "execution_start": 1683242294377,
    "output_cleared": false,
    "source_hash": "a801bff7",
    "tags": []
   },
   "outputs": [],
   "source": [
    "sns.displot(\n",
    "    data=processed_penguins_df,\n",
    "    x='bill_length_mm',\n",
    "    y='bill_depth_mm',\n",
    "    rug=True\n",
    ")"
   ]
  },
  {
   "cell_type": "code",
   "execution_count": null,
   "metadata": {
    "cell_id": "49356df6762b4ce68f984824c6e61c5e",
    "deepnote_app_coordinates": {
     "h": 5,
     "w": 12,
     "x": 0,
     "y": 720
    },
    "deepnote_cell_type": "code",
    "deepnote_to_be_reexecuted": true,
    "execution_millis": 601,
    "execution_start": 1683242387093,
    "output_cleared": false,
    "source_hash": "adafb906",
    "tags": []
   },
   "outputs": [],
   "source": [
    "sns.displot(\n",
    "    data=processed_penguins_df,\n",
    "    x='bill_length_mm',\n",
    "    y='bill_depth_mm',\n",
    "    rug=True,\n",
    "    kind='kde'\n",
    ")"
   ]
  },
  {
   "cell_type": "code",
   "execution_count": null,
   "metadata": {
    "cell_id": "76ee0efddbfe447d937e8a5ef3dd707c",
    "deepnote_app_coordinates": {
     "h": 5,
     "w": 12,
     "x": 0,
     "y": 726
    },
    "deepnote_cell_type": "code",
    "deepnote_to_be_reexecuted": true,
    "execution_millis": 359,
    "execution_start": 1683242428343,
    "output_cleared": false,
    "source_hash": "46d947a",
    "tags": []
   },
   "outputs": [],
   "source": [
    "sns.jointplot(\n",
    "    data=processed_penguins_df,\n",
    "    x='bill_length_mm',\n",
    "    y='bill_depth_mm'\n",
    ")"
   ]
  },
  {
   "cell_type": "code",
   "execution_count": null,
   "metadata": {
    "cell_id": "b7d3a1ca104948198517930665131fec",
    "deepnote_cell_type": "code",
    "deepnote_to_be_reexecuted": true,
    "execution_millis": 343,
    "execution_start": 1683242534275,
    "source_hash": "e557c517"
   },
   "outputs": [],
   "source": [
    "sns.jointplot(\n",
    "data=processed_penguins_df,\n",
    "x='bill_length_mm',\n",
    "y='bill_depth_mm',\n",
    "palette=penguin_color,\n",
    "hue='species'\n",
    ")"
   ]
  },
  {
   "cell_type": "markdown",
   "metadata": {
    "cell_id": "1ec696bebbf341efad61250e9871cfe7",
    "deepnote_app_coordinates": {
     "h": 5,
     "w": 12,
     "x": 0,
     "y": 732
    },
    "deepnote_cell_type": "markdown",
    "deepnote_to_be_reexecuted": false,
    "execution_millis": 0,
    "execution_start": 1652938459772,
    "source_hash": "b623e53d",
    "tags": []
   },
   "source": [
    "# Estableciendo relaciones: Gráficos de violín y boxplots"
   ]
  },
  {
   "cell_type": "code",
   "execution_count": 41,
   "metadata": {
    "cell_id": "bd763371547d4dfaaa1f5de37ee47db7",
    "deepnote_app_coordinates": {
     "h": 5,
     "w": 12,
     "x": 0,
     "y": 738
    },
    "deepnote_cell_type": "code",
    "deepnote_to_be_reexecuted": false,
    "execution_millis": 119,
    "execution_start": 1684976984320,
    "output_cleared": false,
    "source_hash": "50612466",
    "tags": []
   },
   "outputs": [
    {
     "data": {
      "text/plain": [
       "<AxesSubplot: xlabel='species', ylabel='flipper_length_mm'>"
      ]
     },
     "execution_count": 41,
     "metadata": {},
     "output_type": "execute_result"
    },
    {
     "data": {
      "image/png": "[encoded data removed]",
      "text/plain": [
       "<Figure size 1100x940 with 1 Axes>"
      ]
     },
     "metadata": {
      "image/png": {
       "height": 795,
       "width": 938
      }
     },
     "output_type": "display_data"
    }
   ],
   "source": [
    "sns.scatterplot(\n",
    "    data=processed_penguins_df,\n",
    "    x='species',\n",
    "    y='flipper_length_mm',\n",
    "    hue='species', #agrega un calor distinto por categoria\n",
    "    palette=penguin_color\n",
    ")"
   ]
  },
  {
   "cell_type": "code",
   "execution_count": 42,
   "metadata": {
    "cell_id": "656e67b95d2e44c88d52b4bb3ac481ea",
    "deepnote_app_coordinates": {
     "h": 5,
     "w": 12,
     "x": 0,
     "y": 744
    },
    "deepnote_cell_type": "code",
    "deepnote_to_be_reexecuted": false,
    "execution_millis": 118,
    "execution_start": 1684976986638,
    "output_cleared": false,
    "source_hash": "61dea5be",
    "tags": []
   },
   "outputs": [
    {
     "name": "stderr",
     "output_type": "stream",
     "text": [
      "/tmp/ipykernel_105/2702426507.py:1: FutureWarning: Passing `palette` without assigning `hue` is deprecated.\n",
      "  sns.stripplot(\n"
     ]
    },
    {
     "data": {
      "text/plain": [
       "<AxesSubplot: xlabel='species', ylabel='flipper_length_mm'>"
      ]
     },
     "execution_count": 42,
     "metadata": {},
     "output_type": "execute_result"
    },
    {
     "data": {
      "image/png": "[encoded data removed]",
      "text/plain": [
       "<Figure size 1100x940 with 1 Axes>"
      ]
     },
     "metadata": {
      "image/png": {
       "height": 795,
       "width": 938
      }
     },
     "output_type": "display_data"
    }
   ],
   "source": [
    "sns.stripplot(\n",
    "    data=processed_penguins_df,\n",
    "    x='species',\n",
    "    y='flipper_length_mm',    \n",
    "    palette=penguin_color\n",
    ")"
   ]
  },
  {
   "cell_type": "code",
   "execution_count": 43,
   "metadata": {
    "cell_id": "33101eb915034f4ca853fa50b6f75ba4",
    "deepnote_app_coordinates": {
     "h": 5,
     "w": 12,
     "x": 0,
     "y": 750
    },
    "deepnote_cell_type": "code",
    "deepnote_to_be_reexecuted": false,
    "execution_millis": 426,
    "execution_start": 1684976989316,
    "output_cleared": false,
    "source_hash": "799781",
    "tags": []
   },
   "outputs": [
    {
     "data": {
      "image/png": "[encoded data removed]",
      "text/plain": [
       "<Figure size 1100x940 with 1 Axes>"
      ]
     },
     "metadata": {
      "image/png": {
       "height": 795,
       "width": 938
      }
     },
     "output_type": "display_data"
    }
   ],
   "source": [
    "ax = sns.boxplot(\n",
    "    data=processed_penguins_df,\n",
    "    x='species',\n",
    "    y='flipper_length_mm',    \n",
    "    palette=penguin_color\n",
    ")\n",
    "ax = sns.stripplot(\n",
    "    data=processed_penguins_df,\n",
    "    x='species',\n",
    "    y='flipper_length_mm',\n",
    "    color='.3'\n",
    ")"
   ]
  },
  {
   "cell_type": "code",
   "execution_count": 39,
   "metadata": {
    "cell_id": "969334ce97554f9fa451cb20e3bdfe84",
    "deepnote_app_coordinates": {
     "h": 5,
     "w": 12,
     "x": 0,
     "y": 756
    },
    "deepnote_cell_type": "code",
    "deepnote_to_be_reexecuted": false,
    "execution_millis": 531,
    "execution_start": 1684976650234,
    "output_cleared": false,
    "source_hash": "4d99c086",
    "tags": []
   },
   "outputs": [
    {
     "name": "stderr",
     "output_type": "stream",
     "text": [
      "/tmp/ipykernel_105/468516054.py:8: FutureWarning: Passing `palette` without assigning `hue` is deprecated.\n",
      "  ax = sns.stripplot(\n"
     ]
    },
    {
     "data": {
      "image/png": "[encoded data removed]",
      "text/plain": [
       "<Figure size 1100x940 with 1 Axes>"
      ]
     },
     "metadata": {
      "image/png": {
       "height": 795,
       "width": 938
      }
     },
     "output_type": "display_data"
    }
   ],
   "source": [
    "ax = sns.violinplot(\n",
    "    data= processed_penguins_df,\n",
    "    x='species',\n",
    "    y='flipper_length_mm',\n",
    "    color='.8'\n",
    ")\n",
    "\n",
    "ax = sns.stripplot(\n",
    "    data=processed_penguins_df,\n",
    "    x='species',\n",
    "    y='flipper_length_mm',\n",
    "    palette=penguin_color\n",
    ")"
   ]
  },
  {
   "cell_type": "code",
   "execution_count": 40,
   "metadata": {
    "cell_id": "73b5173825404e8aa46fa928c6ff546e",
    "deepnote_app_coordinates": {
     "h": 5,
     "w": 12,
     "x": 0,
     "y": 762
    },
    "deepnote_cell_type": "code",
    "deepnote_to_be_reexecuted": false,
    "execution_millis": 418,
    "execution_start": 1684976658253,
    "output_cleared": false,
    "source_hash": "6a4abc24",
    "tags": []
   },
   "outputs": [
    {
     "data": {
      "text/plain": [
       "<AxesSubplot: xlabel='species', ylabel='flipper_length_mm'>"
      ]
     },
     "execution_count": 40,
     "metadata": {},
     "output_type": "execute_result"
    },
    {
     "data": {
      "image/png": "[encoded data removed]",
      "text/plain": [
       "<Figure size 1100x940 with 1 Axes>"
      ]
     },
     "metadata": {
      "image/png": {
       "height": 795,
       "width": 938
      }
     },
     "output_type": "display_data"
    }
   ],
   "source": [
    "sns.swarmplot(\n",
    "    data=processed_penguins_df,\n",
    "    x='species',\n",
    "    y='flipper_length_mm',\n",
    "    hue='species',\n",
    "    palette=penguin_color\n",
    ")"
   ]
  },
  {
   "cell_type": "markdown",
   "metadata": {
    "cell_id": "1d13e6de9d804b338560e98c6bbda1bd",
    "deepnote_app_coordinates": {
     "h": 5,
     "w": 12,
     "x": 0,
     "y": 768
    },
    "deepnote_cell_type": "markdown",
    "deepnote_to_be_reexecuted": false,
    "execution_start": 1652938459776,
    "source_hash": "b623e53d",
    "tags": []
   },
   "source": [
    "# Estableciendo relaciones: Matrices de correlación"
   ]
  },
  {
   "cell_type": "markdown",
   "metadata": {
    "cell_id": "20272c9a6c344c3ab92e2ff76433d2d1",
    "deepnote_app_coordinates": {
     "h": 5,
     "w": 12,
     "x": 0,
     "y": 774
    },
    "deepnote_cell_type": "markdown",
    "tags": []
   },
   "source": [
    "## ¿Existe una correlación lineal entre alguna de nuestras variables?"
   ]
  },
  {
   "cell_type": "code",
   "execution_count": null,
   "metadata": {
    "cell_id": "b9ea81d930084f81b24822c1fc667699",
    "deepnote_app_coordinates": {
     "h": 5,
     "w": 12,
     "x": 0,
     "y": 780
    },
    "deepnote_cell_type": "code",
    "deepnote_to_be_reexecuted": true,
    "execution_millis": 7,
    "execution_start": 1683243952320,
    "output_cleared": false,
    "source_hash": "cc0ae166",
    "tags": []
   },
   "outputs": [],
   "source": [
    "processed_penguins_df.corr()"
   ]
  },
  {
   "cell_type": "markdown",
   "metadata": {
    "cell_id": "96d644456fb14e5aa7eecaea813d0acd",
    "deepnote_app_coordinates": {
     "h": 5,
     "w": 12,
     "x": 0,
     "y": 786
    },
    "deepnote_cell_type": "markdown",
    "tags": []
   },
   "source": [
    "## ¿Cómo puedo visualizar los coeficientes de correlación?"
   ]
  },
  {
   "cell_type": "code",
   "execution_count": null,
   "metadata": {
    "cell_id": "a2df0c51478342f492deb96ddaa37f98",
    "deepnote_app_coordinates": {
     "h": 5,
     "w": 12,
     "x": 0,
     "y": 792
    },
    "deepnote_cell_type": "code",
    "deepnote_to_be_reexecuted": true,
    "execution_millis": 292,
    "execution_start": 1683244117991,
    "output_cleared": false,
    "source_hash": "f1002f03",
    "tags": []
   },
   "outputs": [],
   "source": [
    "sns.heatmap(\n",
    "    data=processed_penguins_df.corr(),\n",
    "    cmap=sns.diverging_palette(20,230, as_cmap=True),\n",
    "    center=0,\n",
    "    vmin=-1,\n",
    "    vmax=1,\n",
    "    linewidths=0.5,\n",
    "    annot=True\n",
    ")"
   ]
  },
  {
   "cell_type": "code",
   "execution_count": null,
   "metadata": {
    "cell_id": "04539a2652be4a7fa90c0853755b45f4",
    "deepnote_app_coordinates": {
     "h": 5,
     "w": 12,
     "x": 0,
     "y": 798
    },
    "deepnote_cell_type": "code",
    "deepnote_to_be_reexecuted": true,
    "execution_millis": 484,
    "execution_start": 1683244207326,
    "output_cleared": false,
    "source_hash": "ea414076",
    "tags": []
   },
   "outputs": [],
   "source": [
    "sns.clustermap(\n",
    "    data=processed_penguins_df.corr(),\n",
    "    cmap=sns.diverging_palette(20,230, as_cmap=True),\n",
    "    center=0,\n",
    "    vmin=-1,\n",
    "    vmax=1,\n",
    "    linewidths=0.5,\n",
    "    annot=True\n",
    ")"
   ]
  },
  {
   "cell_type": "markdown",
   "metadata": {
    "cell_id": "afa5be7a34ab41c787c8cc84ed9fc8d7",
    "deepnote_app_coordinates": {
     "h": 5,
     "w": 12,
     "x": 0,
     "y": 804
    },
    "deepnote_cell_type": "markdown",
    "tags": []
   },
   "source": [
    "## ¿Cómo podría representar una variable categórica como númerica discreta?"
   ]
  },
  {
   "cell_type": "code",
   "execution_count": null,
   "metadata": {
    "cell_id": "52ca8f3232e7420696a140cea627c354",
    "deepnote_app_coordinates": {
     "h": 5,
     "w": 12,
     "x": 0,
     "y": 810
    },
    "deepnote_cell_type": "code",
    "deepnote_to_be_reexecuted": true,
    "execution_millis": 4,
    "execution_start": 1683244343387,
    "output_cleared": false,
    "source_hash": "73a2b868",
    "tags": []
   },
   "outputs": [],
   "source": [
    "processed_penguins_df = (\n",
    "    processed_penguins_df\n",
    "    .assign(\n",
    "        numeric_sex=lambda df: df.sex.replace(['female','male'],[0,1])\n",
    "    )\n",
    ")"
   ]
  },
  {
   "cell_type": "code",
   "execution_count": null,
   "metadata": {
    "cell_id": "aacb217e08824967857fb323b8d76f69",
    "deepnote_app_coordinates": {
     "h": 5,
     "w": 12,
     "x": 0,
     "y": 816
    },
    "deepnote_cell_type": "code",
    "deepnote_to_be_reexecuted": true,
    "execution_millis": 405,
    "execution_start": 1683245078393,
    "output_cleared": false,
    "source_hash": "ea414076",
    "tags": []
   },
   "outputs": [],
   "source": [
    "sns.clustermap(\n",
    "    data=processed_penguins_df.corr(),\n",
    "    cmap=sns.diverging_palette(20,230, as_cmap=True),\n",
    "    center=0,\n",
    "    vmin=-1,\n",
    "    vmax=1,\n",
    "    linewidths=0.5,\n",
    "    annot=True\n",
    ")"
   ]
  },
  {
   "cell_type": "markdown",
   "metadata": {
    "cell_id": "a930f20422b24027940e1db8b18cbed3",
    "deepnote_app_coordinates": {
     "h": 5,
     "w": 12,
     "x": 0,
     "y": 822
    },
    "deepnote_cell_type": "markdown",
    "tags": []
   },
   "source": [
    "## ¿Cuál es una limitante de los coeficientes de correlación lineal?"
   ]
  },
  {
   "cell_type": "markdown",
   "metadata": {
    "cell_id": "0e1fe88d50264a73a4232908bf36ffff",
    "deepnote_app_coordinates": {
     "h": 5,
     "w": 12,
     "x": 0,
     "y": 828
    },
    "deepnote_cell_type": "markdown",
    "tags": []
   },
   "source": [
    "### Solo nos ayuda a determinar la posible existencia de una correlación lineal; sin embargo, su ausenecia no significa que no exista otro tipo de correlación"
   ]
  },
  {
   "cell_type": "code",
   "execution_count": 40,
   "metadata": {
    "cell_id": "829626fbca9242bc854100e6a68cf5d4",
    "deepnote_app_coordinates": {
     "h": 5,
     "w": 12,
     "x": 0,
     "y": 834
    },
    "deepnote_cell_type": "code",
    "deepnote_to_be_reexecuted": true,
    "execution_millis": 88,
    "execution_start": 1684892909649,
    "output_cleared": false,
    "source_hash": "4f281606",
    "tags": []
   },
   "outputs": [],
   "source": [
    "x = np.linspace(-100,100,100)\n",
    "y=x**2\n",
    "y += np.random.normal(0, 1000, x.size)\n",
    "\n",
    "sns.scatterplot(\n",
    "    x=x, y=y\n",
    ")\n",
    "\n",
    "np.corrcoef(x,y)"
   ]
  },
  {
   "cell_type": "code",
   "execution_count": 41,
   "metadata": {
    "cell_id": "bedefc41912e4075b80466d96caef4bf",
    "deepnote_app_coordinates": {
     "h": 5,
     "w": 12,
     "x": 0,
     "y": 840
    },
    "deepnote_cell_type": "code",
    "deepnote_to_be_reexecuted": true,
    "execution_millis": 45,
    "execution_start": 1684892946588,
    "output_cleared": false,
    "source_hash": "5a01d2fb",
    "tags": []
   },
   "outputs": [],
   "source": [
    "x = np.linspace(-100,100,100)\n",
    "y=x**3\n",
    "y += np.random.normal(0, 1000, x.size)\n",
    "\n",
    "sns.scatterplot(\n",
    "    x=x, y=y\n",
    ")\n",
    "\n",
    "np.corrcoef(x,y)"
   ]
  },
  {
   "cell_type": "code",
   "execution_count": 42,
   "metadata": {
    "cell_id": "1d8db90831af445d8bcbb8d972de925b",
    "deepnote_app_coordinates": {
     "h": 5,
     "w": 12,
     "x": 0,
     "y": 846
    },
    "deepnote_cell_type": "code",
    "deepnote_to_be_reexecuted": true,
    "execution_millis": 114,
    "execution_start": 1684893049706,
    "output_cleared": false,
    "source_hash": "8c591dc4",
    "tags": []
   },
   "outputs": [],
   "source": [
    "sns.scatterplot(\n",
    "    data=processed_penguins_df,\n",
    "    x='bill_length_mm',\n",
    "    y='bill_depth_mm'\n",
    ")"
   ]
  },
  {
   "cell_type": "markdown",
   "metadata": {
    "cell_id": "ed436659d0594da081982c1b39f86c52",
    "deepnote_app_coordinates": {
     "h": 5,
     "w": 12,
     "x": 0,
     "y": 852
    },
    "deepnote_cell_type": "markdown",
    "tags": []
   },
   "source": [
    "### El coeficiente de correlación no nos habla del impacto de la relación"
   ]
  },
  {
   "cell_type": "code",
   "execution_count": 43,
   "metadata": {
    "cell_id": "a18829c6ca9444e6a4742dadac539cf0",
    "deepnote_app_coordinates": {
     "h": 5,
     "w": 12,
     "x": 0,
     "y": 858
    },
    "deepnote_cell_type": "code",
    "deepnote_to_be_reexecuted": true,
    "execution_millis": 488,
    "execution_start": 1684893109621,
    "output_cleared": false,
    "source_hash": "92469dba",
    "tags": []
   },
   "outputs": [],
   "source": [
    "np.random.seed(42)\n",
    "x1 = np.linspace(0,100,100)\n",
    "y1 = 0.1* x1 +3 + np.random.uniform(-2,2,size=x1.size)\n",
    "\n",
    "sns.scatterplot(x=x1, y=y1)\n",
    "\n",
    "\n",
    "x2 = np.linspace(0,100,100)\n",
    "y2 = 0.5* x1 +1 + np.random.uniform(0,60,size=x2.size)\n",
    "\n",
    "sns.scatterplot(x=x2, y=y2)\n",
    "\n",
    "plt.legend([\"1\",\"2\"])\n",
    "\n",
    "print(np.corrcoef(x1,y1))\n",
    "print(np.corrcoef(x2,y2))"
   ]
  },
  {
   "cell_type": "markdown",
   "metadata": {
    "cell_id": "63a36c2ce44e421db8be619c634f2ec0",
    "deepnote_app_coordinates": {
     "h": 5,
     "w": 12,
     "x": 0,
     "y": 864
    },
    "deepnote_cell_type": "markdown",
    "deepnote_to_be_reexecuted": false,
    "execution_start": 1652938459838,
    "source_hash": "b623e53d",
    "tags": []
   },
   "source": [
    "# Estableciendo relaciones: Análisis de regresión simple"
   ]
  },
  {
   "cell_type": "code",
   "execution_count": 45,
   "metadata": {
    "cell_id": "31b64c85a0a44644bb88145fea74540c",
    "deepnote_app_coordinates": {
     "h": 5,
     "w": 12,
     "x": 0,
     "y": 870
    },
    "deepnote_cell_type": "code",
    "deepnote_to_be_reexecuted": true,
    "execution_millis": 2,
    "execution_start": 1684893488448,
    "output_cleared": false,
    "source_hash": "f231125c",
    "tags": []
   },
   "outputs": [],
   "source": [
    "res_1 = scipy.stats.linregress(x=x1, y=y1)\n",
    "res_2 = scipy.stats.linregress(x=x2, y=y2)\n",
    "\n",
    "print(res_1,res_2, sep='\\n')"
   ]
  },
  {
   "cell_type": "code",
   "execution_count": 47,
   "metadata": {
    "cell_id": "1251f0b68bcd4bcf84926f89abf3ca0e",
    "deepnote_app_coordinates": {
     "h": 5,
     "w": 12,
     "x": 0,
     "y": 876
    },
    "deepnote_cell_type": "code",
    "deepnote_to_be_reexecuted": true,
    "execution_millis": 187,
    "execution_start": 1684893639485,
    "output_cleared": false,
    "source_hash": "ecfb9e2e",
    "tags": []
   },
   "outputs": [],
   "source": [
    "sns.scatterplot(x=x1, y=y1)\n",
    "\n",
    "fx1 = np.array([x1.min(), x1.max()])\n",
    "fy1 = res_1.intercept + res_1.slope * fx1\n",
    "\n",
    "plt.plot(fx1, fy1)\n",
    "\n",
    "\n",
    "sns.scatterplot(x=x2, y=y2)\n",
    "\n",
    "fx2 = np.array([x2.min(), x2.max()])\n",
    "fy2 = res_2.intercept + res_2.slope * fx2\n",
    "\n",
    "plt.plot(fx2, fy2)\n",
    "\n",
    "plt.legend([\"1\", \"1\",\"2\",\"2\"])"
   ]
  },
  {
   "cell_type": "code",
   "execution_count": 50,
   "metadata": {
    "cell_id": "0206d08ab4ff46faab5a0644dff1d6d9",
    "deepnote_app_coordinates": {
     "h": 5,
     "w": 12,
     "x": 0,
     "y": 882
    },
    "deepnote_cell_type": "code",
    "deepnote_to_be_reexecuted": true,
    "execution_millis": 50,
    "execution_start": 1684893850282,
    "output_cleared": false,
    "source_hash": "bb320367",
    "tags": []
   },
   "outputs": [],
   "source": [
    "sns.scatterplot(\n",
    "    data=processed_penguins_df,\n",
    "    x='bill_length_mm',\n",
    "    y='bill_depth_mm'\n",
    ")\n",
    "\n",
    "res_penguins = scipy.stats.linregress(x=processed_penguins_df.bill_length_mm, y=processed_penguins_df.bill_depth_mm)\n",
    "\n",
    "print(res_penguins)\n",
    "\n",
    "fx1 = np.array([processed_penguins_df.bill_length_mm.min(), processed_penguins_df.bill_length_mm.max()])\n",
    "fy1 = res_penguins.intercept + res_penguins.slope * fx1\n",
    "\n",
    "plt.plot(fx1,fy1)"
   ]
  },
  {
   "cell_type": "code",
   "execution_count": 51,
   "metadata": {
    "cell_id": "a59f3fd01d5b4cc5a80ff8014067e7b4",
    "deepnote_app_coordinates": {
     "h": 5,
     "w": 12,
     "x": 0,
     "y": 888
    },
    "deepnote_cell_type": "code",
    "deepnote_to_be_reexecuted": true,
    "execution_millis": 579,
    "execution_start": 1684893974207,
    "output_cleared": false,
    "source_hash": "a89f2bda",
    "tags": []
   },
   "outputs": [],
   "source": [
    "sns.lmplot(\n",
    "    data=processed_penguins_df,\n",
    "    x='bill_length_mm',\n",
    "    y='bill_depth_mm'\n",
    ")"
   ]
  },
  {
   "cell_type": "markdown",
   "metadata": {
    "cell_id": "891529e1e80d4117aef86d3042eedb19",
    "deepnote_app_coordinates": {
     "h": 5,
     "w": 12,
     "x": 0,
     "y": 894
    },
    "deepnote_cell_type": "markdown",
    "deepnote_to_be_reexecuted": false,
    "execution_start": 1652938459881,
    "source_hash": "b623e53d",
    "tags": []
   },
   "source": [
    "# Limitaciones del análisis de regresión simple"
   ]
  },
  {
   "cell_type": "markdown",
   "metadata": {
    "cell_id": "be1d7c004e0344bebb29ae8302d6739b",
    "deepnote_app_coordinates": {
     "h": 5,
     "w": 12,
     "x": 0,
     "y": 900
    },
    "deepnote_cell_type": "markdown",
    "tags": []
   },
   "source": [
    "## La regresión lineal simple no es simétrica"
   ]
  },
  {
   "cell_type": "code",
   "execution_count": 52,
   "metadata": {
    "cell_id": "e3bad704d7584764bcf5b5ea3dbc2d18",
    "deepnote_app_coordinates": {
     "h": 5,
     "w": 12,
     "x": 0,
     "y": 906
    },
    "deepnote_cell_type": "code",
    "deepnote_to_be_reexecuted": true,
    "execution_millis": 2,
    "execution_start": 1684894453864,
    "output_cleared": false,
    "source_hash": "5070755f",
    "tags": []
   },
   "outputs": [],
   "source": [
    "x = processed_penguins_df.bill_length_mm\n",
    "y = processed_penguins_df.bill_depth_mm\n",
    "\n",
    "res_x_y = scipy.stats.linregress(x=x, y=y)\n",
    "res_y_x = scipy.stats.linregress(x=y, y=x)\n",
    "\n",
    "print(res_x_y, res_y_x, sep='\\n')"
   ]
  },
  {
   "cell_type": "code",
   "execution_count": 54,
   "metadata": {
    "cell_id": "26813a3bee07447799f603443867d734",
    "deepnote_app_coordinates": {
     "h": 5,
     "w": 12,
     "x": 0,
     "y": 912
    },
    "deepnote_cell_type": "code",
    "deepnote_to_be_reexecuted": true,
    "execution_millis": 395,
    "execution_start": 1684894624475,
    "output_cleared": false,
    "source_hash": "74ff4d99",
    "tags": []
   },
   "outputs": [],
   "source": [
    "sns.scatterplot(\n",
    "    x=x,\n",
    "    y=y\n",
    ")\n",
    "\n",
    "fx_1= np.array([x.min(), x.max()])\n",
    "fy_1= res_x_y.intercept + res_x_y.slope * fx_1\n",
    "\n",
    "plt.plot(fx_1, fy_1);"
   ]
  },
  {
   "cell_type": "code",
   "execution_count": 55,
   "metadata": {
    "cell_id": "ec59e16bb0c248e3a377e15afcb5e49a",
    "deepnote_app_coordinates": {
     "h": 5,
     "w": 12,
     "x": 0,
     "y": 918
    },
    "deepnote_cell_type": "code",
    "deepnote_to_be_reexecuted": true,
    "execution_millis": 427,
    "execution_start": 1684894640516,
    "output_cleared": false,
    "source_hash": "c1b43425",
    "tags": []
   },
   "outputs": [],
   "source": [
    "sns.scatterplot(\n",
    "    x=y,\n",
    "    y=x\n",
    ")\n",
    "\n",
    "fx_2= np.array([y.min(), y.max()])\n",
    "fy_2= res_y_x.intercept + res_y_x.slope * fx_2\n",
    "\n",
    "plt.plot(fx_2, fy_2);"
   ]
  },
  {
   "cell_type": "code",
   "execution_count": 56,
   "metadata": {
    "cell_id": "3086d29cf53c45bfb124b4b5cfa4f5d8",
    "deepnote_cell_type": "code",
    "deepnote_to_be_reexecuted": true,
    "execution_millis": 359,
    "execution_start": 1684894666792,
    "source_hash": "cadfb4ad"
   },
   "outputs": [],
   "source": [
    "sns.scatterplot(\n",
    "    x=x,\n",
    "    y=y\n",
    ")\n",
    "plt.plot(fx_1, fy_1)\n",
    "plt.plot(fy_2, fx_2);"
   ]
  },
  {
   "cell_type": "markdown",
   "metadata": {
    "cell_id": "db40cc57218d43d4ae5ad3d974578aea",
    "deepnote_app_coordinates": {
     "h": 5,
     "w": 12,
     "x": 0,
     "y": 924
    },
    "deepnote_cell_type": "markdown",
    "tags": []
   },
   "source": [
    "## La regresión no nos dice nada sobre la causalidad, pero existen herramientas para separar las relaciones entre múltiples variables"
   ]
  },
  {
   "cell_type": "code",
   "execution_count": 57,
   "metadata": {
    "cell_id": "920e20707f1047b5bfa0e2f582c6dec1",
    "deepnote_app_coordinates": {
     "h": 5,
     "w": 12,
     "x": 0,
     "y": 936
    },
    "deepnote_cell_type": "code",
    "deepnote_to_be_reexecuted": true,
    "execution_millis": 11,
    "execution_start": 1684894736046,
    "output_cleared": false,
    "source_hash": "68c3b573",
    "tags": []
   },
   "outputs": [],
   "source": [
    "(\n",
    "    smf.ols(\n",
    "        formula='bill_length_mm ~ bill_depth_mm',\n",
    "        data= processed_penguins_df\n",
    "    )\n",
    "    .fit()\n",
    "    .params\n",
    ")"
   ]
  },
  {
   "cell_type": "code",
   "execution_count": 58,
   "metadata": {
    "cell_id": "10d33dd5b207481793bcfb94b65cbfd5",
    "deepnote_app_coordinates": {
     "h": 5,
     "w": 12,
     "x": 0,
     "y": 942
    },
    "deepnote_cell_type": "code",
    "deepnote_to_be_reexecuted": true,
    "execution_millis": 13,
    "execution_start": 1684894758376,
    "output_cleared": false,
    "source_hash": "ca5a7bc5",
    "tags": []
   },
   "outputs": [],
   "source": [
    "(\n",
    "    smf.ols(\n",
    "        formula='bill_depth_mm ~ bill_length_mm',\n",
    "        data= processed_penguins_df\n",
    "    )\n",
    "    .fit()\n",
    "    .params\n",
    ")"
   ]
  },
  {
   "cell_type": "markdown",
   "metadata": {
    "cell_id": "f63245c7361c48089a5a0695ef43b6e2",
    "deepnote_app_coordinates": {
     "h": 5,
     "w": 12,
     "x": 0,
     "y": 948
    },
    "deepnote_cell_type": "markdown",
    "deepnote_to_be_reexecuted": false,
    "execution_start": 1652938459894,
    "source_hash": "b623e53d",
    "tags": []
   },
   "source": [
    "# Análisis de regresión múltiple"
   ]
  },
  {
   "cell_type": "markdown",
   "metadata": {
    "cell_id": "2df848539ee24aa88cdc5f8b4d903f8f",
    "deepnote_app_coordinates": {
     "h": 5,
     "w": 12,
     "x": 0,
     "y": 954
    },
    "deepnote_cell_type": "markdown",
    "tags": []
   },
   "source": [
    "## Olvidé mi báscula para pesar a los pingüinos, ¿cuál sería la mejor forma de capturar ese dato?"
   ]
  },
  {
   "cell_type": "markdown",
   "metadata": {
    "cell_id": "c69a5b59b37943dbab4320247cd952f1",
    "deepnote_app_coordinates": {
     "h": 5,
     "w": 12,
     "x": 0,
     "y": 960
    },
    "deepnote_cell_type": "markdown",
    "tags": []
   },
   "source": [
    "### Creando modelos"
   ]
  },
  {
   "cell_type": "markdown",
   "metadata": {
    "cell_id": "1e500738d3f142a5b62537d619d86e7d",
    "deepnote_app_coordinates": {
     "h": 3,
     "w": 12,
     "x": 0,
     "y": 1116
    },
    "deepnote_cell_type": "markdown",
    "tags": []
   },
   "source": [
    "#### Modelo 1"
   ]
  },
  {
   "cell_type": "code",
   "execution_count": 59,
   "metadata": {
    "cell_id": "f01a16b84ffe4c4083dd884d1e24aed4",
    "deepnote_app_coordinates": {
     "h": 5,
     "w": 12,
     "x": 0,
     "y": 966
    },
    "deepnote_cell_type": "code",
    "deepnote_to_be_reexecuted": true,
    "execution_millis": 26,
    "execution_start": 1684895078752,
    "output_cleared": false,
    "source_hash": "4f80d01c",
    "tags": []
   },
   "outputs": [],
   "source": [
    "model_1 = (\n",
    "    smf.ols(\n",
    "        formula='body_mass_g ~ bill_length_mm',\n",
    "        data=processed_penguins_df\n",
    "    )\n",
    "    .fit()\n",
    ")\n",
    "\n",
    "model_1.summary()"
   ]
  },
  {
   "cell_type": "markdown",
   "metadata": {
    "cell_id": "35c00d5889d443948bcd916eecab242a",
    "deepnote_app_coordinates": {
     "h": 3,
     "w": 12,
     "x": 0,
     "y": 1120
    },
    "deepnote_cell_type": "markdown",
    "tags": []
   },
   "source": [
    "#### Modelo 2"
   ]
  },
  {
   "cell_type": "code",
   "execution_count": 60,
   "metadata": {
    "cell_id": "b485c5d459ca4bc6a4e388c5ca72f46d",
    "deepnote_app_coordinates": {
     "h": 5,
     "w": 12,
     "x": 0,
     "y": 978
    },
    "deepnote_cell_type": "code",
    "deepnote_to_be_reexecuted": true,
    "execution_millis": 11,
    "execution_start": 1684895131363,
    "output_cleared": false,
    "source_hash": "fbaf1696",
    "tags": []
   },
   "outputs": [],
   "source": [
    "model_2 = (\n",
    "    smf.ols(\n",
    "        formula='body_mass_g ~ bill_length_mm + bill_depth_mm',\n",
    "        data=processed_penguins_df\n",
    "    )\n",
    "    .fit()\n",
    ")\n",
    "\n",
    "model_2.summary()"
   ]
  },
  {
   "cell_type": "markdown",
   "metadata": {
    "cell_id": "0f5f783d69b44bc69de39b5d14394cd1",
    "deepnote_app_coordinates": {
     "h": 3,
     "w": 12,
     "x": 0,
     "y": 1124
    },
    "deepnote_cell_type": "markdown",
    "tags": []
   },
   "source": [
    "#### Modelo 3"
   ]
  },
  {
   "cell_type": "code",
   "execution_count": 61,
   "metadata": {
    "cell_id": "a54769d5111f4cb2a7536008c7f96ea9",
    "deepnote_app_coordinates": {
     "h": 5,
     "w": 12,
     "x": 0,
     "y": 984
    },
    "deepnote_cell_type": "code",
    "deepnote_to_be_reexecuted": true,
    "execution_millis": 19,
    "execution_start": 1684895202213,
    "output_cleared": false,
    "source_hash": "226fbc22",
    "tags": []
   },
   "outputs": [],
   "source": [
    "model_3 = (\n",
    "    smf.ols(\n",
    "        formula='body_mass_g ~ bill_length_mm + bill_depth_mm + flipper_length_mm',\n",
    "        data=processed_penguins_df\n",
    "    )\n",
    "    .fit()\n",
    ")\n",
    "\n",
    "model_3.summary()"
   ]
  },
  {
   "cell_type": "markdown",
   "metadata": {
    "cell_id": "d2faf4004b5843cabff515d0d785a492",
    "deepnote_app_coordinates": {
     "h": 3,
     "w": 12,
     "x": 0,
     "y": 1128
    },
    "deepnote_cell_type": "markdown",
    "tags": []
   },
   "source": [
    "#### Modelo 4"
   ]
  },
  {
   "cell_type": "code",
   "execution_count": 62,
   "metadata": {
    "cell_id": "fcb8599bfd3845078215f13714793e1c",
    "deepnote_app_coordinates": {
     "h": 4,
     "w": 12,
     "x": 0,
     "y": 1132
    },
    "deepnote_cell_type": "code",
    "deepnote_to_be_reexecuted": true,
    "execution_millis": 16,
    "execution_start": 1684895298250,
    "output_cleared": false,
    "source_hash": "57a0dde7",
    "tags": []
   },
   "outputs": [],
   "source": [
    "model_4 = (\n",
    "    smf.ols(\n",
    "        formula='body_mass_g ~ bill_length_mm + bill_depth_mm + flipper_length_mm + C(sex)',\n",
    "        data=processed_penguins_df\n",
    "    )\n",
    "    .fit()\n",
    ")\n",
    "\n",
    "model_4.summary()"
   ]
  },
  {
   "cell_type": "markdown",
   "metadata": {
    "cell_id": "cc943b1bbd05458b95eb1182699b0110",
    "deepnote_app_coordinates": {
     "h": 5,
     "w": 12,
     "x": 0,
     "y": 990
    },
    "deepnote_cell_type": "markdown",
    "deepnote_to_be_reexecuted": true,
    "execution_millis": 4,
    "execution_start": 1653442105735,
    "output_cleared": true,
    "source_hash": "7d871f93",
    "tags": []
   },
   "source": [
    "#### Modelo 5"
   ]
  },
  {
   "cell_type": "code",
   "execution_count": 65,
   "metadata": {
    "cell_id": "d9244753da7e4b9888264eb690454dfd",
    "deepnote_app_coordinates": {
     "h": 4,
     "w": 12,
     "x": 0,
     "y": 1137
    },
    "deepnote_cell_type": "code",
    "deepnote_to_be_reexecuted": true,
    "execution_millis": 17,
    "execution_start": 1684895473053,
    "output_cleared": false,
    "source_hash": "4c16ca38",
    "tags": []
   },
   "outputs": [],
   "source": [
    "model_5 = (\n",
    "    smf.ols(\n",
    "        formula='body_mass_g ~ flipper_length_mm + C(sex)',\n",
    "        data=processed_penguins_df\n",
    "    )\n",
    "    .fit()\n",
    ")\n",
    "\n",
    "model_5.summary()"
   ]
  },
  {
   "cell_type": "markdown",
   "metadata": {
    "cell_id": "f2fcd7f921304065a334f5f9b7d5e3eb",
    "deepnote_app_coordinates": {
     "h": 5,
     "w": 12,
     "x": 0,
     "y": 996
    },
    "deepnote_cell_type": "markdown",
    "tags": []
   },
   "source": [
    "### Visualizando resultados"
   ]
  },
  {
   "cell_type": "markdown",
   "metadata": {
    "cell_id": "216191959e8e488f94f0d0cc4f966cec",
    "deepnote_app_coordinates": {
     "h": 3,
     "w": 12,
     "x": 0,
     "y": 1146
    },
    "deepnote_cell_type": "markdown",
    "tags": []
   },
   "source": [
    "#### Creación de tabla de resultados"
   ]
  },
  {
   "cell_type": "code",
   "execution_count": 66,
   "metadata": {
    "cell_id": "889c30b9036e4ae5aab7b02804df58ce",
    "deepnote_app_coordinates": {
     "h": 5,
     "w": 12,
     "x": 0,
     "y": 1002
    },
    "deepnote_cell_type": "code",
    "deepnote_to_be_reexecuted": true,
    "execution_millis": 58,
    "execution_start": 1684895754398,
    "output_cleared": false,
    "source_hash": "2a9b1739",
    "tags": []
   },
   "outputs": [],
   "source": [
    "models_result = pd.DataFrame(\n",
    "    dict(\n",
    "        actual_value = processed_penguins_df.body_mass_g,\n",
    "        prediction_model_1 = model_1.predict(),\n",
    "        prediction_model_2 = model_2.predict(),\n",
    "        prediction_model_3 = model_3.predict(),\n",
    "        prediction_model_4 = model_4.predict(),\n",
    "        prediction_model_5 = model_5.predict(),\n",
    "        species=processed_penguins_df.species,\n",
    "        sex=processed_penguins_df.sex\n",
    "    )\n",
    ")\n",
    "\n",
    "models_result "
   ]
  },
  {
   "cell_type": "markdown",
   "metadata": {
    "cell_id": "eb97f3ae18dc4f1f8480bd0627c41aae",
    "deepnote_app_coordinates": {
     "h": 3,
     "w": 12,
     "x": 0,
     "y": 1142
    },
    "deepnote_cell_type": "markdown",
    "tags": []
   },
   "source": [
    "#### ECDFs"
   ]
  },
  {
   "cell_type": "code",
   "execution_count": 67,
   "metadata": {
    "cell_id": "b5f6e4f28d89421e8eadc9dc0849dd7d",
    "deepnote_app_coordinates": {
     "h": 5,
     "w": 12,
     "x": 0,
     "y": 1008
    },
    "deepnote_cell_type": "code",
    "deepnote_to_be_reexecuted": true,
    "execution_millis": 103,
    "execution_start": 1684895896229,
    "output_cleared": false,
    "source_hash": "4570a680",
    "tags": []
   },
   "outputs": [],
   "source": [
    "sns.ecdfplot(\n",
    "    data=models_result\n",
    ")"
   ]
  },
  {
   "cell_type": "markdown",
   "metadata": {
    "cell_id": "973c98ecae59459598f1cbc8d4d1a148",
    "deepnote_app_coordinates": {
     "h": 3,
     "w": 12,
     "x": 0,
     "y": 1150
    },
    "deepnote_cell_type": "markdown",
    "tags": []
   },
   "source": [
    "#### PDFs"
   ]
  },
  {
   "cell_type": "code",
   "execution_count": 69,
   "metadata": {
    "cell_id": "15e0e979c3b94d348951b8a29fd4cafe",
    "deepnote_app_coordinates": {
     "h": 5,
     "w": 12,
     "x": 0,
     "y": 1014
    },
    "deepnote_cell_type": "code",
    "deepnote_to_be_reexecuted": true,
    "execution_millis": 417,
    "execution_start": 1684896097242,
    "output_cleared": false,
    "source_hash": "e2f40337",
    "tags": []
   },
   "outputs": [],
   "source": [
    "sns.kdeplot(\n",
    "    data=models_result,\n",
    "    cumulative=True\n",
    ")"
   ]
  },
  {
   "cell_type": "markdown",
   "metadata": {
    "cell_id": "57ab50a273ad476eba860ebb96185f3d",
    "deepnote_app_coordinates": {
     "h": 3,
     "w": 12,
     "x": 0,
     "y": 1154
    },
    "deepnote_cell_type": "markdown",
    "tags": []
   },
   "source": [
    "#### ¿Qué pudimos haber encontrado antes de hacer los modelos?"
   ]
  },
  {
   "cell_type": "code",
   "execution_count": 72,
   "metadata": {
    "cell_id": "e2b401bd45914ceda29d796c8d38ddf1",
    "deepnote_app_coordinates": {
     "h": 5,
     "w": 12,
     "x": 0,
     "y": 1020
    },
    "deepnote_cell_type": "code",
    "deepnote_to_be_reexecuted": true,
    "execution_millis": 864,
    "execution_start": 1684896233555,
    "output_cleared": false,
    "source_hash": "8a39daa9",
    "tags": []
   },
   "outputs": [],
   "source": [
    "sns.lmplot(\n",
    "    data=processed_penguins_df,\n",
    "    x='flipper_length_mm',\n",
    "    y='body_mass_g',\n",
    "    hue='sex',\n",
    "    height=7\n",
    ")"
   ]
  },
  {
   "cell_type": "markdown",
   "metadata": {
    "cell_id": "c66dfc59a8754faa8455bce1dfd0ba8e",
    "deepnote_app_coordinates": {
     "h": 5,
     "w": 12,
     "x": 0,
     "y": 1026
    },
    "deepnote_cell_type": "markdown",
    "deepnote_to_be_reexecuted": false,
    "execution_start": 1652938459930,
    "source_hash": "b623e53d",
    "tags": []
   },
   "source": [
    "# Análisis de regresión logística"
   ]
  },
  {
   "cell_type": "markdown",
   "metadata": {
    "cell_id": "8a8d4827d92d40018f82f08e793e4d09",
    "deepnote_app_coordinates": {
     "h": 6,
     "w": 12,
     "x": 0,
     "y": 1158
    },
    "deepnote_cell_type": "markdown",
    "tags": []
   },
   "source": [
    "## ¿Podemos crear un modelo que nos ayude a definir si un pingüino es macho o hembra?"
   ]
  },
  {
   "cell_type": "code",
   "execution_count": 77,
   "metadata": {
    "cell_id": "e64702ea624c406d9cfa3c7716174301",
    "deepnote_cell_type": "code",
    "deepnote_to_be_reexecuted": true,
    "execution_millis": 2,
    "execution_start": 1684896795389,
    "source_hash": "7265beb6"
   },
   "outputs": [],
   "source": [
    "pre_penguin_df = (\n",
    "    pre_penguin_df\n",
    "    .assign(\n",
    "        numeric_sex=lambda df: df.sex.replace(['female','male'],[0,1])\n",
    "    )\n",
    ")"
   ]
  },
  {
   "cell_type": "code",
   "execution_count": 76,
   "metadata": {
    "cell_id": "0c339e651ac54e409a98e34b75512a7e",
    "deepnote_app_coordinates": {
     "h": 5,
     "w": 12,
     "x": 0,
     "y": 1038
    },
    "deepnote_cell_type": "code",
    "deepnote_to_be_reexecuted": true,
    "execution_millis": 158,
    "execution_start": 1684896716398,
    "output_cleared": false,
    "source_hash": "cbc3a43a",
    "tags": []
   },
   "outputs": [],
   "source": [
    "smf.logit(\n",
    "    formula='numeric_sex ~ flipper_length_mm + bill_length_mm + bill_depth_mm + C(island)',\n",
    "    data=processed_penguins_df\n",
    ").fit().summary()"
   ]
  },
  {
   "cell_type": "markdown",
   "metadata": {
    "cell_id": "7bc3f8a0e465476fbb2a1ac1cb2ac40e",
    "deepnote_app_coordinates": {
     "h": 5,
     "w": 12,
     "x": 0,
     "y": 1165
    },
    "deepnote_cell_type": "markdown",
    "tags": []
   },
   "source": [
    "## Exploración de nuestras variables categóricas"
   ]
  },
  {
   "cell_type": "code",
   "execution_count": 0,
   "metadata": {
    "cell_id": "b7baf0edd41947b6a3513e255ccf3218",
    "deepnote_app_coordinates": {
     "h": 5,
     "w": 12,
     "x": 0,
     "y": 1044
    },
    "deepnote_cell_type": "code",
    "deepnote_table_loading": false,
    "deepnote_table_state": {
     "filters": [],
     "pageIndex": 0,
     "pageSize": 10,
     "sortBy": []
    },
    "deepnote_to_be_reexecuted": true,
    "execution_millis": 29789285088,
    "execution_start": 1653452678686,
    "output_cleared": false,
    "source_hash": "b623e53d",
    "tags": []
   },
   "outputs": [],
   "source": []
  },
  {
   "cell_type": "markdown",
   "metadata": {
    "cell_id": "ecc180047d3b4bf4809669df5109dada",
    "deepnote_app_coordinates": {
     "h": 6,
     "w": 12,
     "x": 0,
     "y": 1171
    },
    "deepnote_cell_type": "markdown",
    "tags": []
   },
   "source": [
    "## ¿Podemos definir un modelo que nos ayude a identificar si un pingüino pertenece a determinada clase?"
   ]
  },
  {
   "cell_type": "code",
   "execution_count": 0,
   "metadata": {
    "cell_id": "0ea10b831ed0496e9bfbb86798b754b4",
    "deepnote_app_coordinates": {
     "h": 5,
     "w": 12,
     "x": 0,
     "y": 1050
    },
    "deepnote_cell_type": "code",
    "deepnote_to_be_reexecuted": true,
    "execution_millis": 29789285087,
    "execution_start": 1653452678688,
    "output_cleared": false,
    "source_hash": "b623e53d",
    "tags": []
   },
   "outputs": [],
   "source": []
  },
  {
   "cell_type": "code",
   "execution_count": 0,
   "metadata": {
    "cell_id": "ff6d6fee880841adb4d667420cb20efa",
    "deepnote_app_coordinates": {
     "h": 5,
     "w": 12,
     "x": 0,
     "y": 1056
    },
    "deepnote_cell_type": "code",
    "deepnote_to_be_reexecuted": true,
    "execution_millis": 29789285084,
    "execution_start": 1653452678692,
    "output_cleared": false,
    "source_hash": "b623e53d",
    "tags": []
   },
   "outputs": [],
   "source": []
  },
  {
   "cell_type": "code",
   "execution_count": 0,
   "metadata": {
    "cell_id": "184498cbdeca4b74b62f7d76a2a220ef",
    "deepnote_app_coordinates": {
     "h": 5,
     "w": 12,
     "x": 0,
     "y": 1062
    },
    "deepnote_cell_type": "code",
    "deepnote_to_be_reexecuted": true,
    "execution_millis": 29789285055,
    "execution_start": 1653452678722,
    "output_cleared": false,
    "source_hash": "b623e53d",
    "tags": []
   },
   "outputs": [],
   "source": []
  },
  {
   "cell_type": "code",
   "execution_count": 0,
   "metadata": {
    "cell_id": "1bd33a9a8b234a9cbc1c55afa36b2d0b",
    "deepnote_app_coordinates": {
     "h": 5,
     "w": 12,
     "x": 0,
     "y": 1068
    },
    "deepnote_cell_type": "code",
    "deepnote_to_be_reexecuted": true,
    "execution_millis": 29789285055,
    "execution_start": 1653452678723,
    "output_cleared": false,
    "source_hash": "b623e53d",
    "tags": []
   },
   "outputs": [],
   "source": []
  },
  {
   "cell_type": "code",
   "execution_count": 0,
   "metadata": {
    "cell_id": "55e9889960144092b6f3594ebd900dbe",
    "deepnote_app_coordinates": {
     "h": 5,
     "w": 12,
     "x": 0,
     "y": 1074
    },
    "deepnote_cell_type": "code",
    "deepnote_to_be_reexecuted": true,
    "execution_millis": 29789285055,
    "execution_start": 1653452678723,
    "output_cleared": false,
    "source_hash": "b623e53d",
    "tags": []
   },
   "outputs": [],
   "source": []
  },
  {
   "cell_type": "code",
   "execution_count": 0,
   "metadata": {
    "cell_id": "821c4a304997426f844be9c4b596e021",
    "deepnote_app_coordinates": {
     "h": 5,
     "w": 12,
     "x": 0,
     "y": 1080
    },
    "deepnote_cell_type": "code",
    "deepnote_to_be_reexecuted": true,
    "execution_millis": 29789285056,
    "execution_start": 1653452678723,
    "output_cleared": false,
    "source_hash": "b623e53d",
    "tags": []
   },
   "outputs": [],
   "source": []
  },
  {
   "cell_type": "markdown",
   "metadata": {
    "cell_id": "96b74e07a4b940699f401262e06d4201",
    "deepnote_app_coordinates": {
     "h": 5,
     "w": 12,
     "x": 0,
     "y": 1086
    },
    "deepnote_cell_type": "markdown",
    "deepnote_to_be_reexecuted": false,
    "execution_start": 1652938459978,
    "source_hash": "b623e53d",
    "tags": []
   },
   "source": [
    "# Paradoja de Simpson"
   ]
  },
  {
   "cell_type": "code",
   "execution_count": 0,
   "metadata": {
    "cell_id": "a5900c4a5b7e4b738c1f8456b0d8294a",
    "deepnote_app_coordinates": {
     "h": 5,
     "w": 12,
     "x": 0,
     "y": 1092
    },
    "deepnote_cell_type": "code",
    "deepnote_to_be_reexecuted": true,
    "execution_millis": 29789285055,
    "execution_start": 1653452678724,
    "output_cleared": false,
    "source_hash": "b623e53d",
    "tags": []
   },
   "outputs": [],
   "source": []
  },
  {
   "cell_type": "code",
   "execution_count": 0,
   "metadata": {
    "cell_id": "8fd491f5aedb42c6aa5d9fd62eb26c9f",
    "deepnote_app_coordinates": {
     "h": 5,
     "w": 12,
     "x": 0,
     "y": 1098
    },
    "deepnote_cell_type": "code",
    "deepnote_to_be_reexecuted": true,
    "execution_millis": 29789285051,
    "execution_start": 1653452678728,
    "output_cleared": false,
    "source_hash": "b623e53d",
    "tags": []
   },
   "outputs": [],
   "source": []
  },
  {
   "cell_type": "code",
   "execution_count": 0,
   "metadata": {
    "cell_id": "8740ef9847a84ecf8be6629275edbed3",
    "deepnote_app_coordinates": {
     "h": 5,
     "w": 12,
     "x": 0,
     "y": 1104
    },
    "deepnote_cell_type": "code",
    "deepnote_to_be_reexecuted": true,
    "execution_millis": 29789285050,
    "execution_start": 1653452678729,
    "output_cleared": false,
    "source_hash": "b623e53d",
    "tags": []
   },
   "outputs": [],
   "source": []
  },
  {
   "cell_type": "code",
   "execution_count": 0,
   "metadata": {
    "cell_id": "e2ee146fffb64bb1acdd8dbcf05a182a",
    "deepnote_app_coordinates": {
     "h": 5,
     "w": 12,
     "x": 0,
     "y": 1110
    },
    "deepnote_cell_type": "code",
    "deepnote_to_be_reexecuted": true,
    "execution_millis": 29789285049,
    "execution_start": 1653452678731,
    "output_cleared": false,
    "source_hash": "b623e53d",
    "tags": []
   },
   "outputs": [],
   "source": []
  },
  {
   "cell_type": "code",
   "execution_count": 79,
   "metadata": {
    "cell_id": "ed1b07ce62f447d0a3f5469706911fb2",
    "deepnote_app_coordinates": {
     "h": 5,
     "w": 12,
     "x": 0,
     "y": 0
    },
    "deepnote_cell_type": "code",
    "deepnote_to_be_reexecuted": true,
    "execution_millis": 7079,
    "execution_start": 1684898162072,
    "source_hash": "42e4a739",
    "tags": []
   },
   "outputs": [],
   "source": [
    "sns.pairplot(\n",
    "    data=processed_penguins_df,\n",
    "    hue='species',\n",
    "    palette=penguin_color\n",
    ")"
   ]
  },
  {
   "cell_type": "markdown",
   "metadata": {
    "cell_id": "9082f0995a174a7ca731fa0ec816862f",
    "deepnote_app_coordinates": {
     "h": 5,
     "w": 12,
     "x": 0,
     "y": 0
    },
    "deepnote_cell_type": "text-cell-h2",
    "formattedRanges": [],
    "is_collapsed": false,
    "tags": []
   },
   "source": [
    "## Información de sesión"
   ]
  },
  {
   "cell_type": "code",
   "execution_count": 78,
   "metadata": {
    "cell_id": "91b677bb8dd840b890e8ae31275ee3b5",
    "deepnote_app_coordinates": {
     "h": 5,
     "w": 12,
     "x": 0,
     "y": 0
    },
    "deepnote_cell_type": "code",
    "deepnote_to_be_reexecuted": true,
    "execution_millis": 1252,
    "execution_start": 1684898058316,
    "source_hash": "e8587130",
    "tags": []
   },
   "outputs": [],
   "source": [
    "session_info.show()"
   ]
  },
  {
   "cell_type": "code",
   "execution_count": null,
   "metadata": {
    "cell_id": "ad11b8ee76d94f8b99c4eda06e601b2f",
    "deepnote_cell_type": "code",
    "deepnote_to_be_reexecuted": true,
    "source_hash": "b623e53d"
   },
   "outputs": [],
   "source": []
  },
  {
   "cell_type": "markdown",
   "metadata": {
    "created_in_deepnote_cell": true,
    "deepnote_cell_type": "markdown"
   },
   "source": [
    "<a style='text-decoration:none;line-height:16px;display:flex;color:#5B5B62;padding:10px;justify-content:end;' href='https://deepnote.com?utm_source=created-in-deepnote-cell&projectId=218f90d7-c06d-43f4-9d79-1c0a7a6997a8' target=\"_blank\">\n",
    "<img alt='Created in deepnote.com' style='display:inline;max-height:16px;margin:0px;margin-right:7.5px;' src='data:image/svg+xml;base64,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' > </img>\n",
    "Created in <span style='font-weight:600;margin-left:4px;'>Deepnote</span></a>"
   ]
  }
 ],
 "metadata": {
  "deepnote": {},
  "deepnote_app_layout": "article",
  "deepnote_execution_queue": [],
  "deepnote_notebook_id": "938c12a6c0374a539a113173aa246a98",
  "deepnote_persisted_session": {
   "createdAt": "2023-05-25T01:31:18.861Z"
  },
  "kernelspec": {
   "display_name": "Python 3",
   "language": "python",
   "name": "python3"
  },
  "language_info": {
   "codemirror_mode": {
    "name": "ipython",
    "version": 3
   },
   "file_extension": ".py",
   "mimetype": "text/x-python",
   "name": "python",
   "nbconvert_exporter": "python",
   "pygments_lexer": "ipython3",
   "version": "3.8.3"
  }
 },
 "nbformat": 4,
 "nbformat_minor": 1
}
